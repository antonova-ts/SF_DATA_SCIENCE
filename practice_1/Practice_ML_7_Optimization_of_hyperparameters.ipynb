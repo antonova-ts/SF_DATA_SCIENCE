{
  "cells": [
    {
      "cell_type": "markdown",
      "metadata": {
        "id": "ThPF9mQz5hiH"
      },
      "source": [
        "# <center> Практика. Оптимизация гиперпарметров модели"
      ]
    },
    {
      "cell_type": "markdown",
      "metadata": {
        "id": "m1bFfDH45hiO"
      },
      "source": [
        "## <center> Предсказание биологического ответа молекул по их химическому составу"
      ]
    },
    {
      "cell_type": "markdown",
      "metadata": {
        "id": "B7_R7N1b5hiS"
      },
      "source": [
        "### Постановка задачи"
      ]
    },
    {
      "cell_type": "markdown",
      "metadata": {
        "id": "xG9q_lOR5hiS"
      },
      "source": [
        "Необходимо предсказать биологический ответ молекул (столбец 'Activity') по их химическому составу (столбцы D1-D1776). Предварительная обработка не требуется, данные уже закодированы и нормализованы.\n",
        "\n",
        "В качестве метрики будем использовать F1-score.\n",
        "\n",
        "Необходимо обучить две модели: логистическую регрессию и случайный лес. Далее нужно сделать подбор гиперпараметров с помощью базовых и продвинутых методов оптимизации. Важно использовать все четыре метода (GridSeachCV, RandomizedSearchCV, Hyperopt, Optuna) хотя бы по разу, максимальное количество итераций не должно превышать 50."
      ]
    },
    {
      "cell_type": "code",
      "execution_count": null,
      "metadata": {
        "colab": {
          "base_uri": "https://localhost:8080/"
        },
        "id": "_vItpqKA5hiZ",
        "outputId": "bc6555c4-7548-474a-d0d0-1f2ec07ab0a9"
      },
      "outputs": [
        {
          "output_type": "stream",
          "name": "stdout",
          "text": [
            "Collecting hyperopt\n",
            "  Downloading hyperopt-0.2.7-py2.py3-none-any.whl.metadata (1.7 kB)\n",
            "Requirement already satisfied: numpy in /usr/local/lib/python3.11/dist-packages (from hyperopt) (1.26.4)\n",
            "Requirement already satisfied: scipy in /usr/local/lib/python3.11/dist-packages (from hyperopt) (1.13.1)\n",
            "Requirement already satisfied: six in /usr/local/lib/python3.11/dist-packages (from hyperopt) (1.17.0)\n",
            "Requirement already satisfied: networkx>=2.2 in /usr/local/lib/python3.11/dist-packages (from hyperopt) (3.4.2)\n",
            "Collecting future (from hyperopt)\n",
            "  Downloading future-1.0.0-py3-none-any.whl.metadata (4.0 kB)\n",
            "Requirement already satisfied: tqdm in /usr/local/lib/python3.11/dist-packages (from hyperopt) (4.67.1)\n",
            "Requirement already satisfied: cloudpickle in /usr/local/lib/python3.11/dist-packages (from hyperopt) (3.1.1)\n",
            "Collecting py4j (from hyperopt)\n",
            "  Downloading py4j-0.10.9.9-py2.py3-none-any.whl.metadata (1.3 kB)\n",
            "Downloading hyperopt-0.2.7-py2.py3-none-any.whl (1.6 MB)\n",
            "\u001b[2K   \u001b[90m━━━━━━━━━━━━━━━━━━━━━━━━━━━━━━━━━━━━━━━━\u001b[0m \u001b[32m1.6/1.6 MB\u001b[0m \u001b[31m9.9 MB/s\u001b[0m eta \u001b[36m0:00:00\u001b[0m\n",
            "\u001b[?25hDownloading future-1.0.0-py3-none-any.whl (491 kB)\n",
            "\u001b[2K   \u001b[90m━━━━━━━━━━━━━━━━━━━━━━━━━━━━━━━━━━━━━━━━\u001b[0m \u001b[32m491.3/491.3 kB\u001b[0m \u001b[31m21.7 MB/s\u001b[0m eta \u001b[36m0:00:00\u001b[0m\n",
            "\u001b[?25hDownloading py4j-0.10.9.9-py2.py3-none-any.whl (203 kB)\n",
            "\u001b[2K   \u001b[90m━━━━━━━━━━━━━━━━━━━━━━━━━━━━━━━━━━━━━━━━\u001b[0m \u001b[32m203.0/203.0 kB\u001b[0m \u001b[31m14.7 MB/s\u001b[0m eta \u001b[36m0:00:00\u001b[0m\n",
            "\u001b[?25hInstalling collected packages: py4j, future, hyperopt\n",
            "Successfully installed future-1.0.0 hyperopt-0.2.7 py4j-0.10.9.9\n",
            "Collecting optuna\n",
            "  Downloading optuna-4.2.1-py3-none-any.whl.metadata (17 kB)\n",
            "Collecting alembic>=1.5.0 (from optuna)\n",
            "  Downloading alembic-1.14.1-py3-none-any.whl.metadata (7.4 kB)\n",
            "Collecting colorlog (from optuna)\n",
            "  Downloading colorlog-6.9.0-py3-none-any.whl.metadata (10 kB)\n",
            "Requirement already satisfied: numpy in /usr/local/lib/python3.11/dist-packages (from optuna) (1.26.4)\n",
            "Requirement already satisfied: packaging>=20.0 in /usr/local/lib/python3.11/dist-packages (from optuna) (24.2)\n",
            "Collecting sqlalchemy>=1.4.2 (from optuna)\n",
            "  Downloading SQLAlchemy-2.0.38-cp311-cp311-manylinux_2_17_x86_64.manylinux2014_x86_64.whl.metadata (9.6 kB)\n",
            "Requirement already satisfied: tqdm in /usr/local/lib/python3.11/dist-packages (from optuna) (4.67.1)\n",
            "Requirement already satisfied: PyYAML in /usr/local/lib/python3.11/dist-packages (from optuna) (6.0.2)\n",
            "Collecting Mako (from alembic>=1.5.0->optuna)\n",
            "  Downloading Mako-1.3.9-py3-none-any.whl.metadata (2.9 kB)\n",
            "Requirement already satisfied: typing-extensions>=4 in /usr/local/lib/python3.11/dist-packages (from alembic>=1.5.0->optuna) (4.12.2)\n",
            "Collecting greenlet!=0.4.17 (from sqlalchemy>=1.4.2->optuna)\n",
            "  Downloading greenlet-3.1.1-cp311-cp311-manylinux_2_24_x86_64.manylinux_2_28_x86_64.whl.metadata (3.8 kB)\n",
            "Requirement already satisfied: MarkupSafe>=0.9.2 in /usr/local/lib/python3.11/dist-packages (from Mako->alembic>=1.5.0->optuna) (3.0.2)\n",
            "Downloading optuna-4.2.1-py3-none-any.whl (383 kB)\n",
            "\u001b[2K   \u001b[90m━━━━━━━━━━━━━━━━━━━━━━━━━━━━━━━━━━━━━━━━\u001b[0m \u001b[32m383.6/383.6 kB\u001b[0m \u001b[31m7.8 MB/s\u001b[0m eta \u001b[36m0:00:00\u001b[0m\n",
            "\u001b[?25hDownloading alembic-1.14.1-py3-none-any.whl (233 kB)\n",
            "\u001b[2K   \u001b[90m━━━━━━━━━━━━━━━━━━━━━━━━━━━━━━━━━━━━━━━━\u001b[0m \u001b[32m233.6/233.6 kB\u001b[0m \u001b[31m17.0 MB/s\u001b[0m eta \u001b[36m0:00:00\u001b[0m\n",
            "\u001b[?25hDownloading SQLAlchemy-2.0.38-cp311-cp311-manylinux_2_17_x86_64.manylinux2014_x86_64.whl (3.2 MB)\n",
            "\u001b[2K   \u001b[90m━━━━━━━━━━━━━━━━━━━━━━━━━━━━━━━━━━━━━━━━\u001b[0m \u001b[32m3.2/3.2 MB\u001b[0m \u001b[31m61.8 MB/s\u001b[0m eta \u001b[36m0:00:00\u001b[0m\n",
            "\u001b[?25hDownloading colorlog-6.9.0-py3-none-any.whl (11 kB)\n",
            "Downloading greenlet-3.1.1-cp311-cp311-manylinux_2_24_x86_64.manylinux_2_28_x86_64.whl (602 kB)\n",
            "\u001b[2K   \u001b[90m━━━━━━━━━━━━━━━━━━━━━━━━━━━━━━━━━━━━━━━━\u001b[0m \u001b[32m602.4/602.4 kB\u001b[0m \u001b[31m30.6 MB/s\u001b[0m eta \u001b[36m0:00:00\u001b[0m\n",
            "\u001b[?25hDownloading Mako-1.3.9-py3-none-any.whl (78 kB)\n",
            "\u001b[2K   \u001b[90m━━━━━━━━━━━━━━━━━━━━━━━━━━━━━━━━━━━━━━━━\u001b[0m \u001b[32m78.5/78.5 kB\u001b[0m \u001b[31m5.4 MB/s\u001b[0m eta \u001b[36m0:00:00\u001b[0m\n",
            "\u001b[?25hInstalling collected packages: Mako, greenlet, colorlog, sqlalchemy, alembic, optuna\n",
            "Successfully installed Mako-1.3.9 alembic-1.14.1 colorlog-6.9.0 greenlet-3.1.1 optuna-4.2.1 sqlalchemy-2.0.38\n"
          ]
        }
      ],
      "source": [
        "# Устанавливаем библиотеки\n",
        "!pip install hyperopt\n",
        "!pip install optuna"
      ]
    },
    {
      "cell_type": "code",
      "execution_count": null,
      "metadata": {
        "id": "M0yOVE2d5hih"
      },
      "outputs": [],
      "source": [
        "#импорт библиотек\n",
        "import numpy as np #для матричных вычислений\n",
        "import pandas as pd #для анализа и предобработки данных\n",
        "import matplotlib.pyplot as plt #для визуализации\n",
        "import seaborn as sns #для визуализации\n",
        "\n",
        "from sklearn import linear_model #линейные модели\n",
        "from sklearn import tree #деревья решений\n",
        "from sklearn import ensemble #ансамбли\n",
        "from sklearn import metrics #метрики\n",
        "from sklearn import preprocessing #предобработка\n",
        "from sklearn.model_selection import train_test_split #сплитование выборки\n",
        "from sklearn.model_selection import cross_val_score #кросс-валидация\n",
        "\n",
        "# Библиотеки для оптимизации гиперпараметров\n",
        "from sklearn.model_selection import GridSearchCV\n",
        "from sklearn.model_selection import RandomizedSearchCV\n",
        "import hyperopt\n",
        "from hyperopt import hp, fmin, tpe, Trials, STATUS_OK\n",
        "import optuna\n",
        "\n",
        "# Скрываем warnings\n",
        "import warnings\n",
        "warnings.filterwarnings('ignore', category=FutureWarning)\n",
        "warnings.filterwarnings('ignore', category=UserWarning)\n",
        "\n",
        "%matplotlib inline\n",
        "plt.style.use('seaborn-v0_8')"
      ]
    },
    {
      "cell_type": "markdown",
      "metadata": {
        "id": "Ouz14VN95hiq"
      },
      "source": [
        "### Знакомство с данными"
      ]
    },
    {
      "cell_type": "code",
      "source": [
        "# Скачиваем датасет с Google диска\n",
        "!wget \"https://drive.google.com/uc?export=download&id=16XN1UyY2dN5ffE8thy08zMQUQ5DJcITz\" -O _train_sem09.csv"
      ],
      "metadata": {
        "colab": {
          "base_uri": "https://localhost:8080/"
        },
        "id": "BVAd4TPMO2Xz",
        "outputId": "7c9a07a1-7941-4e5d-d5fb-01867c36825e"
      },
      "execution_count": null,
      "outputs": [
        {
          "output_type": "stream",
          "name": "stdout",
          "text": [
            "--2025-02-17 16:39:51--  https://drive.google.com/uc?export=download&id=16XN1UyY2dN5ffE8thy08zMQUQ5DJcITz\n",
            "Resolving drive.google.com (drive.google.com)... 74.125.126.100, 74.125.126.113, 74.125.126.138, ...\n",
            "Connecting to drive.google.com (drive.google.com)|74.125.126.100|:443... connected.\n",
            "HTTP request sent, awaiting response... 303 See Other\n",
            "Location: https://drive.usercontent.google.com/download?id=16XN1UyY2dN5ffE8thy08zMQUQ5DJcITz&export=download [following]\n",
            "--2025-02-17 16:39:52--  https://drive.usercontent.google.com/download?id=16XN1UyY2dN5ffE8thy08zMQUQ5DJcITz&export=download\n",
            "Resolving drive.usercontent.google.com (drive.usercontent.google.com)... 142.250.125.132, 2607:f8b0:4001:c2f::84\n",
            "Connecting to drive.usercontent.google.com (drive.usercontent.google.com)|142.250.125.132|:443... connected.\n",
            "HTTP request sent, awaiting response... 200 OK\n",
            "Length: 18623278 (18M) [application/octet-stream]\n",
            "Saving to: ‘_train_sem09.csv’\n",
            "\n",
            "_train_sem09.csv    100%[===================>]  17.76M  43.0MB/s    in 0.4s    \n",
            "\n",
            "2025-02-17 16:39:57 (43.0 MB/s) - ‘_train_sem09.csv’ saved [18623278/18623278]\n",
            "\n"
          ]
        }
      ]
    },
    {
      "cell_type": "code",
      "execution_count": null,
      "metadata": {
        "colab": {
          "base_uri": "https://localhost:8080/",
          "height": 236
        },
        "id": "vhBHUQES5hiu",
        "outputId": "9120c4ed-f125-4525-aeec-6aa595f38ac3"
      },
      "outputs": [
        {
          "output_type": "execute_result",
          "data": {
            "text/plain": [
              "   Activity        D1        D2    D3   D4        D5        D6        D7  \\\n",
              "0         1  0.000000  0.497009  0.10  0.0  0.132956  0.678031  0.273166   \n",
              "1         1  0.366667  0.606291  0.05  0.0  0.111209  0.803455  0.106105   \n",
              "2         1  0.033300  0.480124  0.00  0.0  0.209791  0.610350  0.356453   \n",
              "3         1  0.000000  0.538825  0.00  0.5  0.196344  0.724230  0.235606   \n",
              "4         0  0.100000  0.517794  0.00  0.0  0.494734  0.781422  0.154361   \n",
              "\n",
              "         D8        D9  ...  D1767  D1768  D1769  D1770  D1771  D1772  D1773  \\\n",
              "0  0.585445  0.743663  ...      0      0      0      0      0      0      0   \n",
              "1  0.411754  0.836582  ...      1      1      1      1      0      1      0   \n",
              "2  0.517720  0.679051  ...      0      0      0      0      0      0      0   \n",
              "3  0.288764  0.805110  ...      0      0      0      0      0      0      0   \n",
              "4  0.303809  0.812646  ...      0      0      0      0      0      0      0   \n",
              "\n",
              "   D1774  D1775  D1776  \n",
              "0      0      0      0  \n",
              "1      0      1      0  \n",
              "2      0      0      0  \n",
              "3      0      0      0  \n",
              "4      0      0      0  \n",
              "\n",
              "[5 rows x 1777 columns]"
            ],
            "text/html": [
              "\n",
              "  <div id=\"df-85d35cb6-3614-4714-95fa-3476e0938701\" class=\"colab-df-container\">\n",
              "    <div>\n",
              "<style scoped>\n",
              "    .dataframe tbody tr th:only-of-type {\n",
              "        vertical-align: middle;\n",
              "    }\n",
              "\n",
              "    .dataframe tbody tr th {\n",
              "        vertical-align: top;\n",
              "    }\n",
              "\n",
              "    .dataframe thead th {\n",
              "        text-align: right;\n",
              "    }\n",
              "</style>\n",
              "<table border=\"1\" class=\"dataframe\">\n",
              "  <thead>\n",
              "    <tr style=\"text-align: right;\">\n",
              "      <th></th>\n",
              "      <th>Activity</th>\n",
              "      <th>D1</th>\n",
              "      <th>D2</th>\n",
              "      <th>D3</th>\n",
              "      <th>D4</th>\n",
              "      <th>D5</th>\n",
              "      <th>D6</th>\n",
              "      <th>D7</th>\n",
              "      <th>D8</th>\n",
              "      <th>D9</th>\n",
              "      <th>...</th>\n",
              "      <th>D1767</th>\n",
              "      <th>D1768</th>\n",
              "      <th>D1769</th>\n",
              "      <th>D1770</th>\n",
              "      <th>D1771</th>\n",
              "      <th>D1772</th>\n",
              "      <th>D1773</th>\n",
              "      <th>D1774</th>\n",
              "      <th>D1775</th>\n",
              "      <th>D1776</th>\n",
              "    </tr>\n",
              "  </thead>\n",
              "  <tbody>\n",
              "    <tr>\n",
              "      <th>0</th>\n",
              "      <td>1</td>\n",
              "      <td>0.000000</td>\n",
              "      <td>0.497009</td>\n",
              "      <td>0.10</td>\n",
              "      <td>0.0</td>\n",
              "      <td>0.132956</td>\n",
              "      <td>0.678031</td>\n",
              "      <td>0.273166</td>\n",
              "      <td>0.585445</td>\n",
              "      <td>0.743663</td>\n",
              "      <td>...</td>\n",
              "      <td>0</td>\n",
              "      <td>0</td>\n",
              "      <td>0</td>\n",
              "      <td>0</td>\n",
              "      <td>0</td>\n",
              "      <td>0</td>\n",
              "      <td>0</td>\n",
              "      <td>0</td>\n",
              "      <td>0</td>\n",
              "      <td>0</td>\n",
              "    </tr>\n",
              "    <tr>\n",
              "      <th>1</th>\n",
              "      <td>1</td>\n",
              "      <td>0.366667</td>\n",
              "      <td>0.606291</td>\n",
              "      <td>0.05</td>\n",
              "      <td>0.0</td>\n",
              "      <td>0.111209</td>\n",
              "      <td>0.803455</td>\n",
              "      <td>0.106105</td>\n",
              "      <td>0.411754</td>\n",
              "      <td>0.836582</td>\n",
              "      <td>...</td>\n",
              "      <td>1</td>\n",
              "      <td>1</td>\n",
              "      <td>1</td>\n",
              "      <td>1</td>\n",
              "      <td>0</td>\n",
              "      <td>1</td>\n",
              "      <td>0</td>\n",
              "      <td>0</td>\n",
              "      <td>1</td>\n",
              "      <td>0</td>\n",
              "    </tr>\n",
              "    <tr>\n",
              "      <th>2</th>\n",
              "      <td>1</td>\n",
              "      <td>0.033300</td>\n",
              "      <td>0.480124</td>\n",
              "      <td>0.00</td>\n",
              "      <td>0.0</td>\n",
              "      <td>0.209791</td>\n",
              "      <td>0.610350</td>\n",
              "      <td>0.356453</td>\n",
              "      <td>0.517720</td>\n",
              "      <td>0.679051</td>\n",
              "      <td>...</td>\n",
              "      <td>0</td>\n",
              "      <td>0</td>\n",
              "      <td>0</td>\n",
              "      <td>0</td>\n",
              "      <td>0</td>\n",
              "      <td>0</td>\n",
              "      <td>0</td>\n",
              "      <td>0</td>\n",
              "      <td>0</td>\n",
              "      <td>0</td>\n",
              "    </tr>\n",
              "    <tr>\n",
              "      <th>3</th>\n",
              "      <td>1</td>\n",
              "      <td>0.000000</td>\n",
              "      <td>0.538825</td>\n",
              "      <td>0.00</td>\n",
              "      <td>0.5</td>\n",
              "      <td>0.196344</td>\n",
              "      <td>0.724230</td>\n",
              "      <td>0.235606</td>\n",
              "      <td>0.288764</td>\n",
              "      <td>0.805110</td>\n",
              "      <td>...</td>\n",
              "      <td>0</td>\n",
              "      <td>0</td>\n",
              "      <td>0</td>\n",
              "      <td>0</td>\n",
              "      <td>0</td>\n",
              "      <td>0</td>\n",
              "      <td>0</td>\n",
              "      <td>0</td>\n",
              "      <td>0</td>\n",
              "      <td>0</td>\n",
              "    </tr>\n",
              "    <tr>\n",
              "      <th>4</th>\n",
              "      <td>0</td>\n",
              "      <td>0.100000</td>\n",
              "      <td>0.517794</td>\n",
              "      <td>0.00</td>\n",
              "      <td>0.0</td>\n",
              "      <td>0.494734</td>\n",
              "      <td>0.781422</td>\n",
              "      <td>0.154361</td>\n",
              "      <td>0.303809</td>\n",
              "      <td>0.812646</td>\n",
              "      <td>...</td>\n",
              "      <td>0</td>\n",
              "      <td>0</td>\n",
              "      <td>0</td>\n",
              "      <td>0</td>\n",
              "      <td>0</td>\n",
              "      <td>0</td>\n",
              "      <td>0</td>\n",
              "      <td>0</td>\n",
              "      <td>0</td>\n",
              "      <td>0</td>\n",
              "    </tr>\n",
              "  </tbody>\n",
              "</table>\n",
              "<p>5 rows × 1777 columns</p>\n",
              "</div>\n",
              "    <div class=\"colab-df-buttons\">\n",
              "\n",
              "  <div class=\"colab-df-container\">\n",
              "    <button class=\"colab-df-convert\" onclick=\"convertToInteractive('df-85d35cb6-3614-4714-95fa-3476e0938701')\"\n",
              "            title=\"Convert this dataframe to an interactive table.\"\n",
              "            style=\"display:none;\">\n",
              "\n",
              "  <svg xmlns=\"http://www.w3.org/2000/svg\" height=\"24px\" viewBox=\"0 -960 960 960\">\n",
              "    <path d=\"M120-120v-720h720v720H120Zm60-500h600v-160H180v160Zm220 220h160v-160H400v160Zm0 220h160v-160H400v160ZM180-400h160v-160H180v160Zm440 0h160v-160H620v160ZM180-180h160v-160H180v160Zm440 0h160v-160H620v160Z\"/>\n",
              "  </svg>\n",
              "    </button>\n",
              "\n",
              "  <style>\n",
              "    .colab-df-container {\n",
              "      display:flex;\n",
              "      gap: 12px;\n",
              "    }\n",
              "\n",
              "    .colab-df-convert {\n",
              "      background-color: #E8F0FE;\n",
              "      border: none;\n",
              "      border-radius: 50%;\n",
              "      cursor: pointer;\n",
              "      display: none;\n",
              "      fill: #1967D2;\n",
              "      height: 32px;\n",
              "      padding: 0 0 0 0;\n",
              "      width: 32px;\n",
              "    }\n",
              "\n",
              "    .colab-df-convert:hover {\n",
              "      background-color: #E2EBFA;\n",
              "      box-shadow: 0px 1px 2px rgba(60, 64, 67, 0.3), 0px 1px 3px 1px rgba(60, 64, 67, 0.15);\n",
              "      fill: #174EA6;\n",
              "    }\n",
              "\n",
              "    .colab-df-buttons div {\n",
              "      margin-bottom: 4px;\n",
              "    }\n",
              "\n",
              "    [theme=dark] .colab-df-convert {\n",
              "      background-color: #3B4455;\n",
              "      fill: #D2E3FC;\n",
              "    }\n",
              "\n",
              "    [theme=dark] .colab-df-convert:hover {\n",
              "      background-color: #434B5C;\n",
              "      box-shadow: 0px 1px 3px 1px rgba(0, 0, 0, 0.15);\n",
              "      filter: drop-shadow(0px 1px 2px rgba(0, 0, 0, 0.3));\n",
              "      fill: #FFFFFF;\n",
              "    }\n",
              "  </style>\n",
              "\n",
              "    <script>\n",
              "      const buttonEl =\n",
              "        document.querySelector('#df-85d35cb6-3614-4714-95fa-3476e0938701 button.colab-df-convert');\n",
              "      buttonEl.style.display =\n",
              "        google.colab.kernel.accessAllowed ? 'block' : 'none';\n",
              "\n",
              "      async function convertToInteractive(key) {\n",
              "        const element = document.querySelector('#df-85d35cb6-3614-4714-95fa-3476e0938701');\n",
              "        const dataTable =\n",
              "          await google.colab.kernel.invokeFunction('convertToInteractive',\n",
              "                                                    [key], {});\n",
              "        if (!dataTable) return;\n",
              "\n",
              "        const docLinkHtml = 'Like what you see? Visit the ' +\n",
              "          '<a target=\"_blank\" href=https://colab.research.google.com/notebooks/data_table.ipynb>data table notebook</a>'\n",
              "          + ' to learn more about interactive tables.';\n",
              "        element.innerHTML = '';\n",
              "        dataTable['output_type'] = 'display_data';\n",
              "        await google.colab.output.renderOutput(dataTable, element);\n",
              "        const docLink = document.createElement('div');\n",
              "        docLink.innerHTML = docLinkHtml;\n",
              "        element.appendChild(docLink);\n",
              "      }\n",
              "    </script>\n",
              "  </div>\n",
              "\n",
              "\n",
              "<div id=\"df-c64315b2-11c5-495d-9e3c-5d9d7b253be7\">\n",
              "  <button class=\"colab-df-quickchart\" onclick=\"quickchart('df-c64315b2-11c5-495d-9e3c-5d9d7b253be7')\"\n",
              "            title=\"Suggest charts\"\n",
              "            style=\"display:none;\">\n",
              "\n",
              "<svg xmlns=\"http://www.w3.org/2000/svg\" height=\"24px\"viewBox=\"0 0 24 24\"\n",
              "     width=\"24px\">\n",
              "    <g>\n",
              "        <path d=\"M19 3H5c-1.1 0-2 .9-2 2v14c0 1.1.9 2 2 2h14c1.1 0 2-.9 2-2V5c0-1.1-.9-2-2-2zM9 17H7v-7h2v7zm4 0h-2V7h2v10zm4 0h-2v-4h2v4z\"/>\n",
              "    </g>\n",
              "</svg>\n",
              "  </button>\n",
              "\n",
              "<style>\n",
              "  .colab-df-quickchart {\n",
              "      --bg-color: #E8F0FE;\n",
              "      --fill-color: #1967D2;\n",
              "      --hover-bg-color: #E2EBFA;\n",
              "      --hover-fill-color: #174EA6;\n",
              "      --disabled-fill-color: #AAA;\n",
              "      --disabled-bg-color: #DDD;\n",
              "  }\n",
              "\n",
              "  [theme=dark] .colab-df-quickchart {\n",
              "      --bg-color: #3B4455;\n",
              "      --fill-color: #D2E3FC;\n",
              "      --hover-bg-color: #434B5C;\n",
              "      --hover-fill-color: #FFFFFF;\n",
              "      --disabled-bg-color: #3B4455;\n",
              "      --disabled-fill-color: #666;\n",
              "  }\n",
              "\n",
              "  .colab-df-quickchart {\n",
              "    background-color: var(--bg-color);\n",
              "    border: none;\n",
              "    border-radius: 50%;\n",
              "    cursor: pointer;\n",
              "    display: none;\n",
              "    fill: var(--fill-color);\n",
              "    height: 32px;\n",
              "    padding: 0;\n",
              "    width: 32px;\n",
              "  }\n",
              "\n",
              "  .colab-df-quickchart:hover {\n",
              "    background-color: var(--hover-bg-color);\n",
              "    box-shadow: 0 1px 2px rgba(60, 64, 67, 0.3), 0 1px 3px 1px rgba(60, 64, 67, 0.15);\n",
              "    fill: var(--button-hover-fill-color);\n",
              "  }\n",
              "\n",
              "  .colab-df-quickchart-complete:disabled,\n",
              "  .colab-df-quickchart-complete:disabled:hover {\n",
              "    background-color: var(--disabled-bg-color);\n",
              "    fill: var(--disabled-fill-color);\n",
              "    box-shadow: none;\n",
              "  }\n",
              "\n",
              "  .colab-df-spinner {\n",
              "    border: 2px solid var(--fill-color);\n",
              "    border-color: transparent;\n",
              "    border-bottom-color: var(--fill-color);\n",
              "    animation:\n",
              "      spin 1s steps(1) infinite;\n",
              "  }\n",
              "\n",
              "  @keyframes spin {\n",
              "    0% {\n",
              "      border-color: transparent;\n",
              "      border-bottom-color: var(--fill-color);\n",
              "      border-left-color: var(--fill-color);\n",
              "    }\n",
              "    20% {\n",
              "      border-color: transparent;\n",
              "      border-left-color: var(--fill-color);\n",
              "      border-top-color: var(--fill-color);\n",
              "    }\n",
              "    30% {\n",
              "      border-color: transparent;\n",
              "      border-left-color: var(--fill-color);\n",
              "      border-top-color: var(--fill-color);\n",
              "      border-right-color: var(--fill-color);\n",
              "    }\n",
              "    40% {\n",
              "      border-color: transparent;\n",
              "      border-right-color: var(--fill-color);\n",
              "      border-top-color: var(--fill-color);\n",
              "    }\n",
              "    60% {\n",
              "      border-color: transparent;\n",
              "      border-right-color: var(--fill-color);\n",
              "    }\n",
              "    80% {\n",
              "      border-color: transparent;\n",
              "      border-right-color: var(--fill-color);\n",
              "      border-bottom-color: var(--fill-color);\n",
              "    }\n",
              "    90% {\n",
              "      border-color: transparent;\n",
              "      border-bottom-color: var(--fill-color);\n",
              "    }\n",
              "  }\n",
              "</style>\n",
              "\n",
              "  <script>\n",
              "    async function quickchart(key) {\n",
              "      const quickchartButtonEl =\n",
              "        document.querySelector('#' + key + ' button');\n",
              "      quickchartButtonEl.disabled = true;  // To prevent multiple clicks.\n",
              "      quickchartButtonEl.classList.add('colab-df-spinner');\n",
              "      try {\n",
              "        const charts = await google.colab.kernel.invokeFunction(\n",
              "            'suggestCharts', [key], {});\n",
              "      } catch (error) {\n",
              "        console.error('Error during call to suggestCharts:', error);\n",
              "      }\n",
              "      quickchartButtonEl.classList.remove('colab-df-spinner');\n",
              "      quickchartButtonEl.classList.add('colab-df-quickchart-complete');\n",
              "    }\n",
              "    (() => {\n",
              "      let quickchartButtonEl =\n",
              "        document.querySelector('#df-c64315b2-11c5-495d-9e3c-5d9d7b253be7 button');\n",
              "      quickchartButtonEl.style.display =\n",
              "        google.colab.kernel.accessAllowed ? 'block' : 'none';\n",
              "    })();\n",
              "  </script>\n",
              "</div>\n",
              "    </div>\n",
              "  </div>\n"
            ],
            "application/vnd.google.colaboratory.intrinsic+json": {
              "type": "dataframe",
              "variable_name": "data"
            }
          },
          "metadata": {},
          "execution_count": 4
        }
      ],
      "source": [
        "data = pd.read_csv('/content/_train_sem09.csv')\n",
        "data.head()"
      ]
    },
    {
      "cell_type": "markdown",
      "metadata": {
        "id": "uNGm3nJX5hix"
      },
      "source": [
        "Предварительная обработка не требуется, данные уже закодированы и нормализованы."
      ]
    },
    {
      "cell_type": "markdown",
      "metadata": {
        "id": "Syae5PGW5hi3"
      },
      "source": [
        "Смотрим на сбалансированность классов:"
      ]
    },
    {
      "cell_type": "code",
      "execution_count": null,
      "metadata": {
        "colab": {
          "base_uri": "https://localhost:8080/",
          "height": 503
        },
        "id": "7MtPKHyi5hi3",
        "outputId": "ce5c2a1d-409d-4628-a410-c2acf745b323"
      },
      "outputs": [
        {
          "output_type": "display_data",
          "data": {
            "text/plain": [
              "<Figure size 800x550 with 1 Axes>"
            ],
            "image/png": "[encoded data removed]"
          },
          "metadata": {}
        }
      ],
      "source": [
        "sns.countplot(data=data, x='Activity');"
      ]
    },
    {
      "cell_type": "markdown",
      "metadata": {
        "id": "daaOdMqc5hi4"
      },
      "source": [
        "Будем считать данные сбалансированными."
      ]
    },
    {
      "cell_type": "markdown",
      "metadata": {
        "id": "3WYYdWlA5hi4"
      },
      "source": [
        "Создаем матрицу наблюдений X и вектор ответов y"
      ]
    },
    {
      "cell_type": "code",
      "execution_count": null,
      "metadata": {
        "id": "1BkNj7GH5hi5"
      },
      "outputs": [],
      "source": [
        "X = data.drop(['Activity'], axis=1)\n",
        "y = data['Activity']"
      ]
    },
    {
      "cell_type": "markdown",
      "metadata": {
        "id": "14gGJQCF5hi5"
      },
      "source": [
        "Разделяем выборку на тренировочную и тестовую в соотношении 80/20."
      ]
    },
    {
      "cell_type": "code",
      "execution_count": null,
      "metadata": {
        "id": "_TQBhOn05hi5"
      },
      "outputs": [],
      "source": [
        "X_train, X_test, y_train, y_test = train_test_split(\n",
        "    X, y, stratify=y, random_state = 42, test_size = 0.2)"
      ]
    },
    {
      "cell_type": "markdown",
      "metadata": {
        "id": "7IzbxeKU5hjC"
      },
      "source": [
        "### Оптимизация гиперпараметров модели"
      ]
    },
    {
      "cell_type": "markdown",
      "metadata": {
        "id": "e0gjShQb5hjC"
      },
      "source": [
        "Зафиксируем метрики, которые были получены без дополнительной настройки, т.е со значениями гиперпараметров, установленных по умолчанию"
      ]
    },
    {
      "cell_type": "markdown",
      "metadata": {
        "id": "6Ey-GWjS5hjC"
      },
      "source": [
        "#### Логистическая регрессия"
      ]
    },
    {
      "cell_type": "code",
      "execution_count": null,
      "metadata": {
        "colab": {
          "base_uri": "https://localhost:8080/"
        },
        "id": "XTyPtVRL5hjI",
        "outputId": "7d67feb0-6e50-4582-8ff4-a9e846d98fac"
      },
      "outputs": [
        {
          "output_type": "stream",
          "name": "stdout",
          "text": [
            "f1_score на тренировочном наборе: 0.88\n",
            "f1_score на тестовом наборе: 0.78\n"
          ]
        }
      ],
      "source": [
        "# зафксируем random_state\n",
        "random_state = 42\n",
        "\n",
        "#Создаем объект класса логистическая регрессия\n",
        "# максимальное количество итераций не должно превышать 50,\n",
        "log_reg = linear_model.LogisticRegression(\n",
        "    max_iter = 50, random_state=random_state)\n",
        "#Обучаем модель, минимизируя logloss\n",
        "log_reg.fit(X_train, y_train)\n",
        "y_train_pred = log_reg.predict(X_train)\n",
        "y_test_pred = log_reg.predict(X_test)\n",
        "print('f1_score на тренировочном наборе: {:.2f}'.format(\n",
        "    metrics.f1_score(y_train, y_train_pred)))\n",
        "print('f1_score на тестовом наборе: {:.2f}'.format(\n",
        "    metrics.f1_score(y_test, y_test_pred)))"
      ]
    },
    {
      "cell_type": "markdown",
      "metadata": {
        "id": "90sbEJaC5hjR"
      },
      "source": [
        "#### Случайный лес"
      ]
    },
    {
      "cell_type": "code",
      "execution_count": null,
      "metadata": {
        "colab": {
          "base_uri": "https://localhost:8080/"
        },
        "id": "rq7UtRN75hjR",
        "outputId": "5e29f8d4-f632-4ef6-8786-a333a8af2750"
      },
      "outputs": [
        {
          "output_type": "stream",
          "name": "stdout",
          "text": [
            "f1_score на тренировочном наборе: 1.00\n",
            "f1_score на тестовом наборе: 0.81\n"
          ]
        }
      ],
      "source": [
        "#Создаем объект класса случайный лес\n",
        "rf = ensemble.RandomForestClassifier(random_state=random_state)\n",
        "\n",
        "#Обучаем модель\n",
        "rf.fit(X_train, y_train)\n",
        "#Выводим значения метрики\n",
        "y_train_pred = rf.predict(X_train)\n",
        "y_test_pred = rf.predict(X_test)\n",
        "print('f1_score на тренировочном наборе: {:.2f}'.format(\n",
        "    metrics.f1_score(y_train, y_train_pred)))\n",
        "print('f1_score на тестовом наборе: {:.2f}'.format(\n",
        "    metrics.f1_score(y_test, y_test_pred)))"
      ]
    },
    {
      "cell_type": "markdown",
      "metadata": {
        "id": "YiKEvsw05hjX"
      },
      "source": [
        "### <center> GridSearchCV"
      ]
    },
    {
      "cell_type": "markdown",
      "metadata": {
        "id": "tTdVV88d5hjX"
      },
      "source": [
        "#### Логистическая регрессия"
      ]
    },
    {
      "cell_type": "code",
      "execution_count": null,
      "metadata": {
        "colab": {
          "base_uri": "https://localhost:8080/"
        },
        "id": "5Gq0ThN15hjZ",
        "outputId": "142ded3a-2d19-4f7d-a70d-aa30aa8f9080"
      },
      "outputs": [
        {
          "output_type": "stream",
          "name": "stdout",
          "text": [
            "CPU times: user 6.78 s, sys: 492 ms, total: 7.27 s\n",
            "Wall time: 2min 55s\n",
            "f1_score на тренировочном наборе: 0.84\n",
            "f1_score на тестовом наборе: 0.78\n",
            "Наилучшие значения гиперпараметров: {'C': 0.34, 'penalty': 'l1', 'solver': 'saga'}\n"
          ]
        }
      ],
      "source": [
        "# Составим сетку гиперпараметров\n",
        "param_grid = [\n",
        "    {'penalty': ['l2', None] , # тип регуляризации\n",
        "     'solver': ['lbfgs', 'sag'], # алгоритм оптимизации\n",
        "     'C': list(np.linspace(0.01, 1, 10, dtype=float))}, # уровень силы регурялизации\n",
        "    {'penalty': ['l1', 'l2'] ,\n",
        "     'solver': ['liblinear', 'saga'],\n",
        "     'C': list(np.linspace(0.01, 1, 10, dtype=float))}\n",
        "]\n",
        "# Создадим объект класса GridSearchCV\n",
        "grid_search_lr = GridSearchCV(\n",
        "    estimator=linear_model.LogisticRegression(\n",
        "        random_state=random_state, max_iter=50),\n",
        "    param_grid=param_grid,\n",
        "    cv=5, # кросс-валидация\n",
        "    scoring='f1', # поменяем score-функцию согласно условию задания\n",
        "    n_jobs = -1\n",
        ")\n",
        "\n",
        "# Замеряем время\n",
        "%time grid_search_lr.fit(X_train, y_train)\n",
        "y_train_pred = grid_search_lr.predict(X_train)\n",
        "print('f1_score на тренировочном наборе: {:.2f}'.format(\n",
        "    metrics.f1_score(y_train, y_train_pred)))\n",
        "y_test_pred = grid_search_lr.predict(X_test)\n",
        "print('f1_score на тестовом наборе: {:.2f}'.format(\n",
        "    metrics.f1_score(y_test, y_test_pred)))\n",
        "print(\"Наилучшие значения гиперпараметров: {}\".format(\n",
        "    grid_search_lr.best_params_))"
      ]
    },
    {
      "cell_type": "markdown",
      "source": [
        "Целевую метрику не удалось улучшить на тестовой выборке."
      ],
      "metadata": {
        "id": "iqmf-G4wbEpA"
      }
    },
    {
      "cell_type": "code",
      "source": [
        "print(\"Наилучшая модель:\\n{}\".format(grid_search_lr.best_estimator_))"
      ],
      "metadata": {
        "colab": {
          "base_uri": "https://localhost:8080/"
        },
        "id": "qMYTYorZWr6X",
        "outputId": "f0bbd43d-e8e9-488f-fed7-eb03b18f9d22"
      },
      "execution_count": null,
      "outputs": [
        {
          "output_type": "stream",
          "name": "stdout",
          "text": [
            "Наилучшая модель:\n",
            "LogisticRegression(C=0.34, max_iter=50, penalty='l1', random_state=42,\n",
            "                   solver='saga')\n"
          ]
        }
      ]
    },
    {
      "cell_type": "code",
      "execution_count": null,
      "metadata": {
        "colab": {
          "base_uri": "https://localhost:8080/"
        },
        "id": "Qc9WAcw_5hja",
        "outputId": "3bdcc571-4d1d-4b39-ebb9-b18e1f37760b"
      },
      "outputs": [
        {
          "output_type": "stream",
          "name": "stdout",
          "text": [
            "Наилучшее значение f1-score при кросс-валидаци: 0.79\n"
          ]
        }
      ],
      "source": [
        "print(\"Наилучшее значение f1-score при кросс-валидаци: {:.2f}\".format(\n",
        "    grid_search_lr.best_score_))"
      ]
    },
    {
      "cell_type": "code",
      "execution_count": null,
      "metadata": {
        "colab": {
          "base_uri": "https://localhost:8080/",
          "height": 306
        },
        "id": "nNsTEXYr5hjn",
        "outputId": "0b493da9-86fa-447a-9d6e-0f92e83c0acd"
      },
      "outputs": [
        {
          "output_type": "execute_result",
          "data": {
            "text/plain": [
              "   mean_fit_time  std_fit_time  mean_score_time  std_score_time  param_C  \\\n",
              "0        0.34152      0.041368         0.014913        0.000464     0.01   \n",
              "1        2.45554      0.036049         0.013864        0.000528     0.01   \n",
              "\n",
              "  param_penalty param_solver                                           params  \\\n",
              "0            l2        lbfgs  {'C': 0.01, 'penalty': 'l2', 'solver': 'lbfgs'}   \n",
              "1            l2          sag    {'C': 0.01, 'penalty': 'l2', 'solver': 'sag'}   \n",
              "\n",
              "   split0_test_score  split1_test_score  split2_test_score  split3_test_score  \\\n",
              "0           0.816568           0.793846           0.769006           0.792342   \n",
              "1           0.818316           0.793846           0.769006           0.792342   \n",
              "\n",
              "   split4_test_score  mean_test_score  std_test_score  rank_test_score  \n",
              "0           0.768769         0.788106        0.017887                6  \n",
              "1           0.765766         0.787855        0.019116                9  "
            ],
            "text/html": [
              "\n",
              "  <div id=\"df-71155e58-f4f1-4b98-a19d-e8c27f5d2d65\" class=\"colab-df-container\">\n",
              "    <div>\n",
              "<style scoped>\n",
              "    .dataframe tbody tr th:only-of-type {\n",
              "        vertical-align: middle;\n",
              "    }\n",
              "\n",
              "    .dataframe tbody tr th {\n",
              "        vertical-align: top;\n",
              "    }\n",
              "\n",
              "    .dataframe thead th {\n",
              "        text-align: right;\n",
              "    }\n",
              "</style>\n",
              "<table border=\"1\" class=\"dataframe\">\n",
              "  <thead>\n",
              "    <tr style=\"text-align: right;\">\n",
              "      <th></th>\n",
              "      <th>mean_fit_time</th>\n",
              "      <th>std_fit_time</th>\n",
              "      <th>mean_score_time</th>\n",
              "      <th>std_score_time</th>\n",
              "      <th>param_C</th>\n",
              "      <th>param_penalty</th>\n",
              "      <th>param_solver</th>\n",
              "      <th>params</th>\n",
              "      <th>split0_test_score</th>\n",
              "      <th>split1_test_score</th>\n",
              "      <th>split2_test_score</th>\n",
              "      <th>split3_test_score</th>\n",
              "      <th>split4_test_score</th>\n",
              "      <th>mean_test_score</th>\n",
              "      <th>std_test_score</th>\n",
              "      <th>rank_test_score</th>\n",
              "    </tr>\n",
              "  </thead>\n",
              "  <tbody>\n",
              "    <tr>\n",
              "      <th>0</th>\n",
              "      <td>0.34152</td>\n",
              "      <td>0.041368</td>\n",
              "      <td>0.014913</td>\n",
              "      <td>0.000464</td>\n",
              "      <td>0.01</td>\n",
              "      <td>l2</td>\n",
              "      <td>lbfgs</td>\n",
              "      <td>{'C': 0.01, 'penalty': 'l2', 'solver': 'lbfgs'}</td>\n",
              "      <td>0.816568</td>\n",
              "      <td>0.793846</td>\n",
              "      <td>0.769006</td>\n",
              "      <td>0.792342</td>\n",
              "      <td>0.768769</td>\n",
              "      <td>0.788106</td>\n",
              "      <td>0.017887</td>\n",
              "      <td>6</td>\n",
              "    </tr>\n",
              "    <tr>\n",
              "      <th>1</th>\n",
              "      <td>2.45554</td>\n",
              "      <td>0.036049</td>\n",
              "      <td>0.013864</td>\n",
              "      <td>0.000528</td>\n",
              "      <td>0.01</td>\n",
              "      <td>l2</td>\n",
              "      <td>sag</td>\n",
              "      <td>{'C': 0.01, 'penalty': 'l2', 'solver': 'sag'}</td>\n",
              "      <td>0.818316</td>\n",
              "      <td>0.793846</td>\n",
              "      <td>0.769006</td>\n",
              "      <td>0.792342</td>\n",
              "      <td>0.765766</td>\n",
              "      <td>0.787855</td>\n",
              "      <td>0.019116</td>\n",
              "      <td>9</td>\n",
              "    </tr>\n",
              "  </tbody>\n",
              "</table>\n",
              "</div>\n",
              "    <div class=\"colab-df-buttons\">\n",
              "\n",
              "  <div class=\"colab-df-container\">\n",
              "    <button class=\"colab-df-convert\" onclick=\"convertToInteractive('df-71155e58-f4f1-4b98-a19d-e8c27f5d2d65')\"\n",
              "            title=\"Convert this dataframe to an interactive table.\"\n",
              "            style=\"display:none;\">\n",
              "\n",
              "  <svg xmlns=\"http://www.w3.org/2000/svg\" height=\"24px\" viewBox=\"0 -960 960 960\">\n",
              "    <path d=\"M120-120v-720h720v720H120Zm60-500h600v-160H180v160Zm220 220h160v-160H400v160Zm0 220h160v-160H400v160ZM180-400h160v-160H180v160Zm440 0h160v-160H620v160ZM180-180h160v-160H180v160Zm440 0h160v-160H620v160Z\"/>\n",
              "  </svg>\n",
              "    </button>\n",
              "\n",
              "  <style>\n",
              "    .colab-df-container {\n",
              "      display:flex;\n",
              "      gap: 12px;\n",
              "    }\n",
              "\n",
              "    .colab-df-convert {\n",
              "      background-color: #E8F0FE;\n",
              "      border: none;\n",
              "      border-radius: 50%;\n",
              "      cursor: pointer;\n",
              "      display: none;\n",
              "      fill: #1967D2;\n",
              "      height: 32px;\n",
              "      padding: 0 0 0 0;\n",
              "      width: 32px;\n",
              "    }\n",
              "\n",
              "    .colab-df-convert:hover {\n",
              "      background-color: #E2EBFA;\n",
              "      box-shadow: 0px 1px 2px rgba(60, 64, 67, 0.3), 0px 1px 3px 1px rgba(60, 64, 67, 0.15);\n",
              "      fill: #174EA6;\n",
              "    }\n",
              "\n",
              "    .colab-df-buttons div {\n",
              "      margin-bottom: 4px;\n",
              "    }\n",
              "\n",
              "    [theme=dark] .colab-df-convert {\n",
              "      background-color: #3B4455;\n",
              "      fill: #D2E3FC;\n",
              "    }\n",
              "\n",
              "    [theme=dark] .colab-df-convert:hover {\n",
              "      background-color: #434B5C;\n",
              "      box-shadow: 0px 1px 3px 1px rgba(0, 0, 0, 0.15);\n",
              "      filter: drop-shadow(0px 1px 2px rgba(0, 0, 0, 0.3));\n",
              "      fill: #FFFFFF;\n",
              "    }\n",
              "  </style>\n",
              "\n",
              "    <script>\n",
              "      const buttonEl =\n",
              "        document.querySelector('#df-71155e58-f4f1-4b98-a19d-e8c27f5d2d65 button.colab-df-convert');\n",
              "      buttonEl.style.display =\n",
              "        google.colab.kernel.accessAllowed ? 'block' : 'none';\n",
              "\n",
              "      async function convertToInteractive(key) {\n",
              "        const element = document.querySelector('#df-71155e58-f4f1-4b98-a19d-e8c27f5d2d65');\n",
              "        const dataTable =\n",
              "          await google.colab.kernel.invokeFunction('convertToInteractive',\n",
              "                                                    [key], {});\n",
              "        if (!dataTable) return;\n",
              "\n",
              "        const docLinkHtml = 'Like what you see? Visit the ' +\n",
              "          '<a target=\"_blank\" href=https://colab.research.google.com/notebooks/data_table.ipynb>data table notebook</a>'\n",
              "          + ' to learn more about interactive tables.';\n",
              "        element.innerHTML = '';\n",
              "        dataTable['output_type'] = 'display_data';\n",
              "        await google.colab.output.renderOutput(dataTable, element);\n",
              "        const docLink = document.createElement('div');\n",
              "        docLink.innerHTML = docLinkHtml;\n",
              "        element.appendChild(docLink);\n",
              "      }\n",
              "    </script>\n",
              "  </div>\n",
              "\n",
              "\n",
              "<div id=\"df-d77844d9-0c95-476e-a6e4-be23953dd5de\">\n",
              "  <button class=\"colab-df-quickchart\" onclick=\"quickchart('df-d77844d9-0c95-476e-a6e4-be23953dd5de')\"\n",
              "            title=\"Suggest charts\"\n",
              "            style=\"display:none;\">\n",
              "\n",
              "<svg xmlns=\"http://www.w3.org/2000/svg\" height=\"24px\"viewBox=\"0 0 24 24\"\n",
              "     width=\"24px\">\n",
              "    <g>\n",
              "        <path d=\"M19 3H5c-1.1 0-2 .9-2 2v14c0 1.1.9 2 2 2h14c1.1 0 2-.9 2-2V5c0-1.1-.9-2-2-2zM9 17H7v-7h2v7zm4 0h-2V7h2v10zm4 0h-2v-4h2v4z\"/>\n",
              "    </g>\n",
              "</svg>\n",
              "  </button>\n",
              "\n",
              "<style>\n",
              "  .colab-df-quickchart {\n",
              "      --bg-color: #E8F0FE;\n",
              "      --fill-color: #1967D2;\n",
              "      --hover-bg-color: #E2EBFA;\n",
              "      --hover-fill-color: #174EA6;\n",
              "      --disabled-fill-color: #AAA;\n",
              "      --disabled-bg-color: #DDD;\n",
              "  }\n",
              "\n",
              "  [theme=dark] .colab-df-quickchart {\n",
              "      --bg-color: #3B4455;\n",
              "      --fill-color: #D2E3FC;\n",
              "      --hover-bg-color: #434B5C;\n",
              "      --hover-fill-color: #FFFFFF;\n",
              "      --disabled-bg-color: #3B4455;\n",
              "      --disabled-fill-color: #666;\n",
              "  }\n",
              "\n",
              "  .colab-df-quickchart {\n",
              "    background-color: var(--bg-color);\n",
              "    border: none;\n",
              "    border-radius: 50%;\n",
              "    cursor: pointer;\n",
              "    display: none;\n",
              "    fill: var(--fill-color);\n",
              "    height: 32px;\n",
              "    padding: 0;\n",
              "    width: 32px;\n",
              "  }\n",
              "\n",
              "  .colab-df-quickchart:hover {\n",
              "    background-color: var(--hover-bg-color);\n",
              "    box-shadow: 0 1px 2px rgba(60, 64, 67, 0.3), 0 1px 3px 1px rgba(60, 64, 67, 0.15);\n",
              "    fill: var(--button-hover-fill-color);\n",
              "  }\n",
              "\n",
              "  .colab-df-quickchart-complete:disabled,\n",
              "  .colab-df-quickchart-complete:disabled:hover {\n",
              "    background-color: var(--disabled-bg-color);\n",
              "    fill: var(--disabled-fill-color);\n",
              "    box-shadow: none;\n",
              "  }\n",
              "\n",
              "  .colab-df-spinner {\n",
              "    border: 2px solid var(--fill-color);\n",
              "    border-color: transparent;\n",
              "    border-bottom-color: var(--fill-color);\n",
              "    animation:\n",
              "      spin 1s steps(1) infinite;\n",
              "  }\n",
              "\n",
              "  @keyframes spin {\n",
              "    0% {\n",
              "      border-color: transparent;\n",
              "      border-bottom-color: var(--fill-color);\n",
              "      border-left-color: var(--fill-color);\n",
              "    }\n",
              "    20% {\n",
              "      border-color: transparent;\n",
              "      border-left-color: var(--fill-color);\n",
              "      border-top-color: var(--fill-color);\n",
              "    }\n",
              "    30% {\n",
              "      border-color: transparent;\n",
              "      border-left-color: var(--fill-color);\n",
              "      border-top-color: var(--fill-color);\n",
              "      border-right-color: var(--fill-color);\n",
              "    }\n",
              "    40% {\n",
              "      border-color: transparent;\n",
              "      border-right-color: var(--fill-color);\n",
              "      border-top-color: var(--fill-color);\n",
              "    }\n",
              "    60% {\n",
              "      border-color: transparent;\n",
              "      border-right-color: var(--fill-color);\n",
              "    }\n",
              "    80% {\n",
              "      border-color: transparent;\n",
              "      border-right-color: var(--fill-color);\n",
              "      border-bottom-color: var(--fill-color);\n",
              "    }\n",
              "    90% {\n",
              "      border-color: transparent;\n",
              "      border-bottom-color: var(--fill-color);\n",
              "    }\n",
              "  }\n",
              "</style>\n",
              "\n",
              "  <script>\n",
              "    async function quickchart(key) {\n",
              "      const quickchartButtonEl =\n",
              "        document.querySelector('#' + key + ' button');\n",
              "      quickchartButtonEl.disabled = true;  // To prevent multiple clicks.\n",
              "      quickchartButtonEl.classList.add('colab-df-spinner');\n",
              "      try {\n",
              "        const charts = await google.colab.kernel.invokeFunction(\n",
              "            'suggestCharts', [key], {});\n",
              "      } catch (error) {\n",
              "        console.error('Error during call to suggestCharts:', error);\n",
              "      }\n",
              "      quickchartButtonEl.classList.remove('colab-df-spinner');\n",
              "      quickchartButtonEl.classList.add('colab-df-quickchart-complete');\n",
              "    }\n",
              "    (() => {\n",
              "      let quickchartButtonEl =\n",
              "        document.querySelector('#df-d77844d9-0c95-476e-a6e4-be23953dd5de button');\n",
              "      quickchartButtonEl.style.display =\n",
              "        google.colab.kernel.accessAllowed ? 'block' : 'none';\n",
              "    })();\n",
              "  </script>\n",
              "</div>\n",
              "    </div>\n",
              "  </div>\n"
            ],
            "application/vnd.google.colaboratory.intrinsic+json": {
              "type": "dataframe",
              "variable_name": "result_cv",
              "summary": "{\n  \"name\": \"result_cv\",\n  \"rows\": 80,\n  \"fields\": [\n    {\n      \"column\": \"mean_fit_time\",\n      \"properties\": {\n        \"dtype\": \"number\",\n        \"std\": 1.4887551473320422,\n        \"min\": 0.09904589653015136,\n        \"max\": 4.679495573043823,\n        \"num_unique_values\": 80,\n        \"samples\": [\n          0.3031301021575928,\n          0.341520357131958,\n          0.33566646575927733\n        ],\n        \"semantic_type\": \"\",\n        \"description\": \"\"\n      }\n    },\n    {\n      \"column\": \"std_fit_time\",\n      \"properties\": {\n        \"dtype\": \"number\",\n        \"std\": 0.06374369497793987,\n        \"min\": 0.0028751432326204218,\n        \"max\": 0.34717554150701563,\n        \"num_unique_values\": 80,\n        \"samples\": [\n          0.00694135570430992,\n          0.0413683853665868,\n          0.02715747036553936\n        ],\n        \"semantic_type\": \"\",\n        \"description\": \"\"\n      }\n    },\n    {\n      \"column\": \"mean_score_time\",\n      \"properties\": {\n        \"dtype\": \"number\",\n        \"std\": 0.0006736392584257692,\n        \"min\": 0.011849927902221679,\n        \"max\": 0.015403413772583007,\n        \"num_unique_values\": 80,\n        \"samples\": [\n          0.015132331848144531,\n          0.014912700653076172,\n          0.013250780105590821\n        ],\n        \"semantic_type\": \"\",\n        \"description\": \"\"\n      }\n    },\n    {\n      \"column\": \"std_score_time\",\n      \"properties\": {\n        \"dtype\": \"number\",\n        \"std\": 0.0003521240355790168,\n        \"min\": 0.0001934477046373691,\n        \"max\": 0.001831092589452984,\n        \"num_unique_values\": 80,\n        \"samples\": [\n          0.0005041391518491238,\n          0.000464229262047936,\n          0.00021310473044874976\n        ],\n        \"semantic_type\": \"\",\n        \"description\": \"\"\n      }\n    },\n    {\n      \"column\": \"param_C\",\n      \"properties\": {\n        \"dtype\": \"number\",\n        \"std\": 0.3179443466944124,\n        \"min\": 0.01,\n        \"max\": 1.0,\n        \"num_unique_values\": 10,\n        \"samples\": [\n          0.89,\n          0.12,\n          0.56\n        ],\n        \"semantic_type\": \"\",\n        \"description\": \"\"\n      }\n    },\n    {\n      \"column\": \"param_penalty\",\n      \"properties\": {\n        \"dtype\": \"category\",\n        \"num_unique_values\": 2,\n        \"samples\": [\n          \"l1\",\n          \"l2\"\n        ],\n        \"semantic_type\": \"\",\n        \"description\": \"\"\n      }\n    },\n    {\n      \"column\": \"param_solver\",\n      \"properties\": {\n        \"dtype\": \"category\",\n        \"num_unique_values\": 4,\n        \"samples\": [\n          \"sag\",\n          \"saga\"\n        ],\n        \"semantic_type\": \"\",\n        \"description\": \"\"\n      }\n    },\n    {\n      \"column\": \"params\",\n      \"properties\": {\n        \"dtype\": \"object\",\n        \"semantic_type\": \"\",\n        \"description\": \"\"\n      }\n    },\n    {\n      \"column\": \"split0_test_score\",\n      \"properties\": {\n        \"dtype\": \"number\",\n        \"std\": 0.010455226003296373,\n        \"min\": 0.7746913580246914,\n        \"max\": 0.8230088495575221,\n        \"num_unique_values\": 42,\n        \"samples\": [\n          0.8071748878923767,\n          0.8024132730015083\n        ],\n        \"semantic_type\": \"\",\n        \"description\": \"\"\n      }\n    },\n    {\n      \"column\": \"split1_test_score\",\n      \"properties\": {\n        \"dtype\": \"number\",\n        \"std\": 0.008217363347192497,\n        \"min\": 0.7663551401869159,\n        \"max\": 0.8012139605462822,\n        \"num_unique_values\": 39,\n        \"samples\": [\n          0.7822085889570553,\n          0.7938931297709924\n        ],\n        \"semantic_type\": \"\",\n        \"description\": \"\"\n      }\n    },\n    {\n      \"column\": \"split2_test_score\",\n      \"properties\": {\n        \"dtype\": \"number\",\n        \"std\": 0.007634827402362442,\n        \"min\": 0.7440476190476191,\n        \"max\": 0.775811209439528,\n        \"num_unique_values\": 43,\n        \"samples\": [\n          0.7533632286995515,\n          0.7680945347119645\n        ],\n        \"semantic_type\": \"\",\n        \"description\": \"\"\n      }\n    },\n    {\n      \"column\": \"split3_test_score\",\n      \"properties\": {\n        \"dtype\": \"number\",\n        \"std\": 0.011774081488965246,\n        \"min\": 0.7457098283931357,\n        \"max\": 0.793984962406015,\n        \"num_unique_values\": 42,\n        \"samples\": [\n          0.7839046199701938,\n          0.7801204819277109\n        ],\n        \"semantic_type\": \"\",\n        \"description\": \"\"\n      }\n    },\n    {\n      \"column\": \"split4_test_score\",\n      \"properties\": {\n        \"dtype\": \"number\",\n        \"std\": 0.013481850564054734,\n        \"min\": 0.7350689127105666,\n        \"max\": 0.7862481315396114,\n        \"num_unique_values\": 38,\n        \"samples\": [\n          0.7627627627627628,\n          0.7694610778443114\n        ],\n        \"semantic_type\": \"\",\n        \"description\": \"\"\n      }\n    },\n    {\n      \"column\": \"mean_test_score\",\n      \"properties\": {\n        \"dtype\": \"number\",\n        \"std\": 0.009461618243808098,\n        \"min\": 0.7574579769635668,\n        \"max\": 0.790240287692442,\n        \"num_unique_values\": 60,\n        \"samples\": [\n          0.7881060993690068,\n          0.7854828382589576\n        ],\n        \"semantic_type\": \"\",\n        \"description\": \"\"\n      }\n    },\n    {\n      \"column\": \"std_test_score\",\n      \"properties\": {\n        \"dtype\": \"number\",\n        \"std\": 0.0016158317411945145,\n        \"min\": 0.013334615078440599,\n        \"max\": 0.021564589451032852,\n        \"num_unique_values\": 60,\n        \"samples\": [\n          0.017886994161890223,\n          0.01642143457745875\n        ],\n        \"semantic_type\": \"\",\n        \"description\": \"\"\n      }\n    },\n    {\n      \"column\": \"rank_test_score\",\n      \"properties\": {\n        \"dtype\": \"int32\",\n        \"num_unique_values\": 60,\n        \"samples\": [\n          6,\n          16\n        ],\n        \"semantic_type\": \"\",\n        \"description\": \"\"\n      }\n    }\n  ]\n}"
            }
          },
          "metadata": {},
          "execution_count": 13
        }
      ],
      "source": [
        "# Взглянем на результаты кросс-валидации\n",
        "result_cv = pd.DataFrame(grid_search_lr.cv_results_)\n",
        "result_cv.head(2)"
      ]
    },
    {
      "cell_type": "code",
      "execution_count": null,
      "metadata": {
        "colab": {
          "base_uri": "https://localhost:8080/",
          "height": 485
        },
        "id": "KK9jDMsA5hjo",
        "outputId": "e6b9356f-2650-4818-efad-edaea2a73eaf"
      },
      "outputs": [
        {
          "output_type": "display_data",
          "data": {
            "text/plain": [
              "<Figure size 500x500 with 2 Axes>"
            ],
            "image/png": "[encoded data removed]"
          },
          "metadata": {}
        }
      ],
      "source": [
        "# отрисуем, как менялась метрика при различных гиперпараметрах\n",
        "visual = pd.pivot_table(\n",
        "    pd.DataFrame(grid_search_lr.cv_results_),\n",
        "    values='mean_test_score',\n",
        "    index='param_C',\n",
        "    columns='param_solver')\n",
        "plt.figure(figsize=(5,5))\n",
        "sns.heatmap(visual)\n",
        "plt.title('Тепловая карта зависимости f1-score от solver и С'); # подпись графика\n"
      ]
    },
    {
      "cell_type": "markdown",
      "source": [
        "Худшие значения метрики наблюдаются при алгоритме оптимизации 'lbfgs' и при коэффициенте С = 0.01. Большие значения С также отрицательно влияют. Необходимо это учесть."
      ],
      "metadata": {
        "id": "JlNG34gwWEjs"
      }
    },
    {
      "cell_type": "markdown",
      "metadata": {
        "id": "4jnYMrdI5hjo"
      },
      "source": [
        "#### Случайный лес"
      ]
    },
    {
      "cell_type": "code",
      "execution_count": null,
      "metadata": {
        "colab": {
          "base_uri": "https://localhost:8080/"
        },
        "id": "8rzv9flW5hjp",
        "outputId": "5d342cb4-ae7e-4144-89d4-4e47d835c0cf"
      },
      "outputs": [
        {
          "output_type": "stream",
          "name": "stdout",
          "text": [
            "CPU times: user 4.3 s, sys: 542 ms, total: 4.84 s\n",
            "Wall time: 2min 52s\n",
            "f1_score на обучающем наборе: 0.99\n",
            "f1_score на тестовом наборе: 0.81\n",
            "Наилучшие значения гиперпараметров: {'max_depth': 15, 'min_samples_leaf': 1, 'n_estimators': 200}\n"
          ]
        }
      ],
      "source": [
        "# Составим сетку гиперпараметров\n",
        "param_grid = {'n_estimators': [100, 200, 300, 500],\n",
        "              'min_samples_leaf': [1, 5, 9],\n",
        "              'max_depth': [10, 15, 20, 30]}\n",
        "\n",
        "# Создадим объект класса GridSearchCV\n",
        "grid_search_rf = GridSearchCV(\n",
        "    estimator=ensemble.RandomForestClassifier(random_state=random_state),\n",
        "    param_grid=param_grid,\n",
        "    cv=5, # кросс-валидация\n",
        "    scoring='f1', # поменяем score-функцию согласно условию задания\n",
        "    n_jobs = -1\n",
        ")\n",
        "\n",
        "# Замеряем время\n",
        "%time grid_search_rf.fit(X_train, y_train)\n",
        "y_train_pred = grid_search_rf.predict(X_train)\n",
        "print('f1_score на обучающем наборе: {:.2f}'.format(\n",
        "    metrics.f1_score(y_train, y_train_pred)))\n",
        "y_test_pred = grid_search_rf.predict(X_test)\n",
        "print('f1_score на тестовом наборе: {:.2f}'.format(\n",
        "    metrics.f1_score(y_test, y_test_pred)))\n",
        "print(\"Наилучшие значения гиперпараметров: {}\".format(\n",
        "    grid_search_rf.best_params_))"
      ]
    },
    {
      "cell_type": "markdown",
      "source": [
        "Значение целевой метрики на тестовых данных не удалось улучшить."
      ],
      "metadata": {
        "id": "5LKdkHf6tBko"
      }
    },
    {
      "cell_type": "code",
      "source": [
        "print(\"Наилучшее значение f1-score при кросс-валидаци: {:.2f}\".format(\n",
        "    grid_search_rf.best_score_))"
      ],
      "metadata": {
        "colab": {
          "base_uri": "https://localhost:8080/"
        },
        "id": "b-cSjMP1eEWq",
        "outputId": "9028c2fb-ee25-4fcf-a059-d25bf1af53b4"
      },
      "execution_count": null,
      "outputs": [
        {
          "output_type": "stream",
          "name": "stdout",
          "text": [
            "Наилучшее значение f1-score при кросс-валидаци: 0.82\n"
          ]
        }
      ]
    },
    {
      "cell_type": "code",
      "source": [
        "# Взглянем на результаты кросс-валидации\n",
        "result_cv = pd.DataFrame(grid_search_rf.cv_results_)\n",
        "result_cv.head(2)"
      ],
      "metadata": {
        "colab": {
          "base_uri": "https://localhost:8080/",
          "height": 202
        },
        "id": "1_R41IGkeF8r",
        "outputId": "8e30d1b0-17f7-4745-9cb1-3932ba13b6c8"
      },
      "execution_count": null,
      "outputs": [
        {
          "output_type": "execute_result",
          "data": {
            "text/plain": [
              "   mean_fit_time  std_fit_time  mean_score_time  std_score_time  \\\n",
              "0       0.966475      0.050187         0.027777        0.001152   \n",
              "1       1.984176      0.096094         0.037292        0.003374   \n",
              "\n",
              "   param_max_depth  param_min_samples_leaf  param_n_estimators  \\\n",
              "0               10                       1                 100   \n",
              "1               10                       1                 200   \n",
              "\n",
              "                                              params  split0_test_score  \\\n",
              "0  {'max_depth': 10, 'min_samples_leaf': 1, 'n_es...           0.848120   \n",
              "1  {'max_depth': 10, 'min_samples_leaf': 1, 'n_es...           0.846039   \n",
              "\n",
              "   split1_test_score  split2_test_score  split3_test_score  split4_test_score  \\\n",
              "0           0.813880           0.779412           0.816024           0.785162   \n",
              "1           0.823899           0.791176           0.820896           0.780864   \n",
              "\n",
              "   mean_test_score  std_test_score  rank_test_score  \n",
              "0         0.808520        0.024682               28  \n",
              "1         0.812575        0.023583               17  "
            ],
            "text/html": [
              "\n",
              "  <div id=\"df-d064fdd1-388d-4ce5-9567-54e6ca12a509\" class=\"colab-df-container\">\n",
              "    <div>\n",
              "<style scoped>\n",
              "    .dataframe tbody tr th:only-of-type {\n",
              "        vertical-align: middle;\n",
              "    }\n",
              "\n",
              "    .dataframe tbody tr th {\n",
              "        vertical-align: top;\n",
              "    }\n",
              "\n",
              "    .dataframe thead th {\n",
              "        text-align: right;\n",
              "    }\n",
              "</style>\n",
              "<table border=\"1\" class=\"dataframe\">\n",
              "  <thead>\n",
              "    <tr style=\"text-align: right;\">\n",
              "      <th></th>\n",
              "      <th>mean_fit_time</th>\n",
              "      <th>std_fit_time</th>\n",
              "      <th>mean_score_time</th>\n",
              "      <th>std_score_time</th>\n",
              "      <th>param_max_depth</th>\n",
              "      <th>param_min_samples_leaf</th>\n",
              "      <th>param_n_estimators</th>\n",
              "      <th>params</th>\n",
              "      <th>split0_test_score</th>\n",
              "      <th>split1_test_score</th>\n",
              "      <th>split2_test_score</th>\n",
              "      <th>split3_test_score</th>\n",
              "      <th>split4_test_score</th>\n",
              "      <th>mean_test_score</th>\n",
              "      <th>std_test_score</th>\n",
              "      <th>rank_test_score</th>\n",
              "    </tr>\n",
              "  </thead>\n",
              "  <tbody>\n",
              "    <tr>\n",
              "      <th>0</th>\n",
              "      <td>0.966475</td>\n",
              "      <td>0.050187</td>\n",
              "      <td>0.027777</td>\n",
              "      <td>0.001152</td>\n",
              "      <td>10</td>\n",
              "      <td>1</td>\n",
              "      <td>100</td>\n",
              "      <td>{'max_depth': 10, 'min_samples_leaf': 1, 'n_es...</td>\n",
              "      <td>0.848120</td>\n",
              "      <td>0.813880</td>\n",
              "      <td>0.779412</td>\n",
              "      <td>0.816024</td>\n",
              "      <td>0.785162</td>\n",
              "      <td>0.808520</td>\n",
              "      <td>0.024682</td>\n",
              "      <td>28</td>\n",
              "    </tr>\n",
              "    <tr>\n",
              "      <th>1</th>\n",
              "      <td>1.984176</td>\n",
              "      <td>0.096094</td>\n",
              "      <td>0.037292</td>\n",
              "      <td>0.003374</td>\n",
              "      <td>10</td>\n",
              "      <td>1</td>\n",
              "      <td>200</td>\n",
              "      <td>{'max_depth': 10, 'min_samples_leaf': 1, 'n_es...</td>\n",
              "      <td>0.846039</td>\n",
              "      <td>0.823899</td>\n",
              "      <td>0.791176</td>\n",
              "      <td>0.820896</td>\n",
              "      <td>0.780864</td>\n",
              "      <td>0.812575</td>\n",
              "      <td>0.023583</td>\n",
              "      <td>17</td>\n",
              "    </tr>\n",
              "  </tbody>\n",
              "</table>\n",
              "</div>\n",
              "    <div class=\"colab-df-buttons\">\n",
              "\n",
              "  <div class=\"colab-df-container\">\n",
              "    <button class=\"colab-df-convert\" onclick=\"convertToInteractive('df-d064fdd1-388d-4ce5-9567-54e6ca12a509')\"\n",
              "            title=\"Convert this dataframe to an interactive table.\"\n",
              "            style=\"display:none;\">\n",
              "\n",
              "  <svg xmlns=\"http://www.w3.org/2000/svg\" height=\"24px\" viewBox=\"0 -960 960 960\">\n",
              "    <path d=\"M120-120v-720h720v720H120Zm60-500h600v-160H180v160Zm220 220h160v-160H400v160Zm0 220h160v-160H400v160ZM180-400h160v-160H180v160Zm440 0h160v-160H620v160ZM180-180h160v-160H180v160Zm440 0h160v-160H620v160Z\"/>\n",
              "  </svg>\n",
              "    </button>\n",
              "\n",
              "  <style>\n",
              "    .colab-df-container {\n",
              "      display:flex;\n",
              "      gap: 12px;\n",
              "    }\n",
              "\n",
              "    .colab-df-convert {\n",
              "      background-color: #E8F0FE;\n",
              "      border: none;\n",
              "      border-radius: 50%;\n",
              "      cursor: pointer;\n",
              "      display: none;\n",
              "      fill: #1967D2;\n",
              "      height: 32px;\n",
              "      padding: 0 0 0 0;\n",
              "      width: 32px;\n",
              "    }\n",
              "\n",
              "    .colab-df-convert:hover {\n",
              "      background-color: #E2EBFA;\n",
              "      box-shadow: 0px 1px 2px rgba(60, 64, 67, 0.3), 0px 1px 3px 1px rgba(60, 64, 67, 0.15);\n",
              "      fill: #174EA6;\n",
              "    }\n",
              "\n",
              "    .colab-df-buttons div {\n",
              "      margin-bottom: 4px;\n",
              "    }\n",
              "\n",
              "    [theme=dark] .colab-df-convert {\n",
              "      background-color: #3B4455;\n",
              "      fill: #D2E3FC;\n",
              "    }\n",
              "\n",
              "    [theme=dark] .colab-df-convert:hover {\n",
              "      background-color: #434B5C;\n",
              "      box-shadow: 0px 1px 3px 1px rgba(0, 0, 0, 0.15);\n",
              "      filter: drop-shadow(0px 1px 2px rgba(0, 0, 0, 0.3));\n",
              "      fill: #FFFFFF;\n",
              "    }\n",
              "  </style>\n",
              "\n",
              "    <script>\n",
              "      const buttonEl =\n",
              "        document.querySelector('#df-d064fdd1-388d-4ce5-9567-54e6ca12a509 button.colab-df-convert');\n",
              "      buttonEl.style.display =\n",
              "        google.colab.kernel.accessAllowed ? 'block' : 'none';\n",
              "\n",
              "      async function convertToInteractive(key) {\n",
              "        const element = document.querySelector('#df-d064fdd1-388d-4ce5-9567-54e6ca12a509');\n",
              "        const dataTable =\n",
              "          await google.colab.kernel.invokeFunction('convertToInteractive',\n",
              "                                                    [key], {});\n",
              "        if (!dataTable) return;\n",
              "\n",
              "        const docLinkHtml = 'Like what you see? Visit the ' +\n",
              "          '<a target=\"_blank\" href=https://colab.research.google.com/notebooks/data_table.ipynb>data table notebook</a>'\n",
              "          + ' to learn more about interactive tables.';\n",
              "        element.innerHTML = '';\n",
              "        dataTable['output_type'] = 'display_data';\n",
              "        await google.colab.output.renderOutput(dataTable, element);\n",
              "        const docLink = document.createElement('div');\n",
              "        docLink.innerHTML = docLinkHtml;\n",
              "        element.appendChild(docLink);\n",
              "      }\n",
              "    </script>\n",
              "  </div>\n",
              "\n",
              "\n",
              "<div id=\"df-d7c0a356-ebb5-4bcf-b09e-732ac6aa0d50\">\n",
              "  <button class=\"colab-df-quickchart\" onclick=\"quickchart('df-d7c0a356-ebb5-4bcf-b09e-732ac6aa0d50')\"\n",
              "            title=\"Suggest charts\"\n",
              "            style=\"display:none;\">\n",
              "\n",
              "<svg xmlns=\"http://www.w3.org/2000/svg\" height=\"24px\"viewBox=\"0 0 24 24\"\n",
              "     width=\"24px\">\n",
              "    <g>\n",
              "        <path d=\"M19 3H5c-1.1 0-2 .9-2 2v14c0 1.1.9 2 2 2h14c1.1 0 2-.9 2-2V5c0-1.1-.9-2-2-2zM9 17H7v-7h2v7zm4 0h-2V7h2v10zm4 0h-2v-4h2v4z\"/>\n",
              "    </g>\n",
              "</svg>\n",
              "  </button>\n",
              "\n",
              "<style>\n",
              "  .colab-df-quickchart {\n",
              "      --bg-color: #E8F0FE;\n",
              "      --fill-color: #1967D2;\n",
              "      --hover-bg-color: #E2EBFA;\n",
              "      --hover-fill-color: #174EA6;\n",
              "      --disabled-fill-color: #AAA;\n",
              "      --disabled-bg-color: #DDD;\n",
              "  }\n",
              "\n",
              "  [theme=dark] .colab-df-quickchart {\n",
              "      --bg-color: #3B4455;\n",
              "      --fill-color: #D2E3FC;\n",
              "      --hover-bg-color: #434B5C;\n",
              "      --hover-fill-color: #FFFFFF;\n",
              "      --disabled-bg-color: #3B4455;\n",
              "      --disabled-fill-color: #666;\n",
              "  }\n",
              "\n",
              "  .colab-df-quickchart {\n",
              "    background-color: var(--bg-color);\n",
              "    border: none;\n",
              "    border-radius: 50%;\n",
              "    cursor: pointer;\n",
              "    display: none;\n",
              "    fill: var(--fill-color);\n",
              "    height: 32px;\n",
              "    padding: 0;\n",
              "    width: 32px;\n",
              "  }\n",
              "\n",
              "  .colab-df-quickchart:hover {\n",
              "    background-color: var(--hover-bg-color);\n",
              "    box-shadow: 0 1px 2px rgba(60, 64, 67, 0.3), 0 1px 3px 1px rgba(60, 64, 67, 0.15);\n",
              "    fill: var(--button-hover-fill-color);\n",
              "  }\n",
              "\n",
              "  .colab-df-quickchart-complete:disabled,\n",
              "  .colab-df-quickchart-complete:disabled:hover {\n",
              "    background-color: var(--disabled-bg-color);\n",
              "    fill: var(--disabled-fill-color);\n",
              "    box-shadow: none;\n",
              "  }\n",
              "\n",
              "  .colab-df-spinner {\n",
              "    border: 2px solid var(--fill-color);\n",
              "    border-color: transparent;\n",
              "    border-bottom-color: var(--fill-color);\n",
              "    animation:\n",
              "      spin 1s steps(1) infinite;\n",
              "  }\n",
              "\n",
              "  @keyframes spin {\n",
              "    0% {\n",
              "      border-color: transparent;\n",
              "      border-bottom-color: var(--fill-color);\n",
              "      border-left-color: var(--fill-color);\n",
              "    }\n",
              "    20% {\n",
              "      border-color: transparent;\n",
              "      border-left-color: var(--fill-color);\n",
              "      border-top-color: var(--fill-color);\n",
              "    }\n",
              "    30% {\n",
              "      border-color: transparent;\n",
              "      border-left-color: var(--fill-color);\n",
              "      border-top-color: var(--fill-color);\n",
              "      border-right-color: var(--fill-color);\n",
              "    }\n",
              "    40% {\n",
              "      border-color: transparent;\n",
              "      border-right-color: var(--fill-color);\n",
              "      border-top-color: var(--fill-color);\n",
              "    }\n",
              "    60% {\n",
              "      border-color: transparent;\n",
              "      border-right-color: var(--fill-color);\n",
              "    }\n",
              "    80% {\n",
              "      border-color: transparent;\n",
              "      border-right-color: var(--fill-color);\n",
              "      border-bottom-color: var(--fill-color);\n",
              "    }\n",
              "    90% {\n",
              "      border-color: transparent;\n",
              "      border-bottom-color: var(--fill-color);\n",
              "    }\n",
              "  }\n",
              "</style>\n",
              "\n",
              "  <script>\n",
              "    async function quickchart(key) {\n",
              "      const quickchartButtonEl =\n",
              "        document.querySelector('#' + key + ' button');\n",
              "      quickchartButtonEl.disabled = true;  // To prevent multiple clicks.\n",
              "      quickchartButtonEl.classList.add('colab-df-spinner');\n",
              "      try {\n",
              "        const charts = await google.colab.kernel.invokeFunction(\n",
              "            'suggestCharts', [key], {});\n",
              "      } catch (error) {\n",
              "        console.error('Error during call to suggestCharts:', error);\n",
              "      }\n",
              "      quickchartButtonEl.classList.remove('colab-df-spinner');\n",
              "      quickchartButtonEl.classList.add('colab-df-quickchart-complete');\n",
              "    }\n",
              "    (() => {\n",
              "      let quickchartButtonEl =\n",
              "        document.querySelector('#df-d7c0a356-ebb5-4bcf-b09e-732ac6aa0d50 button');\n",
              "      quickchartButtonEl.style.display =\n",
              "        google.colab.kernel.accessAllowed ? 'block' : 'none';\n",
              "    })();\n",
              "  </script>\n",
              "</div>\n",
              "    </div>\n",
              "  </div>\n"
            ],
            "application/vnd.google.colaboratory.intrinsic+json": {
              "type": "dataframe",
              "variable_name": "result_cv",
              "summary": "{\n  \"name\": \"result_cv\",\n  \"rows\": 48,\n  \"fields\": [\n    {\n      \"column\": \"mean_fit_time\",\n      \"properties\": {\n        \"dtype\": \"number\",\n        \"std\": 1.526030156818124,\n        \"min\": 0.8927046298980713,\n        \"max\": 6.357511758804321,\n        \"num_unique_values\": 48,\n        \"samples\": [\n          6.357511758804321,\n          1.0512648582458497,\n          3.7495630264282225\n        ],\n        \"semantic_type\": \"\",\n        \"description\": \"\"\n      }\n    },\n    {\n      \"column\": \"std_fit_time\",\n      \"properties\": {\n        \"dtype\": \"number\",\n        \"std\": 0.09851601278368594,\n        \"min\": 0.0040748284144662885,\n        \"max\": 0.41080275449850345,\n        \"num_unique_values\": 48,\n        \"samples\": [\n          0.3068212644583154,\n          0.01720173620131014,\n          0.23561732024018778\n        ],\n        \"semantic_type\": \"\",\n        \"description\": \"\"\n      }\n    },\n    {\n      \"column\": \"mean_score_time\",\n      \"properties\": {\n        \"dtype\": \"number\",\n        \"std\": 0.01939342006865859,\n        \"min\": 0.024118852615356446,\n        \"max\": 0.08856916427612305,\n        \"num_unique_values\": 48,\n        \"samples\": [\n          0.08856916427612305,\n          0.02632451057434082,\n          0.05602750778198242\n        ],\n        \"semantic_type\": \"\",\n        \"description\": \"\"\n      }\n    },\n    {\n      \"column\": \"std_score_time\",\n      \"properties\": {\n        \"dtype\": \"number\",\n        \"std\": 0.00452217288351152,\n        \"min\": 0.00024706554322836754,\n        \"max\": 0.023325700421095986,\n        \"num_unique_values\": 48,\n        \"samples\": [\n          0.0010154282719177915,\n          0.001569218679600254,\n          0.0022832924904749286\n        ],\n        \"semantic_type\": \"\",\n        \"description\": \"\"\n      }\n    },\n    {\n      \"column\": \"param_max_depth\",\n      \"properties\": {\n        \"dtype\": \"number\",\n        \"std\": 7,\n        \"min\": 10,\n        \"max\": 30,\n        \"num_unique_values\": 4,\n        \"samples\": [\n          15,\n          30,\n          10\n        ],\n        \"semantic_type\": \"\",\n        \"description\": \"\"\n      }\n    },\n    {\n      \"column\": \"param_min_samples_leaf\",\n      \"properties\": {\n        \"dtype\": \"number\",\n        \"std\": 3,\n        \"min\": 1,\n        \"max\": 9,\n        \"num_unique_values\": 3,\n        \"samples\": [\n          1,\n          5,\n          9\n        ],\n        \"semantic_type\": \"\",\n        \"description\": \"\"\n      }\n    },\n    {\n      \"column\": \"param_n_estimators\",\n      \"properties\": {\n        \"dtype\": \"number\",\n        \"std\": 149,\n        \"min\": 100,\n        \"max\": 500,\n        \"num_unique_values\": 4,\n        \"samples\": [\n          200,\n          500,\n          100\n        ],\n        \"semantic_type\": \"\",\n        \"description\": \"\"\n      }\n    },\n    {\n      \"column\": \"params\",\n      \"properties\": {\n        \"dtype\": \"object\",\n        \"semantic_type\": \"\",\n        \"description\": \"\"\n      }\n    },\n    {\n      \"column\": \"split0_test_score\",\n      \"properties\": {\n        \"dtype\": \"number\",\n        \"std\": 0.006073409292899903,\n        \"min\": 0.8383233532934131,\n        \"max\": 0.8662613981762918,\n        \"num_unique_values\": 32,\n        \"samples\": [\n          0.850609756097561,\n          0.858433734939759,\n          0.8476621417797888\n        ],\n        \"semantic_type\": \"\",\n        \"description\": \"\"\n      }\n    },\n    {\n      \"column\": \"split1_test_score\",\n      \"properties\": {\n        \"dtype\": \"number\",\n        \"std\": 0.012253304491163797,\n        \"min\": 0.789308176100629,\n        \"max\": 0.8330733229329174,\n        \"num_unique_values\": 41,\n        \"samples\": [\n          0.8183254344391785,\n          0.8317757009345794,\n          0.7987421383647799\n        ],\n        \"semantic_type\": \"\",\n        \"description\": \"\"\n      }\n    },\n    {\n      \"column\": \"split2_test_score\",\n      \"properties\": {\n        \"dtype\": \"number\",\n        \"std\": 0.0062669559195651595,\n        \"min\": 0.7794117647058824,\n        \"max\": 0.8071216617210683,\n        \"num_unique_values\": 39,\n        \"samples\": [\n          0.7893175074183977,\n          0.7877906976744186,\n          0.7929515418502202\n        ],\n        \"semantic_type\": \"\",\n        \"description\": \"\"\n      }\n    },\n    {\n      \"column\": \"split3_test_score\",\n      \"properties\": {\n        \"dtype\": \"number\",\n        \"std\": 0.005721505042653955,\n        \"min\": 0.7946428571428571,\n        \"max\": 0.8219584569732937,\n        \"num_unique_values\": 35,\n        \"samples\": [\n          0.8195266272189349,\n          0.8090225563909774,\n          0.8094534711964549\n        ],\n        \"semantic_type\": \"\",\n        \"description\": \"\"\n      }\n    },\n    {\n      \"column\": \"split4_test_score\",\n      \"properties\": {\n        \"dtype\": \"number\",\n        \"std\": 0.008318561919884736,\n        \"min\": 0.7758887171561051,\n        \"max\": 0.803680981595092,\n        \"num_unique_values\": 36,\n        \"samples\": [\n          0.7835365853658537,\n          0.7884322678843226,\n          0.7852760736196319\n        ],\n        \"semantic_type\": \"\",\n        \"description\": \"\"\n      }\n    },\n    {\n      \"column\": \"mean_test_score\",\n      \"properties\": {\n        \"dtype\": \"number\",\n        \"std\": 0.005716184627116792,\n        \"min\": 0.799454539978497,\n        \"max\": 0.8219354184555853,\n        \"num_unique_values\": 48,\n        \"samples\": [\n          0.8178054399554385,\n          0.805767027159604,\n          0.8165059152869961\n        ],\n        \"semantic_type\": \"\",\n        \"description\": \"\"\n      }\n    },\n    {\n      \"column\": \"std_test_score\",\n      \"properties\": {\n        \"dtype\": \"number\",\n        \"std\": 0.0018673291544115775,\n        \"min\": 0.01955498838335681,\n        \"max\": 0.027494181863483933,\n        \"num_unique_values\": 48,\n        \"samples\": [\n          0.02138538918243359,\n          0.02390158322731107,\n          0.020012515945044454\n        ],\n        \"semantic_type\": \"\",\n        \"description\": \"\"\n      }\n    },\n    {\n      \"column\": \"rank_test_score\",\n      \"properties\": {\n        \"dtype\": \"int32\",\n        \"num_unique_values\": 48,\n        \"samples\": [\n          5,\n          34,\n          10\n        ],\n        \"semantic_type\": \"\",\n        \"description\": \"\"\n      }\n    }\n  ]\n}"
            }
          },
          "metadata": {},
          "execution_count": 14
        }
      ]
    },
    {
      "cell_type": "markdown",
      "source": [
        "Отрисуем, как менялась метрика при различных гиперпараметрах."
      ],
      "metadata": {
        "id": "PnPcYTSzHN9G"
      }
    },
    {
      "cell_type": "code",
      "source": [
        "fig, axes = plt.subplots(1, 2, figsize=(9, 4))\n",
        "visual1 = pd.pivot_table(pd.DataFrame(grid_search_rf.cv_results_),\n",
        "                        values='mean_test_score', index='param_n_estimators',\n",
        "                        columns='param_max_depth')\n",
        "#plt.figure(figsize=(5,5))\n",
        "sns.heatmap(visual1, ax=axes[0])\n",
        "axes[0].set_title('Тепловая карта зависимости f1-score\\n от n_estimators и max_depth');\n",
        "\n",
        "visual2 = pd.pivot_table(pd.DataFrame(grid_search_rf.cv_results_),\n",
        "                        values='mean_test_score', index='param_min_samples_leaf',\n",
        "                        columns='param_max_depth')\n",
        "#plt.figure(figsize=(5,5))\n",
        "sns.heatmap(visual2, ax=axes[1])\n",
        "axes[1].set_title('Тепловая карта зависимости f1-score\\n от min_samples_leaf и max_depth');"
      ],
      "metadata": {
        "colab": {
          "base_uri": "https://localhost:8080/",
          "height": 426
        },
        "id": "W3b1agfxeVdY",
        "outputId": "e5709413-3035-42fc-9011-000876511b5d"
      },
      "execution_count": null,
      "outputs": [
        {
          "output_type": "display_data",
          "data": {
            "text/plain": [
              "<Figure size 900x400 with 4 Axes>"
            ],
            "image/png": "[encoded data removed]"
          },
          "metadata": {}
        }
      ]
    },
    {
      "cell_type": "markdown",
      "source": [
        "Мы видим, что меньшие значения параметров n_estimators и max_depth и большие значения min_samples_leaf дают хуже значения метрики, учтем это."
      ],
      "metadata": {
        "id": "s4Lgx61ODbcR"
      }
    },
    {
      "cell_type": "markdown",
      "metadata": {
        "id": "vtDgsvlw5hjp"
      },
      "source": [
        "### <center> RandomizedSearchCV"
      ]
    },
    {
      "cell_type": "markdown",
      "metadata": {
        "id": "sVPQtrJG5hjq"
      },
      "source": [
        "#### Логистическая регрессия"
      ]
    },
    {
      "cell_type": "code",
      "execution_count": null,
      "metadata": {
        "id": "mJSPyoYL5hjq",
        "colab": {
          "base_uri": "https://localhost:8080/"
        },
        "outputId": "5ff6e37f-e5dc-45c5-8c30-04519bfd44c5"
      },
      "outputs": [
        {
          "output_type": "stream",
          "name": "stdout",
          "text": [
            "CPU times: user 5.87 s, sys: 275 ms, total: 6.14 s\n",
            "Wall time: 1min 16s\n",
            "f1_score на обучающем наборе: 0.83\n",
            "f1_score на тестовом наборе: 0.79\n",
            "Наилучшие значения гиперпараметров: {'solver': 'saga', 'penalty': 'l1', 'C': 0.31052631578947365}\n"
          ]
        }
      ],
      "source": [
        "# Зададим сетку гиперпараметров\n",
        "param_distributions = {\n",
        "    'penalty': ['l1', 'l2'] ,\n",
        "    'solver': ['liblinear', 'saga'],\n",
        "    'C': list(np.linspace(0.1, 0.6, 20, dtype=float))}\n",
        "\n",
        "# Создадим объект класса RandomizedSearchCV\n",
        "random_search_lr = RandomizedSearchCV(\n",
        "    estimator=linear_model.LogisticRegression(\n",
        "        random_state=random_state, max_iter=50),\n",
        "    param_distributions=param_distributions,\n",
        "    cv=5, # кросс-валидация\n",
        "    scoring='f1', # поменяем score-функцию согласно условию задания\n",
        "    n_iter = 30, # количество итераций\n",
        "    n_jobs = -1,\n",
        "    random_state=random_state\n",
        ")\n",
        "\n",
        "%time random_search_lr.fit(X_train, y_train)  # Замеряем время\n",
        "y_train_pred = random_search_lr.predict(X_train)\n",
        "print('f1_score на обучающем наборе: {:.2f}'.format(\n",
        "    metrics.f1_score(y_train, y_train_pred)))\n",
        "y_test_pred = random_search_lr.predict(X_test)\n",
        "print('f1_score на тестовом наборе: {:.2f}'.format(\n",
        "    metrics.f1_score(y_test, y_test_pred)))\n",
        "print(\"Наилучшие значения гиперпараметров: {}\".format(\n",
        "    random_search_lr.best_params_))"
      ]
    },
    {
      "cell_type": "code",
      "source": [
        "print(\"Наилучшее значение f1-score при кросс-валидаци: {:.2f}\".format(\n",
        "    random_search_lr.best_score_))"
      ],
      "metadata": {
        "colab": {
          "base_uri": "https://localhost:8080/"
        },
        "id": "e2Zr-aaEFXXj",
        "outputId": "8db8bcba-011d-46a6-cb85-1047c38ee999"
      },
      "execution_count": null,
      "outputs": [
        {
          "output_type": "stream",
          "name": "stdout",
          "text": [
            "Наилучшее значение f1-score при кросс-валидаци: 0.79\n"
          ]
        }
      ]
    },
    {
      "cell_type": "markdown",
      "source": [
        "Метрику на тестовых данных удалось улучшить за счет скорректированной после GridSearchCV сетки гиперпараметров. Времени затратили меньше, чем с GridSearchCV."
      ],
      "metadata": {
        "id": "0FnSqhg4Yhd3"
      }
    },
    {
      "cell_type": "markdown",
      "metadata": {
        "id": "LyaPNlNf5hjr"
      },
      "source": [
        "#### Случайный лес"
      ]
    },
    {
      "cell_type": "code",
      "source": [
        "# Зададим сетку гиперпараметров\n",
        "param_distributions = {'n_estimators': [150, 200, 250, 300, 350, 400],\n",
        "                       'min_samples_leaf': [1, 2, 3, 4, 5, 6, 7],\n",
        "                       'max_depth': [15, 20, 25, 30, 35]}\n",
        "\n",
        "# Создадим объект класса RandomizedSearchCV\n",
        "random_search_rf = RandomizedSearchCV(\n",
        "    estimator=ensemble.RandomForestClassifier(random_state=random_state),\n",
        "    param_distributions=param_distributions,\n",
        "    cv=5, # кросс-валидация\n",
        "    scoring='f1', # поменяем score-функцию согласно условию задания\n",
        "    n_iter = 30, # количество итераций\n",
        "    n_jobs = -1,\n",
        "    random_state=random_state\n",
        ")\n",
        "\n",
        "%time random_search_rf.fit(X_train, y_train) # Замеряем время\n",
        "y_train_pred = random_search_rf.predict(X_train)\n",
        "print('f1_score на обучающем наборе: {:.2f}'.format(\n",
        "    metrics.f1_score(y_train, y_train_pred)))\n",
        "y_test_pred = random_search_rf.predict(X_test)\n",
        "print('f1_score на тестовом наборе: {:.2f}'.format(metrics.f1_score(\n",
        "    y_test, y_test_pred)))\n",
        "print(\"Наилучшие значения гиперпараметров: {}\".format(\n",
        "    random_search_rf.best_params_))"
      ],
      "metadata": {
        "colab": {
          "base_uri": "https://localhost:8080/"
        },
        "id": "VGxOap-7eUC8",
        "outputId": "66e80ddf-0fa8-4341-f981-02b637c0533f"
      },
      "execution_count": null,
      "outputs": [
        {
          "output_type": "stream",
          "name": "stdout",
          "text": [
            "CPU times: user 5.21 s, sys: 269 ms, total: 5.48 s\n",
            "Wall time: 1min 58s\n",
            "f1_score на обучающем наборе: 0.99\n",
            "f1_score на тестовом наборе: 0.81\n",
            "Наилучшие значения гиперпараметров: {'n_estimators': 300, 'min_samples_leaf': 2, 'max_depth': 25}\n"
          ]
        }
      ]
    },
    {
      "cell_type": "markdown",
      "source": [
        "Метрика не улучшилась, но время затратили меньше, чем с GridSearchCV."
      ],
      "metadata": {
        "id": "nheaSi5seeUE"
      }
    },
    {
      "cell_type": "code",
      "source": [
        "print(\"Наилучшее значение f1-score при кросс-валидаци: {:.2f}\".format(\n",
        "    random_search_rf.best_score_))"
      ],
      "metadata": {
        "id": "-14owhVr2ygD",
        "colab": {
          "base_uri": "https://localhost:8080/"
        },
        "outputId": "d6adad02-53c4-4a4c-b589-9fec1735adcb"
      },
      "execution_count": null,
      "outputs": [
        {
          "output_type": "stream",
          "name": "stdout",
          "text": [
            "Наилучшее значение f1-score при кросс-валидаци: 0.82\n"
          ]
        }
      ]
    },
    {
      "cell_type": "markdown",
      "metadata": {
        "id": "qNrYbnJO5hjr"
      },
      "source": [
        "### <center> Hyperopt"
      ]
    },
    {
      "cell_type": "markdown",
      "metadata": {
        "id": "9ngs94HYuia1"
      },
      "source": [
        "#### Логистическая регрессия"
      ]
    },
    {
      "cell_type": "code",
      "source": [
        "# зададим пространство поиска гиперпараметров\n",
        "space_lr = {'penalty': hp.choice('penalty', ['l1', 'l2']), # тип регуляризации\n",
        "         'solver': hp.choice('solver', ['liblinear', 'saga']), # алгоритм оптимизации\n",
        "         'C':  hp.uniform('C', 0.1, 1)} # уровень силы регурялизации"
      ],
      "metadata": {
        "id": "Caj-SvX5uqsH"
      },
      "execution_count": null,
      "outputs": []
    },
    {
      "cell_type": "code",
      "source": [
        "# Функция для минимизации\n",
        "def hyperopt_lr(params, cv=5, X=X_train, y=y_train, random_state=random_state):\n",
        "    # функция получает комбинацию гиперпараметров в \"params\"\n",
        "    params = {'penalty': params['penalty'],\n",
        "              'solver': params['solver'],\n",
        "              'C': float(params['C'])\n",
        "              }\n",
        "\n",
        "    # используем эту комбинацию для построения модели\n",
        "    model = linear_model.LogisticRegression(\n",
        "        **params, max_iter=50, random_state=random_state)\n",
        "\n",
        "    #model.fit(X_train, y_train)\n",
        "    # применим  cross validation\n",
        "    score = cross_val_score(model, X, y, cv=cv, scoring=\"f1\", n_jobs=-1).mean()\n",
        "\n",
        "    # вернём значение метрики со знаком минус и параметры\n",
        "    return {'loss': -score, 'params': params, 'status': STATUS_OK}"
      ],
      "metadata": {
        "id": "YSq1GFIUN8vJ"
      },
      "execution_count": null,
      "outputs": []
    },
    {
      "cell_type": "code",
      "source": [
        "%%time\n",
        "# начинаем подбор гиперпараметров\n",
        "trials = Trials() # используется для логирования результатов\n",
        "\n",
        "# основная функция, она будет минимизировать наш функционал\n",
        "best=fmin(hyperopt_lr,\n",
        "          space=space_lr,\n",
        "          algo=tpe.suggest,\n",
        "          max_evals=30, # максимальное количество итераций\n",
        "          trials=trials,\n",
        "          rstate=np.random.default_rng(random_state)\n",
        "          #rstate=np.random.RandomState(random_state) для версии 0.2.5\n",
        "         )\n",
        "\n",
        "best_params = trials.best_trial['result']['params']\n",
        "print(\"Наилучшие значения гиперпараметров: {}\".format(best_params))\n",
        "#print(\"Наилучшие значения гиперпараметров: {}\".format(hyperopt.space_eval(space, best)))"
      ],
      "metadata": {
        "colab": {
          "base_uri": "https://localhost:8080/"
        },
        "id": "XKvWz-UnPX0h",
        "outputId": "c522b5f0-4eb7-4324-8f57-50c5995cb793"
      },
      "execution_count": null,
      "outputs": [
        {
          "output_type": "stream",
          "name": "stdout",
          "text": [
            "100%|██████████| 30/30 [02:59<00:00,  5.98s/trial, best loss: -0.7921745658980317]\n",
            "Наилучшие значения гиперпараметров: {'penalty': 'l1', 'solver': 'saga', 'C': 0.2570498841195761}\n",
            "CPU times: user 1.72 s, sys: 1.01 s, total: 2.73 s\n",
            "Wall time: 2min 59s\n"
          ]
        }
      ]
    },
    {
      "cell_type": "code",
      "source": [
        "# рассчитаем f1-score для тестовой выборки\n",
        "lr_hyperopt = linear_model.LogisticRegression(\n",
        "    random_state=random_state,\n",
        "    max_iter=50,\n",
        "    penalty=best_params['penalty'],\n",
        "    solver=best_params['solver'],\n",
        "    C=best_params['C']\n",
        ")\n",
        "lr_hyperopt.fit(X_train, y_train)\n",
        "y_train_pred = lr_hyperopt.predict(X_train)\n",
        "print('f1_score на обучающем наборе: {:.2f}'.format(\n",
        "    metrics.f1_score(y_train, y_train_pred)))\n",
        "y_test_pred = lr_hyperopt.predict(X_test)\n",
        "print('f1_score на тестовом наборе: {:.2f}'.format(\n",
        "    metrics.f1_score(y_test, y_test_pred)))"
      ],
      "metadata": {
        "colab": {
          "base_uri": "https://localhost:8080/"
        },
        "id": "1aORUYCaPeFa",
        "outputId": "1e56e905-8dd2-4ff0-f132-dc255fe14c01"
      },
      "execution_count": null,
      "outputs": [
        {
          "output_type": "stream",
          "name": "stdout",
          "text": [
            "f1_score на обучающем наборе: 0.83\n",
            "f1_score на тестовом наборе: 0.79\n"
          ]
        }
      ]
    },
    {
      "cell_type": "markdown",
      "source": [
        "F1-мера улучшилась по сравнению с изначальной, но относительно RandomizedSearchCV изменений нет."
      ],
      "metadata": {
        "id": "mri1Ma8rhkZp"
      }
    },
    {
      "cell_type": "code",
      "source": [
        "# отрисуем, как менялась метрика при коэффициенте С\n",
        "tpe_results=np.array([[x['result']['loss'],\n",
        "                      x['misc']['vals']['C'][0]] for x in trials.trials])\n",
        "\n",
        "tpe_results_df=pd.DataFrame(tpe_results,\n",
        "                           columns=['f1-score', 'C'])\n",
        "# линейный график\n",
        "tpe_results_df.plot(subplots=True,figsize=(9, 9));"
      ],
      "metadata": {
        "colab": {
          "base_uri": "https://localhost:8080/",
          "height": 753
        },
        "id": "4mnCbHpsLrgz",
        "outputId": "2fd23cac-ff99-4177-c9be-da46a563ce60"
      },
      "execution_count": null,
      "outputs": [
        {
          "output_type": "display_data",
          "data": {
            "text/plain": [
              "<Figure size 900x900 with 2 Axes>"
            ],
            "image/png": "[encoded data removed]"
          },
          "metadata": {}
        }
      ]
    },
    {
      "cell_type": "markdown",
      "metadata": {
        "id": "dKLTNTWuuibU"
      },
      "source": [
        "#### Случайный лес"
      ]
    },
    {
      "cell_type": "code",
      "source": [
        "# зададим пространство поиска гиперпараметров\n",
        "space_rf={'n_estimators': hp.quniform('n_estimators', 150, 400, 10),\n",
        "       'max_depth' : hp.quniform('max_depth', 15, 35, 5),\n",
        "       'min_samples_leaf': hp.quniform('min_samples_leaf', 1, 7, 1)\n",
        "      }"
      ],
      "metadata": {
        "id": "xZY0CRcrur9j"
      },
      "execution_count": null,
      "outputs": []
    },
    {
      "cell_type": "code",
      "source": [
        "# Функция для минимизации\n",
        "def hyperopt_rf(params, cv=5, X=X_train, y=y_train, random_state=random_state):\n",
        "    # функция получает комбинацию гиперпараметров в \"params\"\n",
        "    params = {'n_estimators': int(params['n_estimators']),\n",
        "              'max_depth': int(params['max_depth']),\n",
        "              'min_samples_leaf': int(params['min_samples_leaf'])\n",
        "              }\n",
        "\n",
        "    # используем эту комбинацию для построения модели\n",
        "    model = ensemble.RandomForestClassifier(**params, random_state=random_state)\n",
        "\n",
        "    #model.fit(X_train, y_train)\n",
        "    # применим  cross validation\n",
        "    score = cross_val_score(model, X, y, cv=cv, scoring=\"f1\", n_jobs=-1).mean()\n",
        "\n",
        "    # метрику необходимо минимизировать, поэтому ставим знак минус\n",
        "    return -score"
      ],
      "metadata": {
        "id": "RkhimrklIWHl"
      },
      "execution_count": null,
      "outputs": []
    },
    {
      "cell_type": "code",
      "source": [
        "%%time\n",
        "# начинаем подбор гиперпараметров\n",
        "trials = Trials() # используется для логирования результатов\n",
        "\n",
        "# основная функция, она будет минимизировать наш функционал\n",
        "best=fmin(hyperopt_rf,\n",
        "          space=space_rf,\n",
        "          algo=tpe.suggest,\n",
        "          max_evals=30, # максимальное количество итераций\n",
        "          trials=trials,\n",
        "          rstate=np.random.default_rng(random_state)\n",
        "          #rstate=np.random.RandomState(random_state) для версии 0.2.5\n",
        "         )\n",
        "print(\"Наилучшие значения гиперпараметров {}\".format(best))"
      ],
      "metadata": {
        "colab": {
          "base_uri": "https://localhost:8080/"
        },
        "id": "JD-JCSA_Kay3",
        "outputId": "36bec9fa-bcb7-48b7-f487-891d6fca688b"
      },
      "execution_count": null,
      "outputs": [
        {
          "output_type": "stream",
          "name": "stdout",
          "text": [
            "100%|██████████| 30/30 [03:08<00:00,  6.28s/trial, best loss: -0.820857487557719]\n",
            "Наилучшие значения гиперпараметров {'max_depth': 20.0, 'min_samples_leaf': 2.0, 'n_estimators': 400.0}\n",
            "CPU times: user 1.84 s, sys: 1.01 s, total: 2.85 s\n",
            "Wall time: 3min 8s\n"
          ]
        }
      ]
    },
    {
      "cell_type": "code",
      "source": [
        "# рассчитаем f1-score для тестовой выборки\n",
        "rf_hyperopt = ensemble.RandomForestClassifier(\n",
        "    random_state=random_state,\n",
        "    n_estimators=int(best['n_estimators']),\n",
        "    max_depth=int(best['max_depth']),\n",
        "    min_samples_leaf=int(best['min_samples_leaf'])\n",
        ")\n",
        "rf_hyperopt.fit(X_train, y_train)\n",
        "y_train_pred = rf_hyperopt.predict(X_train)\n",
        "print('f1_score на обучающем наборе: {:.2f}'.format(\n",
        "    metrics.f1_score(y_train, y_train_pred)))\n",
        "y_test_pred = rf_hyperopt.predict(X_test)\n",
        "print('f1_score на тестовом наборе: {:.2f}'.format(\n",
        "    metrics.f1_score(y_test, y_test_pred)))"
      ],
      "metadata": {
        "colab": {
          "base_uri": "https://localhost:8080/"
        },
        "id": "A_5qrF7DKiFv",
        "outputId": "bdc75d25-3ce1-441a-b88f-c93bd2e3116a"
      },
      "execution_count": null,
      "outputs": [
        {
          "output_type": "stream",
          "name": "stdout",
          "text": [
            "f1_score на обучающем наборе: 0.99\n",
            "f1_score на тестовом наборе: 0.81\n"
          ]
        }
      ]
    },
    {
      "cell_type": "markdown",
      "source": [
        "Целевая метрика не улучшилась."
      ],
      "metadata": {
        "id": "RAWT8RMqivLp"
      }
    },
    {
      "cell_type": "code",
      "source": [
        "# отрисуем, как менялась f1-score при различных гиперпараметрах\n",
        "tpe_results=np.array([[x['result']['loss'],\n",
        "                      x['misc']['vals']['max_depth'][0],\n",
        "                      x['misc']['vals']['min_samples_leaf'][0],\n",
        "                      x['misc']['vals']['n_estimators'][0]] for x in trials.trials])\n",
        "\n",
        "tpe_results_df=pd.DataFrame(\n",
        "    tpe_results, columns=['score', 'max_depth', 'min_samples_leaf', 'n_estimators'])\n",
        "# линейный график\n",
        "tpe_results_df.plot(subplots=True,figsize=(12, 9));"
      ],
      "metadata": {
        "colab": {
          "base_uri": "https://localhost:8080/",
          "height": 753
        },
        "id": "df9rW_p3K41i",
        "outputId": "14f1dd0f-2353-416c-8f09-ad864f458790"
      },
      "execution_count": null,
      "outputs": [
        {
          "output_type": "display_data",
          "data": {
            "text/plain": [
              "<Figure size 1200x900 with 4 Axes>"
            ],
            "image/png": "[encoded data removed]"
          },
          "metadata": {}
        }
      ]
    },
    {
      "cell_type": "markdown",
      "metadata": {
        "id": "7SbQj95l5hjs"
      },
      "source": [
        "## <center> Optuna"
      ]
    },
    {
      "cell_type": "markdown",
      "metadata": {
        "id": "oOiSuLyCuoFm"
      },
      "source": [
        "#### Логистическая регрессия"
      ]
    },
    {
      "cell_type": "code",
      "source": [
        "def optuna_lr(trial):\n",
        "    # задаем пространства поиска гиперпараметров\n",
        "    penalty = trial.suggest_categorical('penalty',['l1', 'l2'])\n",
        "    solver = trial.suggest_categorical('solver', ['liblinear', 'saga'])\n",
        "    c= trial.suggest_uniform('C', 0.1, 1)\n",
        "\n",
        "    # создаем модель\n",
        "    model = linear_model.LogisticRegression(\n",
        "        max_iter=50,\n",
        "        random_state=random_state,\n",
        "        penalty=penalty,\n",
        "        solver=solver,\n",
        "        C=c\n",
        "    )\n",
        "\n",
        "    #model.fit(X_train, y_train)\n",
        "    # применим  cross validation\n",
        "    score = cross_val_score(model, X, y, cv=5, scoring=\"f1\", n_jobs=-1).mean()\n",
        "\n",
        "    return score"
      ],
      "metadata": {
        "id": "RbsyU2bButG0"
      },
      "execution_count": null,
      "outputs": []
    },
    {
      "cell_type": "code",
      "source": [
        "%%time\n",
        "# cоздаем объект исследования\n",
        "study_lr = optuna.create_study(study_name=\"LogisticRegression\", direction=\"maximize\")\n",
        "# ищем лучшую комбинацию гиперпараметров n_trials раз\n",
        "study_lr.optimize(optuna_lr, n_trials=30)"
      ],
      "metadata": {
        "colab": {
          "base_uri": "https://localhost:8080/"
        },
        "id": "B7hGEABYj8Si",
        "outputId": "ec7af073-4632-498e-fd09-88d512bc7436"
      },
      "execution_count": null,
      "outputs": [
        {
          "output_type": "stream",
          "name": "stderr",
          "text": [
            "[I 2025-02-17 18:09:12,811] A new study created in memory with name: LogisticRegression\n",
            "[I 2025-02-17 18:09:13,896] Trial 0 finished with value: 0.7790633524291473 and parameters: {'penalty': 'l2', 'solver': 'liblinear', 'C': 0.653825174922676}. Best is trial 0 with value: 0.7790633524291473.\n",
            "[I 2025-02-17 18:09:25,631] Trial 1 finished with value: 0.7854700982898016 and parameters: {'penalty': 'l1', 'solver': 'saga', 'C': 0.7294127369128849}. Best is trial 1 with value: 0.7854700982898016.\n",
            "[I 2025-02-17 18:09:26,829] Trial 2 finished with value: 0.7744711953493978 and parameters: {'penalty': 'l2', 'solver': 'liblinear', 'C': 0.995501124958057}. Best is trial 1 with value: 0.7854700982898016.\n",
            "[I 2025-02-17 18:09:37,332] Trial 3 finished with value: 0.7874477595957011 and parameters: {'penalty': 'l1', 'solver': 'saga', 'C': 0.32323784074869044}. Best is trial 3 with value: 0.7874477595957011.\n",
            "[I 2025-02-17 18:09:38,407] Trial 4 finished with value: 0.7796015116716629 and parameters: {'penalty': 'l2', 'solver': 'liblinear', 'C': 0.332417219311746}. Best is trial 3 with value: 0.7874477595957011.\n",
            "[I 2025-02-17 18:09:39,320] Trial 5 finished with value: 0.7817545165933805 and parameters: {'penalty': 'l1', 'solver': 'liblinear', 'C': 0.634871580481757}. Best is trial 3 with value: 0.7874477595957011.\n",
            "[I 2025-02-17 18:09:50,141] Trial 6 finished with value: 0.7885714954958176 and parameters: {'penalty': 'l1', 'solver': 'saga', 'C': 0.4016923486276879}. Best is trial 6 with value: 0.7885714954958176.\n",
            "[I 2025-02-17 18:09:51,198] Trial 7 finished with value: 0.7778904868285226 and parameters: {'penalty': 'l2', 'solver': 'liblinear', 'C': 0.5295457683062947}. Best is trial 6 with value: 0.7885714954958176.\n",
            "[I 2025-02-17 18:09:52,088] Trial 8 finished with value: 0.7812826611411386 and parameters: {'penalty': 'l2', 'solver': 'liblinear', 'C': 0.2193302615040827}. Best is trial 6 with value: 0.7885714954958176.\n",
            "[I 2025-02-17 18:10:00,062] Trial 9 finished with value: 0.7788110411031456 and parameters: {'penalty': 'l2', 'solver': 'saga', 'C': 0.773319079196411}. Best is trial 6 with value: 0.7885714954958176.\n",
            "[I 2025-02-17 18:10:09,985] Trial 10 finished with value: 0.7844047546066971 and parameters: {'penalty': 'l1', 'solver': 'saga', 'C': 0.10059684072205693}. Best is trial 6 with value: 0.7885714954958176.\n",
            "[I 2025-02-17 18:10:20,779] Trial 11 finished with value: 0.7885753709407344 and parameters: {'penalty': 'l1', 'solver': 'saga', 'C': 0.3916748522617658}. Best is trial 11 with value: 0.7885753709407344.\n",
            "[I 2025-02-17 18:10:31,799] Trial 12 finished with value: 0.787457353335342 and parameters: {'penalty': 'l1', 'solver': 'saga', 'C': 0.48216930755231835}. Best is trial 11 with value: 0.7885753709407344.\n",
            "[I 2025-02-17 18:10:42,590] Trial 13 finished with value: 0.7883096004954251 and parameters: {'penalty': 'l1', 'solver': 'saga', 'C': 0.407170922851553}. Best is trial 11 with value: 0.7885753709407344.\n",
            "[I 2025-02-17 18:10:52,845] Trial 14 finished with value: 0.7881184123131405 and parameters: {'penalty': 'l1', 'solver': 'saga', 'C': 0.2307956541009914}. Best is trial 11 with value: 0.7885753709407344.\n",
            "[I 2025-02-17 18:11:03,786] Trial 15 finished with value: 0.7876401582081941 and parameters: {'penalty': 'l1', 'solver': 'saga', 'C': 0.4641446505222431}. Best is trial 11 with value: 0.7885753709407344.\n",
            "[I 2025-02-17 18:11:14,447] Trial 16 finished with value: 0.7881549025764463 and parameters: {'penalty': 'l1', 'solver': 'saga', 'C': 0.36454186760955415}. Best is trial 11 with value: 0.7885753709407344.\n",
            "[I 2025-02-17 18:11:24,677] Trial 17 finished with value: 0.7891514597312479 and parameters: {'penalty': 'l1', 'solver': 'saga', 'C': 0.21823920843867897}. Best is trial 17 with value: 0.7891514597312479.\n",
            "[I 2025-02-17 18:11:35,048] Trial 18 finished with value: 0.7863438232582192 and parameters: {'penalty': 'l1', 'solver': 'saga', 'C': 0.27457666583732926}. Best is trial 17 with value: 0.7891514597312479.\n",
            "[I 2025-02-17 18:11:45,154] Trial 19 finished with value: 0.787696686079834 and parameters: {'penalty': 'l1', 'solver': 'saga', 'C': 0.16608975697466072}. Best is trial 17 with value: 0.7891514597312479.\n",
            "[I 2025-02-17 18:11:55,106] Trial 20 finished with value: 0.7842257631361409 and parameters: {'penalty': 'l1', 'solver': 'saga', 'C': 0.10437400820602057}. Best is trial 17 with value: 0.7891514597312479.\n",
            "[I 2025-02-17 18:12:05,906] Trial 21 finished with value: 0.7883833370888527 and parameters: {'penalty': 'l1', 'solver': 'saga', 'C': 0.4035065903389684}. Best is trial 17 with value: 0.7891514597312479.\n",
            "[I 2025-02-17 18:12:17,215] Trial 22 finished with value: 0.7858788011878848 and parameters: {'penalty': 'l1', 'solver': 'saga', 'C': 0.5860373481775033}. Best is trial 17 with value: 0.7891514597312479.\n",
            "[I 2025-02-17 18:12:27,575] Trial 23 finished with value: 0.7865283219807044 and parameters: {'penalty': 'l1', 'solver': 'saga', 'C': 0.2717799296010462}. Best is trial 17 with value: 0.7891514597312479.\n",
            "[I 2025-02-17 18:12:38,578] Trial 24 finished with value: 0.7871604387991031 and parameters: {'penalty': 'l1', 'solver': 'saga', 'C': 0.46050044091850584}. Best is trial 17 with value: 0.7891514597312479.\n",
            "[I 2025-02-17 18:12:49,119] Trial 25 finished with value: 0.7872396082081637 and parameters: {'penalty': 'l1', 'solver': 'saga', 'C': 0.31330826525817285}. Best is trial 17 with value: 0.7891514597312479.\n",
            "[I 2025-02-17 18:13:00,727] Trial 26 finished with value: 0.7867254644717744 and parameters: {'penalty': 'l1', 'solver': 'saga', 'C': 0.17776147904946543}. Best is trial 17 with value: 0.7891514597312479.\n",
            "[I 2025-02-17 18:13:12,026] Trial 27 finished with value: 0.7885926025769872 and parameters: {'penalty': 'l1', 'solver': 'saga', 'C': 0.4145426603445444}. Best is trial 17 with value: 0.7891514597312479.\n",
            "[I 2025-02-17 18:13:24,029] Trial 28 finished with value: 0.7843242475890614 and parameters: {'penalty': 'l1', 'solver': 'saga', 'C': 0.8953893746972448}. Best is trial 17 with value: 0.7891514597312479.\n",
            "[I 2025-02-17 18:13:25,068] Trial 29 finished with value: 0.7782547294662444 and parameters: {'penalty': 'l2', 'solver': 'liblinear', 'C': 0.5510184321556326}. Best is trial 17 with value: 0.7891514597312479.\n"
          ]
        },
        {
          "output_type": "stream",
          "name": "stdout",
          "text": [
            "CPU times: user 2.06 s, sys: 1.24 s, total: 3.31 s\n",
            "Wall time: 4min 12s\n"
          ]
        }
      ]
    },
    {
      "cell_type": "code",
      "source": [
        "# выводим результаты на обучающей выборке\n",
        "print(\"Наилучшие значения гиперпараметров {}\".format(study_lr.best_params))\n",
        "print(\"f1_score на обучающем наборе: {:.2f}\".format(study_lr.best_value))"
      ],
      "metadata": {
        "colab": {
          "base_uri": "https://localhost:8080/"
        },
        "id": "8C13Fbe4kowf",
        "outputId": "249b565a-5739-4ec4-c598-4dfc05bca657"
      },
      "execution_count": null,
      "outputs": [
        {
          "output_type": "stream",
          "name": "stdout",
          "text": [
            "Наилучшие значения гиперпараметров {'penalty': 'l1', 'solver': 'saga', 'C': 0.21823920843867897}\n",
            "f1_score на обучающем наборе: 0.79\n"
          ]
        }
      ]
    },
    {
      "cell_type": "code",
      "source": [
        "# рассчитаем f1-score для тестовой выборки\n",
        "lr_optuna = linear_model.LogisticRegression(\n",
        "    **study_lr.best_params, random_state=random_state)\n",
        "lr_optuna.fit(X_train, y_train)\n",
        "y_train_pred = lr_optuna.predict(X_train)\n",
        "print('f1_score на обучающем наборе: {:.2f}'.format(\n",
        "    metrics.f1_score(y_train, y_train_pred)))\n",
        "y_test_pred = lr_optuna.predict(X_test)\n",
        "print('f1_score на тестовом наборе: {:.2f}'.format(\n",
        "    metrics.f1_score(y_test, y_test_pred)))"
      ],
      "metadata": {
        "colab": {
          "base_uri": "https://localhost:8080/"
        },
        "id": "vPZXrGhIkwTn",
        "outputId": "83b72077-adf1-4c92-dc67-b0177dab88b9"
      },
      "execution_count": null,
      "outputs": [
        {
          "output_type": "stream",
          "name": "stdout",
          "text": [
            "f1_score на обучающем наборе: 0.83\n",
            "f1_score на тестовом наборе: 0.78\n"
          ]
        }
      ]
    },
    {
      "cell_type": "markdown",
      "source": [
        "И снова метрику не удалось улучшить."
      ],
      "metadata": {
        "id": "MHUo2AEeknwb"
      }
    },
    {
      "cell_type": "code",
      "source": [
        "# Проверим, идет ли оптимизация гиперпараметров в правильном направлении\n",
        "optuna.visualization.plot_optimization_history(study_lr, target_name=\"f1_score\")"
      ],
      "metadata": {
        "colab": {
          "base_uri": "https://localhost:8080/",
          "height": 542
        },
        "id": "S_Gy-1q5mU-3",
        "outputId": "511403e8-5b7a-4f31-eccf-e06df905142b"
      },
      "execution_count": null,
      "outputs": [
        {
          "output_type": "display_data",
          "data": {
            "text/html": [
              "<html>\n",
              "<head><meta charset=\"utf-8\" /></head>\n",
              "<body>\n",
              "    <div>            <script src=\"https://cdnjs.cloudflare.com/ajax/libs/mathjax/2.7.5/MathJax.js?config=TeX-AMS-MML_SVG\"></script><script type=\"text/javascript\">if (window.MathJax && window.MathJax.Hub && window.MathJax.Hub.Config) {window.MathJax.Hub.Config({SVG: {font: \"STIX-Web\"}});}</script>                <script type=\"text/javascript\">window.PlotlyConfig = {MathJaxConfig: 'local'};</script>\n",
              "        <script charset=\"utf-8\" src=\"https://cdn.plot.ly/plotly-2.35.2.min.js\"></script>                <div id=\"5ddf3ea6-448f-4dec-8eec-df8637f1cb2e\" class=\"plotly-graph-div\" style=\"height:525px; width:100%;\"></div>            <script type=\"text/javascript\">                                    window.PLOTLYENV=window.PLOTLYENV || {};                                    if (document.getElementById(\"5ddf3ea6-448f-4dec-8eec-df8637f1cb2e\")) {                    Plotly.newPlot(                        \"5ddf3ea6-448f-4dec-8eec-df8637f1cb2e\",                        [{\"mode\":\"markers\",\"name\":\"f1_score\",\"x\":[0,1,2,3,4,5,6,7,8,9,10,11,12,13,14,15,16,17,18,19,20,21,22,23,24,25,26,27,28,29],\"y\":[0.7790633524291473,0.7854700982898016,0.7744711953493978,0.7874477595957011,0.7796015116716629,0.7817545165933805,0.7885714954958176,0.7778904868285226,0.7812826611411386,0.7788110411031456,0.7844047546066971,0.7885753709407344,0.787457353335342,0.7883096004954251,0.7881184123131405,0.7876401582081941,0.7881549025764463,0.7891514597312479,0.7863438232582192,0.787696686079834,0.7842257631361409,0.7883833370888527,0.7858788011878848,0.7865283219807044,0.7871604387991031,0.7872396082081637,0.7867254644717744,0.7885926025769872,0.7843242475890614,0.7782547294662444],\"type\":\"scatter\"},{\"mode\":\"lines\",\"name\":\"Best Value\",\"x\":[0,1,2,3,4,5,6,7,8,9,10,11,12,13,14,15,16,17,18,19,20,21,22,23,24,25,26,27,28,29],\"y\":[0.7790633524291473,0.7854700982898016,0.7854700982898016,0.7874477595957011,0.7874477595957011,0.7874477595957011,0.7885714954958176,0.7885714954958176,0.7885714954958176,0.7885714954958176,0.7885714954958176,0.7885753709407344,0.7885753709407344,0.7885753709407344,0.7885753709407344,0.7885753709407344,0.7885753709407344,0.7891514597312479,0.7891514597312479,0.7891514597312479,0.7891514597312479,0.7891514597312479,0.7891514597312479,0.7891514597312479,0.7891514597312479,0.7891514597312479,0.7891514597312479,0.7891514597312479,0.7891514597312479,0.7891514597312479],\"type\":\"scatter\"},{\"marker\":{\"color\":\"#cccccc\"},\"mode\":\"markers\",\"name\":\"Infeasible Trial\",\"showlegend\":false,\"x\":[],\"y\":[],\"type\":\"scatter\"}],                        {\"title\":{\"text\":\"Optimization History Plot\"},\"xaxis\":{\"title\":{\"text\":\"Trial\"}},\"yaxis\":{\"title\":{\"text\":\"f1_score\"}},\"template\":{\"data\":{\"histogram2dcontour\":[{\"type\":\"histogram2dcontour\",\"colorbar\":{\"outlinewidth\":0,\"ticks\":\"\"},\"colorscale\":[[0.0,\"#0d0887\"],[0.1111111111111111,\"#46039f\"],[0.2222222222222222,\"#7201a8\"],[0.3333333333333333,\"#9c179e\"],[0.4444444444444444,\"#bd3786\"],[0.5555555555555556,\"#d8576b\"],[0.6666666666666666,\"#ed7953\"],[0.7777777777777778,\"#fb9f3a\"],[0.8888888888888888,\"#fdca26\"],[1.0,\"#f0f921\"]]}],\"choropleth\":[{\"type\":\"choropleth\",\"colorbar\":{\"outlinewidth\":0,\"ticks\":\"\"}}],\"histogram2d\":[{\"type\":\"histogram2d\",\"colorbar\":{\"outlinewidth\":0,\"ticks\":\"\"},\"colorscale\":[[0.0,\"#0d0887\"],[0.1111111111111111,\"#46039f\"],[0.2222222222222222,\"#7201a8\"],[0.3333333333333333,\"#9c179e\"],[0.4444444444444444,\"#bd3786\"],[0.5555555555555556,\"#d8576b\"],[0.6666666666666666,\"#ed7953\"],[0.7777777777777778,\"#fb9f3a\"],[0.8888888888888888,\"#fdca26\"],[1.0,\"#f0f921\"]]}],\"heatmap\":[{\"type\":\"heatmap\",\"colorbar\":{\"outlinewidth\":0,\"ticks\":\"\"},\"colorscale\":[[0.0,\"#0d0887\"],[0.1111111111111111,\"#46039f\"],[0.2222222222222222,\"#7201a8\"],[0.3333333333333333,\"#9c179e\"],[0.4444444444444444,\"#bd3786\"],[0.5555555555555556,\"#d8576b\"],[0.6666666666666666,\"#ed7953\"],[0.7777777777777778,\"#fb9f3a\"],[0.8888888888888888,\"#fdca26\"],[1.0,\"#f0f921\"]]}],\"heatmapgl\":[{\"type\":\"heatmapgl\",\"colorbar\":{\"outlinewidth\":0,\"ticks\":\"\"},\"colorscale\":[[0.0,\"#0d0887\"],[0.1111111111111111,\"#46039f\"],[0.2222222222222222,\"#7201a8\"],[0.3333333333333333,\"#9c179e\"],[0.4444444444444444,\"#bd3786\"],[0.5555555555555556,\"#d8576b\"],[0.6666666666666666,\"#ed7953\"],[0.7777777777777778,\"#fb9f3a\"],[0.8888888888888888,\"#fdca26\"],[1.0,\"#f0f921\"]]}],\"contourcarpet\":[{\"type\":\"contourcarpet\",\"colorbar\":{\"outlinewidth\":0,\"ticks\":\"\"}}],\"contour\":[{\"type\":\"contour\",\"colorbar\":{\"outlinewidth\":0,\"ticks\":\"\"},\"colorscale\":[[0.0,\"#0d0887\"],[0.1111111111111111,\"#46039f\"],[0.2222222222222222,\"#7201a8\"],[0.3333333333333333,\"#9c179e\"],[0.4444444444444444,\"#bd3786\"],[0.5555555555555556,\"#d8576b\"],[0.6666666666666666,\"#ed7953\"],[0.7777777777777778,\"#fb9f3a\"],[0.8888888888888888,\"#fdca26\"],[1.0,\"#f0f921\"]]}],\"surface\":[{\"type\":\"surface\",\"colorbar\":{\"outlinewidth\":0,\"ticks\":\"\"},\"colorscale\":[[0.0,\"#0d0887\"],[0.1111111111111111,\"#46039f\"],[0.2222222222222222,\"#7201a8\"],[0.3333333333333333,\"#9c179e\"],[0.4444444444444444,\"#bd3786\"],[0.5555555555555556,\"#d8576b\"],[0.6666666666666666,\"#ed7953\"],[0.7777777777777778,\"#fb9f3a\"],[0.8888888888888888,\"#fdca26\"],[1.0,\"#f0f921\"]]}],\"mesh3d\":[{\"type\":\"mesh3d\",\"colorbar\":{\"outlinewidth\":0,\"ticks\":\"\"}}],\"scatter\":[{\"fillpattern\":{\"fillmode\":\"overlay\",\"size\":10,\"solidity\":0.2},\"type\":\"scatter\"}],\"parcoords\":[{\"type\":\"parcoords\",\"line\":{\"colorbar\":{\"outlinewidth\":0,\"ticks\":\"\"}}}],\"scatterpolargl\":[{\"type\":\"scatterpolargl\",\"marker\":{\"colorbar\":{\"outlinewidth\":0,\"ticks\":\"\"}}}],\"bar\":[{\"error_x\":{\"color\":\"#2a3f5f\"},\"error_y\":{\"color\":\"#2a3f5f\"},\"marker\":{\"line\":{\"color\":\"#E5ECF6\",\"width\":0.5},\"pattern\":{\"fillmode\":\"overlay\",\"size\":10,\"solidity\":0.2}},\"type\":\"bar\"}],\"scattergeo\":[{\"type\":\"scattergeo\",\"marker\":{\"colorbar\":{\"outlinewidth\":0,\"ticks\":\"\"}}}],\"scatterpolar\":[{\"type\":\"scatterpolar\",\"marker\":{\"colorbar\":{\"outlinewidth\":0,\"ticks\":\"\"}}}],\"histogram\":[{\"marker\":{\"pattern\":{\"fillmode\":\"overlay\",\"size\":10,\"solidity\":0.2}},\"type\":\"histogram\"}],\"scattergl\":[{\"type\":\"scattergl\",\"marker\":{\"colorbar\":{\"outlinewidth\":0,\"ticks\":\"\"}}}],\"scatter3d\":[{\"type\":\"scatter3d\",\"line\":{\"colorbar\":{\"outlinewidth\":0,\"ticks\":\"\"}},\"marker\":{\"colorbar\":{\"outlinewidth\":0,\"ticks\":\"\"}}}],\"scattermapbox\":[{\"type\":\"scattermapbox\",\"marker\":{\"colorbar\":{\"outlinewidth\":0,\"ticks\":\"\"}}}],\"scatterternary\":[{\"type\":\"scatterternary\",\"marker\":{\"colorbar\":{\"outlinewidth\":0,\"ticks\":\"\"}}}],\"scattercarpet\":[{\"type\":\"scattercarpet\",\"marker\":{\"colorbar\":{\"outlinewidth\":0,\"ticks\":\"\"}}}],\"carpet\":[{\"aaxis\":{\"endlinecolor\":\"#2a3f5f\",\"gridcolor\":\"white\",\"linecolor\":\"white\",\"minorgridcolor\":\"white\",\"startlinecolor\":\"#2a3f5f\"},\"baxis\":{\"endlinecolor\":\"#2a3f5f\",\"gridcolor\":\"white\",\"linecolor\":\"white\",\"minorgridcolor\":\"white\",\"startlinecolor\":\"#2a3f5f\"},\"type\":\"carpet\"}],\"table\":[{\"cells\":{\"fill\":{\"color\":\"#EBF0F8\"},\"line\":{\"color\":\"white\"}},\"header\":{\"fill\":{\"color\":\"#C8D4E3\"},\"line\":{\"color\":\"white\"}},\"type\":\"table\"}],\"barpolar\":[{\"marker\":{\"line\":{\"color\":\"#E5ECF6\",\"width\":0.5},\"pattern\":{\"fillmode\":\"overlay\",\"size\":10,\"solidity\":0.2}},\"type\":\"barpolar\"}],\"pie\":[{\"automargin\":true,\"type\":\"pie\"}]},\"layout\":{\"autotypenumbers\":\"strict\",\"colorway\":[\"#636efa\",\"#EF553B\",\"#00cc96\",\"#ab63fa\",\"#FFA15A\",\"#19d3f3\",\"#FF6692\",\"#B6E880\",\"#FF97FF\",\"#FECB52\"],\"font\":{\"color\":\"#2a3f5f\"},\"hovermode\":\"closest\",\"hoverlabel\":{\"align\":\"left\"},\"paper_bgcolor\":\"white\",\"plot_bgcolor\":\"#E5ECF6\",\"polar\":{\"bgcolor\":\"#E5ECF6\",\"angularaxis\":{\"gridcolor\":\"white\",\"linecolor\":\"white\",\"ticks\":\"\"},\"radialaxis\":{\"gridcolor\":\"white\",\"linecolor\":\"white\",\"ticks\":\"\"}},\"ternary\":{\"bgcolor\":\"#E5ECF6\",\"aaxis\":{\"gridcolor\":\"white\",\"linecolor\":\"white\",\"ticks\":\"\"},\"baxis\":{\"gridcolor\":\"white\",\"linecolor\":\"white\",\"ticks\":\"\"},\"caxis\":{\"gridcolor\":\"white\",\"linecolor\":\"white\",\"ticks\":\"\"}},\"coloraxis\":{\"colorbar\":{\"outlinewidth\":0,\"ticks\":\"\"}},\"colorscale\":{\"sequential\":[[0.0,\"#0d0887\"],[0.1111111111111111,\"#46039f\"],[0.2222222222222222,\"#7201a8\"],[0.3333333333333333,\"#9c179e\"],[0.4444444444444444,\"#bd3786\"],[0.5555555555555556,\"#d8576b\"],[0.6666666666666666,\"#ed7953\"],[0.7777777777777778,\"#fb9f3a\"],[0.8888888888888888,\"#fdca26\"],[1.0,\"#f0f921\"]],\"sequentialminus\":[[0.0,\"#0d0887\"],[0.1111111111111111,\"#46039f\"],[0.2222222222222222,\"#7201a8\"],[0.3333333333333333,\"#9c179e\"],[0.4444444444444444,\"#bd3786\"],[0.5555555555555556,\"#d8576b\"],[0.6666666666666666,\"#ed7953\"],[0.7777777777777778,\"#fb9f3a\"],[0.8888888888888888,\"#fdca26\"],[1.0,\"#f0f921\"]],\"diverging\":[[0,\"#8e0152\"],[0.1,\"#c51b7d\"],[0.2,\"#de77ae\"],[0.3,\"#f1b6da\"],[0.4,\"#fde0ef\"],[0.5,\"#f7f7f7\"],[0.6,\"#e6f5d0\"],[0.7,\"#b8e186\"],[0.8,\"#7fbc41\"],[0.9,\"#4d9221\"],[1,\"#276419\"]]},\"xaxis\":{\"gridcolor\":\"white\",\"linecolor\":\"white\",\"ticks\":\"\",\"title\":{\"standoff\":15},\"zerolinecolor\":\"white\",\"automargin\":true,\"zerolinewidth\":2},\"yaxis\":{\"gridcolor\":\"white\",\"linecolor\":\"white\",\"ticks\":\"\",\"title\":{\"standoff\":15},\"zerolinecolor\":\"white\",\"automargin\":true,\"zerolinewidth\":2},\"scene\":{\"xaxis\":{\"backgroundcolor\":\"#E5ECF6\",\"gridcolor\":\"white\",\"linecolor\":\"white\",\"showbackground\":true,\"ticks\":\"\",\"zerolinecolor\":\"white\",\"gridwidth\":2},\"yaxis\":{\"backgroundcolor\":\"#E5ECF6\",\"gridcolor\":\"white\",\"linecolor\":\"white\",\"showbackground\":true,\"ticks\":\"\",\"zerolinecolor\":\"white\",\"gridwidth\":2},\"zaxis\":{\"backgroundcolor\":\"#E5ECF6\",\"gridcolor\":\"white\",\"linecolor\":\"white\",\"showbackground\":true,\"ticks\":\"\",\"zerolinecolor\":\"white\",\"gridwidth\":2}},\"shapedefaults\":{\"line\":{\"color\":\"#2a3f5f\"}},\"annotationdefaults\":{\"arrowcolor\":\"#2a3f5f\",\"arrowhead\":0,\"arrowwidth\":1},\"geo\":{\"bgcolor\":\"white\",\"landcolor\":\"#E5ECF6\",\"subunitcolor\":\"white\",\"showland\":true,\"showlakes\":true,\"lakecolor\":\"white\"},\"title\":{\"x\":0.05},\"mapbox\":{\"style\":\"light\"}}}},                        {\"responsive\": true}                    ).then(function(){\n",
              "                            \n",
              "var gd = document.getElementById('5ddf3ea6-448f-4dec-8eec-df8637f1cb2e');\n",
              "var x = new MutationObserver(function (mutations, observer) {{\n",
              "        var display = window.getComputedStyle(gd).display;\n",
              "        if (!display || display === 'none') {{\n",
              "            console.log([gd, 'removed!']);\n",
              "            Plotly.purge(gd);\n",
              "            observer.disconnect();\n",
              "        }}\n",
              "}});\n",
              "\n",
              "// Listen for the removal of the full notebook cells\n",
              "var notebookContainer = gd.closest('#notebook-container');\n",
              "if (notebookContainer) {{\n",
              "    x.observe(notebookContainer, {childList: true});\n",
              "}}\n",
              "\n",
              "// Listen for the clearing of the current output cell\n",
              "var outputEl = gd.closest('.output');\n",
              "if (outputEl) {{\n",
              "    x.observe(outputEl, {childList: true});\n",
              "}}\n",
              "\n",
              "                        })                };                            </script>        </div>\n",
              "</body>\n",
              "</html>"
            ]
          },
          "metadata": {}
        }
      ]
    },
    {
      "cell_type": "markdown",
      "source": [
        "Метрика, как и задумано, максимизируется."
      ],
      "metadata": {
        "id": "IN4VoZbyhI97"
      }
    },
    {
      "cell_type": "code",
      "source": [
        "# График важности гиперпараметров\n",
        "optuna.visualization.plot_param_importances(study_lr, target_name=\"f1_score\")"
      ],
      "metadata": {
        "colab": {
          "base_uri": "https://localhost:8080/",
          "height": 542
        },
        "id": "bW5SX4gNmdR6",
        "outputId": "f892fa56-0f1d-4375-83e9-4d5210ed501a"
      },
      "execution_count": null,
      "outputs": [
        {
          "output_type": "display_data",
          "data": {
            "text/html": [
              "<html>\n",
              "<head><meta charset=\"utf-8\" /></head>\n",
              "<body>\n",
              "    <div>            <script src=\"https://cdnjs.cloudflare.com/ajax/libs/mathjax/2.7.5/MathJax.js?config=TeX-AMS-MML_SVG\"></script><script type=\"text/javascript\">if (window.MathJax && window.MathJax.Hub && window.MathJax.Hub.Config) {window.MathJax.Hub.Config({SVG: {font: \"STIX-Web\"}});}</script>                <script type=\"text/javascript\">window.PlotlyConfig = {MathJaxConfig: 'local'};</script>\n",
              "        <script charset=\"utf-8\" src=\"https://cdn.plot.ly/plotly-2.35.2.min.js\"></script>                <div id=\"21d4db52-6002-4b96-a564-1925bf4d1871\" class=\"plotly-graph-div\" style=\"height:525px; width:100%;\"></div>            <script type=\"text/javascript\">                                    window.PLOTLYENV=window.PLOTLYENV || {};                                    if (document.getElementById(\"21d4db52-6002-4b96-a564-1925bf4d1871\")) {                    Plotly.newPlot(                        \"21d4db52-6002-4b96-a564-1925bf4d1871\",                        [{\"cliponaxis\":false,\"hovertemplate\":[\"C (FloatDistribution): 0.12811237205931036\\u003cextra\\u003e\\u003c\\u002fextra\\u003e\",\"solver (CategoricalDistribution): 0.25139578409811114\\u003cextra\\u003e\\u003c\\u002fextra\\u003e\",\"penalty (CategoricalDistribution): 0.6204918438425786\\u003cextra\\u003e\\u003c\\u002fextra\\u003e\"],\"name\":\"f1_score\",\"orientation\":\"h\",\"text\":[\"0.13\",\"0.25\",\"0.62\"],\"textposition\":\"outside\",\"x\":[0.12811237205931036,0.25139578409811114,0.6204918438425786],\"y\":[\"C\",\"solver\",\"penalty\"],\"type\":\"bar\"}],                        {\"title\":{\"text\":\"Hyperparameter Importances\"},\"xaxis\":{\"title\":{\"text\":\"Hyperparameter Importance\"}},\"yaxis\":{\"title\":{\"text\":\"Hyperparameter\"}},\"template\":{\"data\":{\"histogram2dcontour\":[{\"type\":\"histogram2dcontour\",\"colorbar\":{\"outlinewidth\":0,\"ticks\":\"\"},\"colorscale\":[[0.0,\"#0d0887\"],[0.1111111111111111,\"#46039f\"],[0.2222222222222222,\"#7201a8\"],[0.3333333333333333,\"#9c179e\"],[0.4444444444444444,\"#bd3786\"],[0.5555555555555556,\"#d8576b\"],[0.6666666666666666,\"#ed7953\"],[0.7777777777777778,\"#fb9f3a\"],[0.8888888888888888,\"#fdca26\"],[1.0,\"#f0f921\"]]}],\"choropleth\":[{\"type\":\"choropleth\",\"colorbar\":{\"outlinewidth\":0,\"ticks\":\"\"}}],\"histogram2d\":[{\"type\":\"histogram2d\",\"colorbar\":{\"outlinewidth\":0,\"ticks\":\"\"},\"colorscale\":[[0.0,\"#0d0887\"],[0.1111111111111111,\"#46039f\"],[0.2222222222222222,\"#7201a8\"],[0.3333333333333333,\"#9c179e\"],[0.4444444444444444,\"#bd3786\"],[0.5555555555555556,\"#d8576b\"],[0.6666666666666666,\"#ed7953\"],[0.7777777777777778,\"#fb9f3a\"],[0.8888888888888888,\"#fdca26\"],[1.0,\"#f0f921\"]]}],\"heatmap\":[{\"type\":\"heatmap\",\"colorbar\":{\"outlinewidth\":0,\"ticks\":\"\"},\"colorscale\":[[0.0,\"#0d0887\"],[0.1111111111111111,\"#46039f\"],[0.2222222222222222,\"#7201a8\"],[0.3333333333333333,\"#9c179e\"],[0.4444444444444444,\"#bd3786\"],[0.5555555555555556,\"#d8576b\"],[0.6666666666666666,\"#ed7953\"],[0.7777777777777778,\"#fb9f3a\"],[0.8888888888888888,\"#fdca26\"],[1.0,\"#f0f921\"]]}],\"heatmapgl\":[{\"type\":\"heatmapgl\",\"colorbar\":{\"outlinewidth\":0,\"ticks\":\"\"},\"colorscale\":[[0.0,\"#0d0887\"],[0.1111111111111111,\"#46039f\"],[0.2222222222222222,\"#7201a8\"],[0.3333333333333333,\"#9c179e\"],[0.4444444444444444,\"#bd3786\"],[0.5555555555555556,\"#d8576b\"],[0.6666666666666666,\"#ed7953\"],[0.7777777777777778,\"#fb9f3a\"],[0.8888888888888888,\"#fdca26\"],[1.0,\"#f0f921\"]]}],\"contourcarpet\":[{\"type\":\"contourcarpet\",\"colorbar\":{\"outlinewidth\":0,\"ticks\":\"\"}}],\"contour\":[{\"type\":\"contour\",\"colorbar\":{\"outlinewidth\":0,\"ticks\":\"\"},\"colorscale\":[[0.0,\"#0d0887\"],[0.1111111111111111,\"#46039f\"],[0.2222222222222222,\"#7201a8\"],[0.3333333333333333,\"#9c179e\"],[0.4444444444444444,\"#bd3786\"],[0.5555555555555556,\"#d8576b\"],[0.6666666666666666,\"#ed7953\"],[0.7777777777777778,\"#fb9f3a\"],[0.8888888888888888,\"#fdca26\"],[1.0,\"#f0f921\"]]}],\"surface\":[{\"type\":\"surface\",\"colorbar\":{\"outlinewidth\":0,\"ticks\":\"\"},\"colorscale\":[[0.0,\"#0d0887\"],[0.1111111111111111,\"#46039f\"],[0.2222222222222222,\"#7201a8\"],[0.3333333333333333,\"#9c179e\"],[0.4444444444444444,\"#bd3786\"],[0.5555555555555556,\"#d8576b\"],[0.6666666666666666,\"#ed7953\"],[0.7777777777777778,\"#fb9f3a\"],[0.8888888888888888,\"#fdca26\"],[1.0,\"#f0f921\"]]}],\"mesh3d\":[{\"type\":\"mesh3d\",\"colorbar\":{\"outlinewidth\":0,\"ticks\":\"\"}}],\"scatter\":[{\"fillpattern\":{\"fillmode\":\"overlay\",\"size\":10,\"solidity\":0.2},\"type\":\"scatter\"}],\"parcoords\":[{\"type\":\"parcoords\",\"line\":{\"colorbar\":{\"outlinewidth\":0,\"ticks\":\"\"}}}],\"scatterpolargl\":[{\"type\":\"scatterpolargl\",\"marker\":{\"colorbar\":{\"outlinewidth\":0,\"ticks\":\"\"}}}],\"bar\":[{\"error_x\":{\"color\":\"#2a3f5f\"},\"error_y\":{\"color\":\"#2a3f5f\"},\"marker\":{\"line\":{\"color\":\"#E5ECF6\",\"width\":0.5},\"pattern\":{\"fillmode\":\"overlay\",\"size\":10,\"solidity\":0.2}},\"type\":\"bar\"}],\"scattergeo\":[{\"type\":\"scattergeo\",\"marker\":{\"colorbar\":{\"outlinewidth\":0,\"ticks\":\"\"}}}],\"scatterpolar\":[{\"type\":\"scatterpolar\",\"marker\":{\"colorbar\":{\"outlinewidth\":0,\"ticks\":\"\"}}}],\"histogram\":[{\"marker\":{\"pattern\":{\"fillmode\":\"overlay\",\"size\":10,\"solidity\":0.2}},\"type\":\"histogram\"}],\"scattergl\":[{\"type\":\"scattergl\",\"marker\":{\"colorbar\":{\"outlinewidth\":0,\"ticks\":\"\"}}}],\"scatter3d\":[{\"type\":\"scatter3d\",\"line\":{\"colorbar\":{\"outlinewidth\":0,\"ticks\":\"\"}},\"marker\":{\"colorbar\":{\"outlinewidth\":0,\"ticks\":\"\"}}}],\"scattermapbox\":[{\"type\":\"scattermapbox\",\"marker\":{\"colorbar\":{\"outlinewidth\":0,\"ticks\":\"\"}}}],\"scatterternary\":[{\"type\":\"scatterternary\",\"marker\":{\"colorbar\":{\"outlinewidth\":0,\"ticks\":\"\"}}}],\"scattercarpet\":[{\"type\":\"scattercarpet\",\"marker\":{\"colorbar\":{\"outlinewidth\":0,\"ticks\":\"\"}}}],\"carpet\":[{\"aaxis\":{\"endlinecolor\":\"#2a3f5f\",\"gridcolor\":\"white\",\"linecolor\":\"white\",\"minorgridcolor\":\"white\",\"startlinecolor\":\"#2a3f5f\"},\"baxis\":{\"endlinecolor\":\"#2a3f5f\",\"gridcolor\":\"white\",\"linecolor\":\"white\",\"minorgridcolor\":\"white\",\"startlinecolor\":\"#2a3f5f\"},\"type\":\"carpet\"}],\"table\":[{\"cells\":{\"fill\":{\"color\":\"#EBF0F8\"},\"line\":{\"color\":\"white\"}},\"header\":{\"fill\":{\"color\":\"#C8D4E3\"},\"line\":{\"color\":\"white\"}},\"type\":\"table\"}],\"barpolar\":[{\"marker\":{\"line\":{\"color\":\"#E5ECF6\",\"width\":0.5},\"pattern\":{\"fillmode\":\"overlay\",\"size\":10,\"solidity\":0.2}},\"type\":\"barpolar\"}],\"pie\":[{\"automargin\":true,\"type\":\"pie\"}]},\"layout\":{\"autotypenumbers\":\"strict\",\"colorway\":[\"#636efa\",\"#EF553B\",\"#00cc96\",\"#ab63fa\",\"#FFA15A\",\"#19d3f3\",\"#FF6692\",\"#B6E880\",\"#FF97FF\",\"#FECB52\"],\"font\":{\"color\":\"#2a3f5f\"},\"hovermode\":\"closest\",\"hoverlabel\":{\"align\":\"left\"},\"paper_bgcolor\":\"white\",\"plot_bgcolor\":\"#E5ECF6\",\"polar\":{\"bgcolor\":\"#E5ECF6\",\"angularaxis\":{\"gridcolor\":\"white\",\"linecolor\":\"white\",\"ticks\":\"\"},\"radialaxis\":{\"gridcolor\":\"white\",\"linecolor\":\"white\",\"ticks\":\"\"}},\"ternary\":{\"bgcolor\":\"#E5ECF6\",\"aaxis\":{\"gridcolor\":\"white\",\"linecolor\":\"white\",\"ticks\":\"\"},\"baxis\":{\"gridcolor\":\"white\",\"linecolor\":\"white\",\"ticks\":\"\"},\"caxis\":{\"gridcolor\":\"white\",\"linecolor\":\"white\",\"ticks\":\"\"}},\"coloraxis\":{\"colorbar\":{\"outlinewidth\":0,\"ticks\":\"\"}},\"colorscale\":{\"sequential\":[[0.0,\"#0d0887\"],[0.1111111111111111,\"#46039f\"],[0.2222222222222222,\"#7201a8\"],[0.3333333333333333,\"#9c179e\"],[0.4444444444444444,\"#bd3786\"],[0.5555555555555556,\"#d8576b\"],[0.6666666666666666,\"#ed7953\"],[0.7777777777777778,\"#fb9f3a\"],[0.8888888888888888,\"#fdca26\"],[1.0,\"#f0f921\"]],\"sequentialminus\":[[0.0,\"#0d0887\"],[0.1111111111111111,\"#46039f\"],[0.2222222222222222,\"#7201a8\"],[0.3333333333333333,\"#9c179e\"],[0.4444444444444444,\"#bd3786\"],[0.5555555555555556,\"#d8576b\"],[0.6666666666666666,\"#ed7953\"],[0.7777777777777778,\"#fb9f3a\"],[0.8888888888888888,\"#fdca26\"],[1.0,\"#f0f921\"]],\"diverging\":[[0,\"#8e0152\"],[0.1,\"#c51b7d\"],[0.2,\"#de77ae\"],[0.3,\"#f1b6da\"],[0.4,\"#fde0ef\"],[0.5,\"#f7f7f7\"],[0.6,\"#e6f5d0\"],[0.7,\"#b8e186\"],[0.8,\"#7fbc41\"],[0.9,\"#4d9221\"],[1,\"#276419\"]]},\"xaxis\":{\"gridcolor\":\"white\",\"linecolor\":\"white\",\"ticks\":\"\",\"title\":{\"standoff\":15},\"zerolinecolor\":\"white\",\"automargin\":true,\"zerolinewidth\":2},\"yaxis\":{\"gridcolor\":\"white\",\"linecolor\":\"white\",\"ticks\":\"\",\"title\":{\"standoff\":15},\"zerolinecolor\":\"white\",\"automargin\":true,\"zerolinewidth\":2},\"scene\":{\"xaxis\":{\"backgroundcolor\":\"#E5ECF6\",\"gridcolor\":\"white\",\"linecolor\":\"white\",\"showbackground\":true,\"ticks\":\"\",\"zerolinecolor\":\"white\",\"gridwidth\":2},\"yaxis\":{\"backgroundcolor\":\"#E5ECF6\",\"gridcolor\":\"white\",\"linecolor\":\"white\",\"showbackground\":true,\"ticks\":\"\",\"zerolinecolor\":\"white\",\"gridwidth\":2},\"zaxis\":{\"backgroundcolor\":\"#E5ECF6\",\"gridcolor\":\"white\",\"linecolor\":\"white\",\"showbackground\":true,\"ticks\":\"\",\"zerolinecolor\":\"white\",\"gridwidth\":2}},\"shapedefaults\":{\"line\":{\"color\":\"#2a3f5f\"}},\"annotationdefaults\":{\"arrowcolor\":\"#2a3f5f\",\"arrowhead\":0,\"arrowwidth\":1},\"geo\":{\"bgcolor\":\"white\",\"landcolor\":\"#E5ECF6\",\"subunitcolor\":\"white\",\"showland\":true,\"showlakes\":true,\"lakecolor\":\"white\"},\"title\":{\"x\":0.05},\"mapbox\":{\"style\":\"light\"}}}},                        {\"responsive\": true}                    ).then(function(){\n",
              "                            \n",
              "var gd = document.getElementById('21d4db52-6002-4b96-a564-1925bf4d1871');\n",
              "var x = new MutationObserver(function (mutations, observer) {{\n",
              "        var display = window.getComputedStyle(gd).display;\n",
              "        if (!display || display === 'none') {{\n",
              "            console.log([gd, 'removed!']);\n",
              "            Plotly.purge(gd);\n",
              "            observer.disconnect();\n",
              "        }}\n",
              "}});\n",
              "\n",
              "// Listen for the removal of the full notebook cells\n",
              "var notebookContainer = gd.closest('#notebook-container');\n",
              "if (notebookContainer) {{\n",
              "    x.observe(notebookContainer, {childList: true});\n",
              "}}\n",
              "\n",
              "// Listen for the clearing of the current output cell\n",
              "var outputEl = gd.closest('.output');\n",
              "if (outputEl) {{\n",
              "    x.observe(outputEl, {childList: true});\n",
              "}}\n",
              "\n",
              "                        })                };                            </script>        </div>\n",
              "</body>\n",
              "</html>"
            ]
          },
          "metadata": {}
        }
      ]
    },
    {
      "cell_type": "markdown",
      "source": [
        "Как видно из графика, коэффициент С вносит больший вклад в целевую метрику."
      ],
      "metadata": {
        "id": "m4gTXCqYgbyy"
      }
    },
    {
      "cell_type": "markdown",
      "metadata": {
        "id": "FF2YVtfyuoFn"
      },
      "source": [
        "#### Случайный лес"
      ]
    },
    {
      "cell_type": "code",
      "source": [
        "def optuna_rf(trial):\n",
        "    # задаем пространства поиска гиперпараметров\n",
        "    n_estimators = trial.suggest_int('n_estimators', 150, 400, 10)\n",
        "    max_depth = trial.suggest_int('max_depth', 15, 35, 5)\n",
        "    min_samples_leaf = trial.suggest_int('min_samples_leaf', 1, 7, 1)\n",
        "\n",
        "    # создаем модель\n",
        "    model = ensemble.RandomForestClassifier(\n",
        "        n_estimators=n_estimators,\n",
        "        max_depth=max_depth,\n",
        "        min_samples_leaf=min_samples_leaf,\n",
        "        random_state=random_state)\n",
        "\n",
        "    #model.fit(X_train, y_train)\n",
        "    # применим  cross validation\n",
        "    score = cross_val_score(model, X, y, cv=5, scoring=\"f1\", n_jobs=-1).mean()\n",
        "    #score = metrics.f1_score(y_train, model.predict(X_train))\n",
        "\n",
        "    return score"
      ],
      "metadata": {
        "id": "fXv0v_gXuuUz"
      },
      "execution_count": null,
      "outputs": []
    },
    {
      "cell_type": "code",
      "source": [
        "%%time\n",
        "# cоздаем объект исследования\n",
        "study_rf = optuna.create_study(study_name=\"RandomForestClassifier\", direction=\"maximize\")\n",
        "# ищем лучшую комбинацию гиперпараметров n_trials раз\n",
        "study_rf.optimize(optuna_rf, n_trials=30)"
      ],
      "metadata": {
        "colab": {
          "base_uri": "https://localhost:8080/"
        },
        "id": "Np7Ey1O2g9cy",
        "outputId": "907ba87e-3252-4355-c627-a78b349e1fa7"
      },
      "execution_count": null,
      "outputs": [
        {
          "output_type": "stream",
          "name": "stderr",
          "text": [
            "[I 2025-02-17 18:23:05,752] A new study created in memory with name: RandomForestClassifier\n",
            "[I 2025-02-17 18:23:13,885] Trial 0 finished with value: 0.8095243828009512 and parameters: {'n_estimators': 260, 'max_depth': 35, 'min_samples_leaf': 4}. Best is trial 0 with value: 0.8095243828009512.\n",
            "[I 2025-02-17 18:23:23,156] Trial 1 finished with value: 0.8026340371870979 and parameters: {'n_estimators': 390, 'max_depth': 30, 'min_samples_leaf': 7}. Best is trial 0 with value: 0.8095243828009512.\n",
            "[I 2025-02-17 18:23:28,297] Trial 2 finished with value: 0.8077911473077306 and parameters: {'n_estimators': 200, 'max_depth': 30, 'min_samples_leaf': 4}. Best is trial 0 with value: 0.8095243828009512.\n",
            "[I 2025-02-17 18:23:33,608] Trial 3 finished with value: 0.8079008142719264 and parameters: {'n_estimators': 200, 'max_depth': 35, 'min_samples_leaf': 5}. Best is trial 0 with value: 0.8095243828009512.\n",
            "[I 2025-02-17 18:23:40,442] Trial 4 finished with value: 0.8156875861127139 and parameters: {'n_estimators': 270, 'max_depth': 15, 'min_samples_leaf': 3}. Best is trial 4 with value: 0.8156875861127139.\n",
            "[I 2025-02-17 18:23:51,887] Trial 5 finished with value: 0.8137231801041652 and parameters: {'n_estimators': 400, 'max_depth': 20, 'min_samples_leaf': 3}. Best is trial 4 with value: 0.8156875861127139.\n",
            "[I 2025-02-17 18:24:00,045] Trial 6 finished with value: 0.809250125881009 and parameters: {'n_estimators': 310, 'max_depth': 25, 'min_samples_leaf': 4}. Best is trial 4 with value: 0.8156875861127139.\n",
            "[I 2025-02-17 18:24:04,626] Trial 7 finished with value: 0.8146573820443406 and parameters: {'n_estimators': 170, 'max_depth': 15, 'min_samples_leaf': 3}. Best is trial 4 with value: 0.8156875861127139.\n",
            "[I 2025-02-17 18:24:13,625] Trial 8 finished with value: 0.8116072291702497 and parameters: {'n_estimators': 350, 'max_depth': 25, 'min_samples_leaf': 4}. Best is trial 4 with value: 0.8156875861127139.\n",
            "[I 2025-02-17 18:24:18,075] Trial 9 finished with value: 0.8074859388203415 and parameters: {'n_estimators': 170, 'max_depth': 30, 'min_samples_leaf': 5}. Best is trial 4 with value: 0.8156875861127139.\n",
            "[I 2025-02-17 18:24:26,528] Trial 10 finished with value: 0.817818513500446 and parameters: {'n_estimators': 270, 'max_depth': 15, 'min_samples_leaf': 1}. Best is trial 10 with value: 0.817818513500446.\n",
            "[I 2025-02-17 18:24:34,509] Trial 11 finished with value: 0.817818513500446 and parameters: {'n_estimators': 270, 'max_depth': 15, 'min_samples_leaf': 1}. Best is trial 10 with value: 0.817818513500446.\n",
            "[I 2025-02-17 18:24:41,771] Trial 12 finished with value: 0.8195167393957334 and parameters: {'n_estimators': 240, 'max_depth': 15, 'min_samples_leaf': 1}. Best is trial 12 with value: 0.8195167393957334.\n",
            "[I 2025-02-17 18:24:49,062] Trial 13 finished with value: 0.812883332529208 and parameters: {'n_estimators': 230, 'max_depth': 20, 'min_samples_leaf': 1}. Best is trial 12 with value: 0.8195167393957334.\n",
            "[I 2025-02-17 18:24:58,143] Trial 14 finished with value: 0.8131318460285785 and parameters: {'n_estimators': 300, 'max_depth': 20, 'min_samples_leaf': 2}. Best is trial 12 with value: 0.8195167393957334.\n",
            "[I 2025-02-17 18:25:04,756] Trial 15 finished with value: 0.818680010698106 and parameters: {'n_estimators': 230, 'max_depth': 15, 'min_samples_leaf': 1}. Best is trial 12 with value: 0.8195167393957334.\n",
            "[I 2025-02-17 18:25:11,746] Trial 16 finished with value: 0.8129868148394902 and parameters: {'n_estimators': 230, 'max_depth': 20, 'min_samples_leaf': 2}. Best is trial 12 with value: 0.8195167393957334.\n",
            "[I 2025-02-17 18:25:17,880] Trial 17 finished with value: 0.8168819485451717 and parameters: {'n_estimators': 220, 'max_depth': 15, 'min_samples_leaf': 2}. Best is trial 12 with value: 0.8195167393957334.\n",
            "[I 2025-02-17 18:25:21,620] Trial 18 finished with value: 0.8029581586333293 and parameters: {'n_estimators': 150, 'max_depth': 20, 'min_samples_leaf': 7}. Best is trial 12 with value: 0.8195167393957334.\n",
            "[I 2025-02-17 18:25:31,511] Trial 19 finished with value: 0.8144133049572216 and parameters: {'n_estimators': 320, 'max_depth': 25, 'min_samples_leaf': 1}. Best is trial 12 with value: 0.8195167393957334.\n",
            "[I 2025-02-17 18:25:38,101] Trial 20 finished with value: 0.8164396789953605 and parameters: {'n_estimators': 240, 'max_depth': 15, 'min_samples_leaf': 2}. Best is trial 12 with value: 0.8195167393957334.\n",
            "[I 2025-02-17 18:25:45,477] Trial 21 finished with value: 0.8189094533890161 and parameters: {'n_estimators': 250, 'max_depth': 15, 'min_samples_leaf': 1}. Best is trial 12 with value: 0.8195167393957334.\n",
            "[I 2025-02-17 18:25:51,470] Trial 22 finished with value: 0.8188948926792164 and parameters: {'n_estimators': 200, 'max_depth': 15, 'min_samples_leaf': 1}. Best is trial 12 with value: 0.8195167393957334.\n",
            "[I 2025-02-17 18:25:57,392] Trial 23 finished with value: 0.8093387636378878 and parameters: {'n_estimators': 200, 'max_depth': 20, 'min_samples_leaf': 2}. Best is trial 12 with value: 0.8195167393957334.\n",
            "[I 2025-02-17 18:26:04,757] Trial 24 finished with value: 0.8189094533890161 and parameters: {'n_estimators': 250, 'max_depth': 15, 'min_samples_leaf': 1}. Best is trial 12 with value: 0.8195167393957334.\n",
            "[I 2025-02-17 18:26:12,922] Trial 25 finished with value: 0.8126833861429157 and parameters: {'n_estimators': 290, 'max_depth': 20, 'min_samples_leaf': 2}. Best is trial 12 with value: 0.8195167393957334.\n",
            "[I 2025-02-17 18:26:20,383] Trial 26 finished with value: 0.8189094533890161 and parameters: {'n_estimators': 250, 'max_depth': 15, 'min_samples_leaf': 1}. Best is trial 12 with value: 0.8195167393957334.\n",
            "[I 2025-02-17 18:26:28,690] Trial 27 finished with value: 0.8147348575986033 and parameters: {'n_estimators': 290, 'max_depth': 20, 'min_samples_leaf': 3}. Best is trial 12 with value: 0.8195167393957334.\n",
            "[I 2025-02-17 18:26:34,670] Trial 28 finished with value: 0.8018416285658978 and parameters: {'n_estimators': 250, 'max_depth': 25, 'min_samples_leaf': 6}. Best is trial 12 with value: 0.8195167393957334.\n",
            "[I 2025-02-17 18:26:44,426] Trial 29 finished with value: 0.8159112325241307 and parameters: {'n_estimators': 330, 'max_depth': 15, 'min_samples_leaf': 2}. Best is trial 12 with value: 0.8195167393957334.\n"
          ]
        },
        {
          "output_type": "stream",
          "name": "stdout",
          "text": [
            "CPU times: user 2.3 s, sys: 1.28 s, total: 3.58 s\n",
            "Wall time: 3min 38s\n"
          ]
        }
      ]
    },
    {
      "cell_type": "code",
      "source": [
        "# выводим результаты на обучающей выборке\n",
        "print(\"Наилучшие значения гиперпараметров {}\".format(study_rf.best_params))\n",
        "print(\"f1_score на обучающем наборе: {:.2f}\".format(study_rf.best_value))"
      ],
      "metadata": {
        "colab": {
          "base_uri": "https://localhost:8080/"
        },
        "id": "65XeZT-3itSX",
        "outputId": "431f510f-11aa-41e1-b9ab-27e453f6d527"
      },
      "execution_count": null,
      "outputs": [
        {
          "output_type": "stream",
          "name": "stdout",
          "text": [
            "Наилучшие значения гиперпараметров {'n_estimators': 240, 'max_depth': 15, 'min_samples_leaf': 1}\n",
            "f1_score на обучающем наборе: 0.82\n"
          ]
        }
      ]
    },
    {
      "cell_type": "code",
      "source": [
        "# рассчитаем f1-score для тестовой выборки\n",
        "rf_optuna = ensemble.RandomForestClassifier(\n",
        "    **study_rf.best_params, random_state=random_state)\n",
        "rf_optuna.fit(X_train, y_train)\n",
        "y_train_pred = rf_optuna.predict(X_train)\n",
        "print('f1_score на обучающем наборе: {:.2f}'.format(\n",
        "    metrics.f1_score(y_train, y_train_pred)))\n",
        "y_test_pred = rf_optuna.predict(X_test)\n",
        "print('f1_score на тестовом наборе: {:.2f}'.format(\n",
        "    metrics.f1_score(y_test, y_test_pred)))"
      ],
      "metadata": {
        "colab": {
          "base_uri": "https://localhost:8080/"
        },
        "id": "GjSTtzodiuRu",
        "outputId": "cfeca4a6-9743-4051-85b1-09a14b670902"
      },
      "execution_count": null,
      "outputs": [
        {
          "output_type": "stream",
          "name": "stdout",
          "text": [
            "f1_score на обучающем наборе: 0.99\n",
            "f1_score на тестовом наборе: 0.81\n"
          ]
        }
      ]
    },
    {
      "cell_type": "code",
      "source": [
        "%%time\n",
        "study_rf.optimize(optuna_rf, n_trials=20)"
      ],
      "metadata": {
        "colab": {
          "base_uri": "https://localhost:8080/"
        },
        "id": "YOZTGNwCMm87",
        "outputId": "c2bfea45-b58d-433f-ffe9-461649c89109"
      },
      "execution_count": null,
      "outputs": [
        {
          "output_type": "stream",
          "name": "stderr",
          "text": [
            "[I 2025-02-17 18:37:26,022] Trial 30 finished with value: 0.816992240792364 and parameters: {'n_estimators': 350, 'max_depth': 35, 'min_samples_leaf': 1}. Best is trial 12 with value: 0.8195167393957334.\n",
            "[I 2025-02-17 18:37:33,461] Trial 31 finished with value: 0.8189094533890161 and parameters: {'n_estimators': 250, 'max_depth': 15, 'min_samples_leaf': 1}. Best is trial 12 with value: 0.8195167393957334.\n",
            "[I 2025-02-17 18:37:40,690] Trial 32 finished with value: 0.8189094533890161 and parameters: {'n_estimators': 250, 'max_depth': 15, 'min_samples_leaf': 1}. Best is trial 12 with value: 0.8195167393957334.\n",
            "[I 2025-02-17 18:37:46,713] Trial 33 finished with value: 0.8168819485451717 and parameters: {'n_estimators': 220, 'max_depth': 15, 'min_samples_leaf': 2}. Best is trial 12 with value: 0.8195167393957334.\n",
            "[I 2025-02-17 18:37:54,457] Trial 34 finished with value: 0.8198823463694291 and parameters: {'n_estimators': 260, 'max_depth': 15, 'min_samples_leaf': 1}. Best is trial 34 with value: 0.8198823463694291.\n",
            "[I 2025-02-17 18:38:02,365] Trial 35 finished with value: 0.8141845242729369 and parameters: {'n_estimators': 280, 'max_depth': 30, 'min_samples_leaf': 3}. Best is trial 34 with value: 0.8198823463694291.\n",
            "[I 2025-02-17 18:38:09,063] Trial 36 finished with value: 0.805614803938387 and parameters: {'n_estimators': 260, 'max_depth': 20, 'min_samples_leaf': 5}. Best is trial 34 with value: 0.8198823463694291.\n",
            "[I 2025-02-17 18:38:15,098] Trial 37 finished with value: 0.8168819485451717 and parameters: {'n_estimators': 220, 'max_depth': 15, 'min_samples_leaf': 2}. Best is trial 34 with value: 0.8198823463694291.\n",
            "[I 2025-02-17 18:38:21,648] Trial 38 finished with value: 0.8041431489480158 and parameters: {'n_estimators': 280, 'max_depth': 15, 'min_samples_leaf': 6}. Best is trial 34 with value: 0.8198823463694291.\n",
            "[I 2025-02-17 18:38:26,909] Trial 39 finished with value: 0.8131987404258657 and parameters: {'n_estimators': 190, 'max_depth': 20, 'min_samples_leaf': 3}. Best is trial 34 with value: 0.8198823463694291.\n",
            "[I 2025-02-17 18:38:34,419] Trial 40 finished with value: 0.8198823463694291 and parameters: {'n_estimators': 260, 'max_depth': 15, 'min_samples_leaf': 1}. Best is trial 34 with value: 0.8198823463694291.\n",
            "[I 2025-02-17 18:38:42,170] Trial 41 finished with value: 0.8198823463694291 and parameters: {'n_estimators': 260, 'max_depth': 15, 'min_samples_leaf': 1}. Best is trial 34 with value: 0.8198823463694291.\n",
            "[I 2025-02-17 18:38:49,482] Trial 42 finished with value: 0.8198823463694291 and parameters: {'n_estimators': 260, 'max_depth': 15, 'min_samples_leaf': 1}. Best is trial 34 with value: 0.8198823463694291.\n",
            "[I 2025-02-17 18:38:58,298] Trial 43 finished with value: 0.8177872175546383 and parameters: {'n_estimators': 300, 'max_depth': 15, 'min_samples_leaf': 1}. Best is trial 34 with value: 0.8198823463694291.\n",
            "[I 2025-02-17 18:39:05,692] Trial 44 finished with value: 0.8167865932863583 and parameters: {'n_estimators': 270, 'max_depth': 15, 'min_samples_leaf': 2}. Best is trial 34 with value: 0.8198823463694291.\n",
            "[I 2025-02-17 18:39:12,395] Trial 45 finished with value: 0.8098224602271922 and parameters: {'n_estimators': 260, 'max_depth': 30, 'min_samples_leaf': 4}. Best is trial 34 with value: 0.8198823463694291.\n",
            "[I 2025-02-17 18:39:19,050] Trial 46 finished with value: 0.8107061052143039 and parameters: {'n_estimators': 210, 'max_depth': 20, 'min_samples_leaf': 1}. Best is trial 34 with value: 0.8198823463694291.\n"
          ]
        }
      ]
    },
    {
      "cell_type": "markdown",
      "source": [
        "Метрика не улучшилась."
      ],
      "metadata": {
        "id": "Ph8bG8D3k6Z6"
      }
    },
    {
      "cell_type": "code",
      "source": [
        "# Проверим, идет ли оптимизация гиперпараметров в правильном направлении\n",
        "optuna.visualization.plot_optimization_history(study_rf, target_name=\"f1_score\")"
      ],
      "metadata": {
        "colab": {
          "base_uri": "https://localhost:8080/",
          "height": 542
        },
        "id": "udqC26eijjEW",
        "outputId": "363aab40-a03c-4ce9-b030-a197a25cf11c"
      },
      "execution_count": null,
      "outputs": [
        {
          "output_type": "display_data",
          "data": {
            "text/html": [
              "<html>\n",
              "<head><meta charset=\"utf-8\" /></head>\n",
              "<body>\n",
              "    <div>            <script src=\"https://cdnjs.cloudflare.com/ajax/libs/mathjax/2.7.5/MathJax.js?config=TeX-AMS-MML_SVG\"></script><script type=\"text/javascript\">if (window.MathJax && window.MathJax.Hub && window.MathJax.Hub.Config) {window.MathJax.Hub.Config({SVG: {font: \"STIX-Web\"}});}</script>                <script type=\"text/javascript\">window.PlotlyConfig = {MathJaxConfig: 'local'};</script>\n",
              "        <script charset=\"utf-8\" src=\"https://cdn.plot.ly/plotly-2.35.2.min.js\"></script>                <div id=\"86fa8c6d-adf6-4c1a-beaf-dd2b4653ad28\" class=\"plotly-graph-div\" style=\"height:525px; width:100%;\"></div>            <script type=\"text/javascript\">                                    window.PLOTLYENV=window.PLOTLYENV || {};                                    if (document.getElementById(\"86fa8c6d-adf6-4c1a-beaf-dd2b4653ad28\")) {                    Plotly.newPlot(                        \"86fa8c6d-adf6-4c1a-beaf-dd2b4653ad28\",                        [{\"mode\":\"markers\",\"name\":\"f1_score\",\"x\":[0,1,2,3,4,5,6,7,8,9,10,11,12,13,14,15,16,17,18,19,20,21,22,23,24,25,26,27,28,29],\"y\":[0.8095243828009512,0.8026340371870979,0.8077911473077306,0.8079008142719264,0.8156875861127139,0.8137231801041652,0.809250125881009,0.8146573820443406,0.8116072291702497,0.8074859388203415,0.817818513500446,0.817818513500446,0.8195167393957334,0.812883332529208,0.8131318460285785,0.818680010698106,0.8129868148394902,0.8168819485451717,0.8029581586333293,0.8144133049572216,0.8164396789953605,0.8189094533890161,0.8188948926792164,0.8093387636378878,0.8189094533890161,0.8126833861429157,0.8189094533890161,0.8147348575986033,0.8018416285658978,0.8159112325241307],\"type\":\"scatter\"},{\"mode\":\"lines\",\"name\":\"Best Value\",\"x\":[0,1,2,3,4,5,6,7,8,9,10,11,12,13,14,15,16,17,18,19,20,21,22,23,24,25,26,27,28,29],\"y\":[0.8095243828009512,0.8095243828009512,0.8095243828009512,0.8095243828009512,0.8156875861127139,0.8156875861127139,0.8156875861127139,0.8156875861127139,0.8156875861127139,0.8156875861127139,0.817818513500446,0.817818513500446,0.8195167393957334,0.8195167393957334,0.8195167393957334,0.8195167393957334,0.8195167393957334,0.8195167393957334,0.8195167393957334,0.8195167393957334,0.8195167393957334,0.8195167393957334,0.8195167393957334,0.8195167393957334,0.8195167393957334,0.8195167393957334,0.8195167393957334,0.8195167393957334,0.8195167393957334,0.8195167393957334],\"type\":\"scatter\"},{\"marker\":{\"color\":\"#cccccc\"},\"mode\":\"markers\",\"name\":\"Infeasible Trial\",\"showlegend\":false,\"x\":[],\"y\":[],\"type\":\"scatter\"}],                        {\"title\":{\"text\":\"Optimization History Plot\"},\"xaxis\":{\"title\":{\"text\":\"Trial\"}},\"yaxis\":{\"title\":{\"text\":\"f1_score\"}},\"template\":{\"data\":{\"histogram2dcontour\":[{\"type\":\"histogram2dcontour\",\"colorbar\":{\"outlinewidth\":0,\"ticks\":\"\"},\"colorscale\":[[0.0,\"#0d0887\"],[0.1111111111111111,\"#46039f\"],[0.2222222222222222,\"#7201a8\"],[0.3333333333333333,\"#9c179e\"],[0.4444444444444444,\"#bd3786\"],[0.5555555555555556,\"#d8576b\"],[0.6666666666666666,\"#ed7953\"],[0.7777777777777778,\"#fb9f3a\"],[0.8888888888888888,\"#fdca26\"],[1.0,\"#f0f921\"]]}],\"choropleth\":[{\"type\":\"choropleth\",\"colorbar\":{\"outlinewidth\":0,\"ticks\":\"\"}}],\"histogram2d\":[{\"type\":\"histogram2d\",\"colorbar\":{\"outlinewidth\":0,\"ticks\":\"\"},\"colorscale\":[[0.0,\"#0d0887\"],[0.1111111111111111,\"#46039f\"],[0.2222222222222222,\"#7201a8\"],[0.3333333333333333,\"#9c179e\"],[0.4444444444444444,\"#bd3786\"],[0.5555555555555556,\"#d8576b\"],[0.6666666666666666,\"#ed7953\"],[0.7777777777777778,\"#fb9f3a\"],[0.8888888888888888,\"#fdca26\"],[1.0,\"#f0f921\"]]}],\"heatmap\":[{\"type\":\"heatmap\",\"colorbar\":{\"outlinewidth\":0,\"ticks\":\"\"},\"colorscale\":[[0.0,\"#0d0887\"],[0.1111111111111111,\"#46039f\"],[0.2222222222222222,\"#7201a8\"],[0.3333333333333333,\"#9c179e\"],[0.4444444444444444,\"#bd3786\"],[0.5555555555555556,\"#d8576b\"],[0.6666666666666666,\"#ed7953\"],[0.7777777777777778,\"#fb9f3a\"],[0.8888888888888888,\"#fdca26\"],[1.0,\"#f0f921\"]]}],\"heatmapgl\":[{\"type\":\"heatmapgl\",\"colorbar\":{\"outlinewidth\":0,\"ticks\":\"\"},\"colorscale\":[[0.0,\"#0d0887\"],[0.1111111111111111,\"#46039f\"],[0.2222222222222222,\"#7201a8\"],[0.3333333333333333,\"#9c179e\"],[0.4444444444444444,\"#bd3786\"],[0.5555555555555556,\"#d8576b\"],[0.6666666666666666,\"#ed7953\"],[0.7777777777777778,\"#fb9f3a\"],[0.8888888888888888,\"#fdca26\"],[1.0,\"#f0f921\"]]}],\"contourcarpet\":[{\"type\":\"contourcarpet\",\"colorbar\":{\"outlinewidth\":0,\"ticks\":\"\"}}],\"contour\":[{\"type\":\"contour\",\"colorbar\":{\"outlinewidth\":0,\"ticks\":\"\"},\"colorscale\":[[0.0,\"#0d0887\"],[0.1111111111111111,\"#46039f\"],[0.2222222222222222,\"#7201a8\"],[0.3333333333333333,\"#9c179e\"],[0.4444444444444444,\"#bd3786\"],[0.5555555555555556,\"#d8576b\"],[0.6666666666666666,\"#ed7953\"],[0.7777777777777778,\"#fb9f3a\"],[0.8888888888888888,\"#fdca26\"],[1.0,\"#f0f921\"]]}],\"surface\":[{\"type\":\"surface\",\"colorbar\":{\"outlinewidth\":0,\"ticks\":\"\"},\"colorscale\":[[0.0,\"#0d0887\"],[0.1111111111111111,\"#46039f\"],[0.2222222222222222,\"#7201a8\"],[0.3333333333333333,\"#9c179e\"],[0.4444444444444444,\"#bd3786\"],[0.5555555555555556,\"#d8576b\"],[0.6666666666666666,\"#ed7953\"],[0.7777777777777778,\"#fb9f3a\"],[0.8888888888888888,\"#fdca26\"],[1.0,\"#f0f921\"]]}],\"mesh3d\":[{\"type\":\"mesh3d\",\"colorbar\":{\"outlinewidth\":0,\"ticks\":\"\"}}],\"scatter\":[{\"fillpattern\":{\"fillmode\":\"overlay\",\"size\":10,\"solidity\":0.2},\"type\":\"scatter\"}],\"parcoords\":[{\"type\":\"parcoords\",\"line\":{\"colorbar\":{\"outlinewidth\":0,\"ticks\":\"\"}}}],\"scatterpolargl\":[{\"type\":\"scatterpolargl\",\"marker\":{\"colorbar\":{\"outlinewidth\":0,\"ticks\":\"\"}}}],\"bar\":[{\"error_x\":{\"color\":\"#2a3f5f\"},\"error_y\":{\"color\":\"#2a3f5f\"},\"marker\":{\"line\":{\"color\":\"#E5ECF6\",\"width\":0.5},\"pattern\":{\"fillmode\":\"overlay\",\"size\":10,\"solidity\":0.2}},\"type\":\"bar\"}],\"scattergeo\":[{\"type\":\"scattergeo\",\"marker\":{\"colorbar\":{\"outlinewidth\":0,\"ticks\":\"\"}}}],\"scatterpolar\":[{\"type\":\"scatterpolar\",\"marker\":{\"colorbar\":{\"outlinewidth\":0,\"ticks\":\"\"}}}],\"histogram\":[{\"marker\":{\"pattern\":{\"fillmode\":\"overlay\",\"size\":10,\"solidity\":0.2}},\"type\":\"histogram\"}],\"scattergl\":[{\"type\":\"scattergl\",\"marker\":{\"colorbar\":{\"outlinewidth\":0,\"ticks\":\"\"}}}],\"scatter3d\":[{\"type\":\"scatter3d\",\"line\":{\"colorbar\":{\"outlinewidth\":0,\"ticks\":\"\"}},\"marker\":{\"colorbar\":{\"outlinewidth\":0,\"ticks\":\"\"}}}],\"scattermapbox\":[{\"type\":\"scattermapbox\",\"marker\":{\"colorbar\":{\"outlinewidth\":0,\"ticks\":\"\"}}}],\"scatterternary\":[{\"type\":\"scatterternary\",\"marker\":{\"colorbar\":{\"outlinewidth\":0,\"ticks\":\"\"}}}],\"scattercarpet\":[{\"type\":\"scattercarpet\",\"marker\":{\"colorbar\":{\"outlinewidth\":0,\"ticks\":\"\"}}}],\"carpet\":[{\"aaxis\":{\"endlinecolor\":\"#2a3f5f\",\"gridcolor\":\"white\",\"linecolor\":\"white\",\"minorgridcolor\":\"white\",\"startlinecolor\":\"#2a3f5f\"},\"baxis\":{\"endlinecolor\":\"#2a3f5f\",\"gridcolor\":\"white\",\"linecolor\":\"white\",\"minorgridcolor\":\"white\",\"startlinecolor\":\"#2a3f5f\"},\"type\":\"carpet\"}],\"table\":[{\"cells\":{\"fill\":{\"color\":\"#EBF0F8\"},\"line\":{\"color\":\"white\"}},\"header\":{\"fill\":{\"color\":\"#C8D4E3\"},\"line\":{\"color\":\"white\"}},\"type\":\"table\"}],\"barpolar\":[{\"marker\":{\"line\":{\"color\":\"#E5ECF6\",\"width\":0.5},\"pattern\":{\"fillmode\":\"overlay\",\"size\":10,\"solidity\":0.2}},\"type\":\"barpolar\"}],\"pie\":[{\"automargin\":true,\"type\":\"pie\"}]},\"layout\":{\"autotypenumbers\":\"strict\",\"colorway\":[\"#636efa\",\"#EF553B\",\"#00cc96\",\"#ab63fa\",\"#FFA15A\",\"#19d3f3\",\"#FF6692\",\"#B6E880\",\"#FF97FF\",\"#FECB52\"],\"font\":{\"color\":\"#2a3f5f\"},\"hovermode\":\"closest\",\"hoverlabel\":{\"align\":\"left\"},\"paper_bgcolor\":\"white\",\"plot_bgcolor\":\"#E5ECF6\",\"polar\":{\"bgcolor\":\"#E5ECF6\",\"angularaxis\":{\"gridcolor\":\"white\",\"linecolor\":\"white\",\"ticks\":\"\"},\"radialaxis\":{\"gridcolor\":\"white\",\"linecolor\":\"white\",\"ticks\":\"\"}},\"ternary\":{\"bgcolor\":\"#E5ECF6\",\"aaxis\":{\"gridcolor\":\"white\",\"linecolor\":\"white\",\"ticks\":\"\"},\"baxis\":{\"gridcolor\":\"white\",\"linecolor\":\"white\",\"ticks\":\"\"},\"caxis\":{\"gridcolor\":\"white\",\"linecolor\":\"white\",\"ticks\":\"\"}},\"coloraxis\":{\"colorbar\":{\"outlinewidth\":0,\"ticks\":\"\"}},\"colorscale\":{\"sequential\":[[0.0,\"#0d0887\"],[0.1111111111111111,\"#46039f\"],[0.2222222222222222,\"#7201a8\"],[0.3333333333333333,\"#9c179e\"],[0.4444444444444444,\"#bd3786\"],[0.5555555555555556,\"#d8576b\"],[0.6666666666666666,\"#ed7953\"],[0.7777777777777778,\"#fb9f3a\"],[0.8888888888888888,\"#fdca26\"],[1.0,\"#f0f921\"]],\"sequentialminus\":[[0.0,\"#0d0887\"],[0.1111111111111111,\"#46039f\"],[0.2222222222222222,\"#7201a8\"],[0.3333333333333333,\"#9c179e\"],[0.4444444444444444,\"#bd3786\"],[0.5555555555555556,\"#d8576b\"],[0.6666666666666666,\"#ed7953\"],[0.7777777777777778,\"#fb9f3a\"],[0.8888888888888888,\"#fdca26\"],[1.0,\"#f0f921\"]],\"diverging\":[[0,\"#8e0152\"],[0.1,\"#c51b7d\"],[0.2,\"#de77ae\"],[0.3,\"#f1b6da\"],[0.4,\"#fde0ef\"],[0.5,\"#f7f7f7\"],[0.6,\"#e6f5d0\"],[0.7,\"#b8e186\"],[0.8,\"#7fbc41\"],[0.9,\"#4d9221\"],[1,\"#276419\"]]},\"xaxis\":{\"gridcolor\":\"white\",\"linecolor\":\"white\",\"ticks\":\"\",\"title\":{\"standoff\":15},\"zerolinecolor\":\"white\",\"automargin\":true,\"zerolinewidth\":2},\"yaxis\":{\"gridcolor\":\"white\",\"linecolor\":\"white\",\"ticks\":\"\",\"title\":{\"standoff\":15},\"zerolinecolor\":\"white\",\"automargin\":true,\"zerolinewidth\":2},\"scene\":{\"xaxis\":{\"backgroundcolor\":\"#E5ECF6\",\"gridcolor\":\"white\",\"linecolor\":\"white\",\"showbackground\":true,\"ticks\":\"\",\"zerolinecolor\":\"white\",\"gridwidth\":2},\"yaxis\":{\"backgroundcolor\":\"#E5ECF6\",\"gridcolor\":\"white\",\"linecolor\":\"white\",\"showbackground\":true,\"ticks\":\"\",\"zerolinecolor\":\"white\",\"gridwidth\":2},\"zaxis\":{\"backgroundcolor\":\"#E5ECF6\",\"gridcolor\":\"white\",\"linecolor\":\"white\",\"showbackground\":true,\"ticks\":\"\",\"zerolinecolor\":\"white\",\"gridwidth\":2}},\"shapedefaults\":{\"line\":{\"color\":\"#2a3f5f\"}},\"annotationdefaults\":{\"arrowcolor\":\"#2a3f5f\",\"arrowhead\":0,\"arrowwidth\":1},\"geo\":{\"bgcolor\":\"white\",\"landcolor\":\"#E5ECF6\",\"subunitcolor\":\"white\",\"showland\":true,\"showlakes\":true,\"lakecolor\":\"white\"},\"title\":{\"x\":0.05},\"mapbox\":{\"style\":\"light\"}}}},                        {\"responsive\": true}                    ).then(function(){\n",
              "                            \n",
              "var gd = document.getElementById('86fa8c6d-adf6-4c1a-beaf-dd2b4653ad28');\n",
              "var x = new MutationObserver(function (mutations, observer) {{\n",
              "        var display = window.getComputedStyle(gd).display;\n",
              "        if (!display || display === 'none') {{\n",
              "            console.log([gd, 'removed!']);\n",
              "            Plotly.purge(gd);\n",
              "            observer.disconnect();\n",
              "        }}\n",
              "}});\n",
              "\n",
              "// Listen for the removal of the full notebook cells\n",
              "var notebookContainer = gd.closest('#notebook-container');\n",
              "if (notebookContainer) {{\n",
              "    x.observe(notebookContainer, {childList: true});\n",
              "}}\n",
              "\n",
              "// Listen for the clearing of the current output cell\n",
              "var outputEl = gd.closest('.output');\n",
              "if (outputEl) {{\n",
              "    x.observe(outputEl, {childList: true});\n",
              "}}\n",
              "\n",
              "                        })                };                            </script>        </div>\n",
              "</body>\n",
              "</html>"
            ]
          },
          "metadata": {}
        }
      ]
    },
    {
      "cell_type": "markdown",
      "source": [
        "Метрика максимизируется."
      ],
      "metadata": {
        "id": "aIfyn3q5hbQl"
      }
    },
    {
      "cell_type": "code",
      "source": [
        "# График важности гиперпараметров\n",
        "optuna.visualization.plot_param_importances(study_rf, target_name=\"f1_score\")"
      ],
      "metadata": {
        "colab": {
          "base_uri": "https://localhost:8080/",
          "height": 542
        },
        "id": "WDNxyyC4jxF5",
        "outputId": "91e02687-0af3-40f3-c425-062f5039d012"
      },
      "execution_count": null,
      "outputs": [
        {
          "output_type": "display_data",
          "data": {
            "text/html": [
              "<html>\n",
              "<head><meta charset=\"utf-8\" /></head>\n",
              "<body>\n",
              "    <div>            <script src=\"https://cdnjs.cloudflare.com/ajax/libs/mathjax/2.7.5/MathJax.js?config=TeX-AMS-MML_SVG\"></script><script type=\"text/javascript\">if (window.MathJax && window.MathJax.Hub && window.MathJax.Hub.Config) {window.MathJax.Hub.Config({SVG: {font: \"STIX-Web\"}});}</script>                <script type=\"text/javascript\">window.PlotlyConfig = {MathJaxConfig: 'local'};</script>\n",
              "        <script charset=\"utf-8\" src=\"https://cdn.plot.ly/plotly-2.35.2.min.js\"></script>                <div id=\"870f53e2-783b-4820-b75e-5decfe9d91d0\" class=\"plotly-graph-div\" style=\"height:525px; width:100%;\"></div>            <script type=\"text/javascript\">                                    window.PLOTLYENV=window.PLOTLYENV || {};                                    if (document.getElementById(\"870f53e2-783b-4820-b75e-5decfe9d91d0\")) {                    Plotly.newPlot(                        \"870f53e2-783b-4820-b75e-5decfe9d91d0\",                        [{\"cliponaxis\":false,\"hovertemplate\":[\"n_estimators (IntDistribution): 0.06379043282281185\\u003cextra\\u003e\\u003c\\u002fextra\\u003e\",\"max_depth (IntDistribution): 0.12095541544839998\\u003cextra\\u003e\\u003c\\u002fextra\\u003e\",\"min_samples_leaf (IntDistribution): 0.8152541517287882\\u003cextra\\u003e\\u003c\\u002fextra\\u003e\"],\"name\":\"f1_score\",\"orientation\":\"h\",\"text\":[\"0.06\",\"0.12\",\"0.82\"],\"textposition\":\"outside\",\"x\":[0.06379043282281185,0.12095541544839998,0.8152541517287882],\"y\":[\"n_estimators\",\"max_depth\",\"min_samples_leaf\"],\"type\":\"bar\"}],                        {\"title\":{\"text\":\"Hyperparameter Importances\"},\"xaxis\":{\"title\":{\"text\":\"Hyperparameter Importance\"}},\"yaxis\":{\"title\":{\"text\":\"Hyperparameter\"}},\"template\":{\"data\":{\"histogram2dcontour\":[{\"type\":\"histogram2dcontour\",\"colorbar\":{\"outlinewidth\":0,\"ticks\":\"\"},\"colorscale\":[[0.0,\"#0d0887\"],[0.1111111111111111,\"#46039f\"],[0.2222222222222222,\"#7201a8\"],[0.3333333333333333,\"#9c179e\"],[0.4444444444444444,\"#bd3786\"],[0.5555555555555556,\"#d8576b\"],[0.6666666666666666,\"#ed7953\"],[0.7777777777777778,\"#fb9f3a\"],[0.8888888888888888,\"#fdca26\"],[1.0,\"#f0f921\"]]}],\"choropleth\":[{\"type\":\"choropleth\",\"colorbar\":{\"outlinewidth\":0,\"ticks\":\"\"}}],\"histogram2d\":[{\"type\":\"histogram2d\",\"colorbar\":{\"outlinewidth\":0,\"ticks\":\"\"},\"colorscale\":[[0.0,\"#0d0887\"],[0.1111111111111111,\"#46039f\"],[0.2222222222222222,\"#7201a8\"],[0.3333333333333333,\"#9c179e\"],[0.4444444444444444,\"#bd3786\"],[0.5555555555555556,\"#d8576b\"],[0.6666666666666666,\"#ed7953\"],[0.7777777777777778,\"#fb9f3a\"],[0.8888888888888888,\"#fdca26\"],[1.0,\"#f0f921\"]]}],\"heatmap\":[{\"type\":\"heatmap\",\"colorbar\":{\"outlinewidth\":0,\"ticks\":\"\"},\"colorscale\":[[0.0,\"#0d0887\"],[0.1111111111111111,\"#46039f\"],[0.2222222222222222,\"#7201a8\"],[0.3333333333333333,\"#9c179e\"],[0.4444444444444444,\"#bd3786\"],[0.5555555555555556,\"#d8576b\"],[0.6666666666666666,\"#ed7953\"],[0.7777777777777778,\"#fb9f3a\"],[0.8888888888888888,\"#fdca26\"],[1.0,\"#f0f921\"]]}],\"heatmapgl\":[{\"type\":\"heatmapgl\",\"colorbar\":{\"outlinewidth\":0,\"ticks\":\"\"},\"colorscale\":[[0.0,\"#0d0887\"],[0.1111111111111111,\"#46039f\"],[0.2222222222222222,\"#7201a8\"],[0.3333333333333333,\"#9c179e\"],[0.4444444444444444,\"#bd3786\"],[0.5555555555555556,\"#d8576b\"],[0.6666666666666666,\"#ed7953\"],[0.7777777777777778,\"#fb9f3a\"],[0.8888888888888888,\"#fdca26\"],[1.0,\"#f0f921\"]]}],\"contourcarpet\":[{\"type\":\"contourcarpet\",\"colorbar\":{\"outlinewidth\":0,\"ticks\":\"\"}}],\"contour\":[{\"type\":\"contour\",\"colorbar\":{\"outlinewidth\":0,\"ticks\":\"\"},\"colorscale\":[[0.0,\"#0d0887\"],[0.1111111111111111,\"#46039f\"],[0.2222222222222222,\"#7201a8\"],[0.3333333333333333,\"#9c179e\"],[0.4444444444444444,\"#bd3786\"],[0.5555555555555556,\"#d8576b\"],[0.6666666666666666,\"#ed7953\"],[0.7777777777777778,\"#fb9f3a\"],[0.8888888888888888,\"#fdca26\"],[1.0,\"#f0f921\"]]}],\"surface\":[{\"type\":\"surface\",\"colorbar\":{\"outlinewidth\":0,\"ticks\":\"\"},\"colorscale\":[[0.0,\"#0d0887\"],[0.1111111111111111,\"#46039f\"],[0.2222222222222222,\"#7201a8\"],[0.3333333333333333,\"#9c179e\"],[0.4444444444444444,\"#bd3786\"],[0.5555555555555556,\"#d8576b\"],[0.6666666666666666,\"#ed7953\"],[0.7777777777777778,\"#fb9f3a\"],[0.8888888888888888,\"#fdca26\"],[1.0,\"#f0f921\"]]}],\"mesh3d\":[{\"type\":\"mesh3d\",\"colorbar\":{\"outlinewidth\":0,\"ticks\":\"\"}}],\"scatter\":[{\"fillpattern\":{\"fillmode\":\"overlay\",\"size\":10,\"solidity\":0.2},\"type\":\"scatter\"}],\"parcoords\":[{\"type\":\"parcoords\",\"line\":{\"colorbar\":{\"outlinewidth\":0,\"ticks\":\"\"}}}],\"scatterpolargl\":[{\"type\":\"scatterpolargl\",\"marker\":{\"colorbar\":{\"outlinewidth\":0,\"ticks\":\"\"}}}],\"bar\":[{\"error_x\":{\"color\":\"#2a3f5f\"},\"error_y\":{\"color\":\"#2a3f5f\"},\"marker\":{\"line\":{\"color\":\"#E5ECF6\",\"width\":0.5},\"pattern\":{\"fillmode\":\"overlay\",\"size\":10,\"solidity\":0.2}},\"type\":\"bar\"}],\"scattergeo\":[{\"type\":\"scattergeo\",\"marker\":{\"colorbar\":{\"outlinewidth\":0,\"ticks\":\"\"}}}],\"scatterpolar\":[{\"type\":\"scatterpolar\",\"marker\":{\"colorbar\":{\"outlinewidth\":0,\"ticks\":\"\"}}}],\"histogram\":[{\"marker\":{\"pattern\":{\"fillmode\":\"overlay\",\"size\":10,\"solidity\":0.2}},\"type\":\"histogram\"}],\"scattergl\":[{\"type\":\"scattergl\",\"marker\":{\"colorbar\":{\"outlinewidth\":0,\"ticks\":\"\"}}}],\"scatter3d\":[{\"type\":\"scatter3d\",\"line\":{\"colorbar\":{\"outlinewidth\":0,\"ticks\":\"\"}},\"marker\":{\"colorbar\":{\"outlinewidth\":0,\"ticks\":\"\"}}}],\"scattermapbox\":[{\"type\":\"scattermapbox\",\"marker\":{\"colorbar\":{\"outlinewidth\":0,\"ticks\":\"\"}}}],\"scatterternary\":[{\"type\":\"scatterternary\",\"marker\":{\"colorbar\":{\"outlinewidth\":0,\"ticks\":\"\"}}}],\"scattercarpet\":[{\"type\":\"scattercarpet\",\"marker\":{\"colorbar\":{\"outlinewidth\":0,\"ticks\":\"\"}}}],\"carpet\":[{\"aaxis\":{\"endlinecolor\":\"#2a3f5f\",\"gridcolor\":\"white\",\"linecolor\":\"white\",\"minorgridcolor\":\"white\",\"startlinecolor\":\"#2a3f5f\"},\"baxis\":{\"endlinecolor\":\"#2a3f5f\",\"gridcolor\":\"white\",\"linecolor\":\"white\",\"minorgridcolor\":\"white\",\"startlinecolor\":\"#2a3f5f\"},\"type\":\"carpet\"}],\"table\":[{\"cells\":{\"fill\":{\"color\":\"#EBF0F8\"},\"line\":{\"color\":\"white\"}},\"header\":{\"fill\":{\"color\":\"#C8D4E3\"},\"line\":{\"color\":\"white\"}},\"type\":\"table\"}],\"barpolar\":[{\"marker\":{\"line\":{\"color\":\"#E5ECF6\",\"width\":0.5},\"pattern\":{\"fillmode\":\"overlay\",\"size\":10,\"solidity\":0.2}},\"type\":\"barpolar\"}],\"pie\":[{\"automargin\":true,\"type\":\"pie\"}]},\"layout\":{\"autotypenumbers\":\"strict\",\"colorway\":[\"#636efa\",\"#EF553B\",\"#00cc96\",\"#ab63fa\",\"#FFA15A\",\"#19d3f3\",\"#FF6692\",\"#B6E880\",\"#FF97FF\",\"#FECB52\"],\"font\":{\"color\":\"#2a3f5f\"},\"hovermode\":\"closest\",\"hoverlabel\":{\"align\":\"left\"},\"paper_bgcolor\":\"white\",\"plot_bgcolor\":\"#E5ECF6\",\"polar\":{\"bgcolor\":\"#E5ECF6\",\"angularaxis\":{\"gridcolor\":\"white\",\"linecolor\":\"white\",\"ticks\":\"\"},\"radialaxis\":{\"gridcolor\":\"white\",\"linecolor\":\"white\",\"ticks\":\"\"}},\"ternary\":{\"bgcolor\":\"#E5ECF6\",\"aaxis\":{\"gridcolor\":\"white\",\"linecolor\":\"white\",\"ticks\":\"\"},\"baxis\":{\"gridcolor\":\"white\",\"linecolor\":\"white\",\"ticks\":\"\"},\"caxis\":{\"gridcolor\":\"white\",\"linecolor\":\"white\",\"ticks\":\"\"}},\"coloraxis\":{\"colorbar\":{\"outlinewidth\":0,\"ticks\":\"\"}},\"colorscale\":{\"sequential\":[[0.0,\"#0d0887\"],[0.1111111111111111,\"#46039f\"],[0.2222222222222222,\"#7201a8\"],[0.3333333333333333,\"#9c179e\"],[0.4444444444444444,\"#bd3786\"],[0.5555555555555556,\"#d8576b\"],[0.6666666666666666,\"#ed7953\"],[0.7777777777777778,\"#fb9f3a\"],[0.8888888888888888,\"#fdca26\"],[1.0,\"#f0f921\"]],\"sequentialminus\":[[0.0,\"#0d0887\"],[0.1111111111111111,\"#46039f\"],[0.2222222222222222,\"#7201a8\"],[0.3333333333333333,\"#9c179e\"],[0.4444444444444444,\"#bd3786\"],[0.5555555555555556,\"#d8576b\"],[0.6666666666666666,\"#ed7953\"],[0.7777777777777778,\"#fb9f3a\"],[0.8888888888888888,\"#fdca26\"],[1.0,\"#f0f921\"]],\"diverging\":[[0,\"#8e0152\"],[0.1,\"#c51b7d\"],[0.2,\"#de77ae\"],[0.3,\"#f1b6da\"],[0.4,\"#fde0ef\"],[0.5,\"#f7f7f7\"],[0.6,\"#e6f5d0\"],[0.7,\"#b8e186\"],[0.8,\"#7fbc41\"],[0.9,\"#4d9221\"],[1,\"#276419\"]]},\"xaxis\":{\"gridcolor\":\"white\",\"linecolor\":\"white\",\"ticks\":\"\",\"title\":{\"standoff\":15},\"zerolinecolor\":\"white\",\"automargin\":true,\"zerolinewidth\":2},\"yaxis\":{\"gridcolor\":\"white\",\"linecolor\":\"white\",\"ticks\":\"\",\"title\":{\"standoff\":15},\"zerolinecolor\":\"white\",\"automargin\":true,\"zerolinewidth\":2},\"scene\":{\"xaxis\":{\"backgroundcolor\":\"#E5ECF6\",\"gridcolor\":\"white\",\"linecolor\":\"white\",\"showbackground\":true,\"ticks\":\"\",\"zerolinecolor\":\"white\",\"gridwidth\":2},\"yaxis\":{\"backgroundcolor\":\"#E5ECF6\",\"gridcolor\":\"white\",\"linecolor\":\"white\",\"showbackground\":true,\"ticks\":\"\",\"zerolinecolor\":\"white\",\"gridwidth\":2},\"zaxis\":{\"backgroundcolor\":\"#E5ECF6\",\"gridcolor\":\"white\",\"linecolor\":\"white\",\"showbackground\":true,\"ticks\":\"\",\"zerolinecolor\":\"white\",\"gridwidth\":2}},\"shapedefaults\":{\"line\":{\"color\":\"#2a3f5f\"}},\"annotationdefaults\":{\"arrowcolor\":\"#2a3f5f\",\"arrowhead\":0,\"arrowwidth\":1},\"geo\":{\"bgcolor\":\"white\",\"landcolor\":\"#E5ECF6\",\"subunitcolor\":\"white\",\"showland\":true,\"showlakes\":true,\"lakecolor\":\"white\"},\"title\":{\"x\":0.05},\"mapbox\":{\"style\":\"light\"}}}},                        {\"responsive\": true}                    ).then(function(){\n",
              "                            \n",
              "var gd = document.getElementById('870f53e2-783b-4820-b75e-5decfe9d91d0');\n",
              "var x = new MutationObserver(function (mutations, observer) {{\n",
              "        var display = window.getComputedStyle(gd).display;\n",
              "        if (!display || display === 'none') {{\n",
              "            console.log([gd, 'removed!']);\n",
              "            Plotly.purge(gd);\n",
              "            observer.disconnect();\n",
              "        }}\n",
              "}});\n",
              "\n",
              "// Listen for the removal of the full notebook cells\n",
              "var notebookContainer = gd.closest('#notebook-container');\n",
              "if (notebookContainer) {{\n",
              "    x.observe(notebookContainer, {childList: true});\n",
              "}}\n",
              "\n",
              "// Listen for the clearing of the current output cell\n",
              "var outputEl = gd.closest('.output');\n",
              "if (outputEl) {{\n",
              "    x.observe(outputEl, {childList: true});\n",
              "}}\n",
              "\n",
              "                        })                };                            </script>        </div>\n",
              "</body>\n",
              "</html>"
            ]
          },
          "metadata": {}
        }
      ]
    },
    {
      "cell_type": "markdown",
      "source": [
        "Судя по графику, больший вклад вносит min_samples_leaf."
      ],
      "metadata": {
        "id": "2nUkLOCriHfG"
      }
    },
    {
      "cell_type": "code",
      "source": [
        "# График контура отношений гиперпараметров\n",
        "optuna.visualization.plot_contour(\n",
        "    study_rf, params=[\"max_depth\", \"min_samples_leaf\"], target_name=\"f1_score\")"
      ],
      "metadata": {
        "colab": {
          "base_uri": "https://localhost:8080/",
          "height": 542
        },
        "id": "jxF9CLsSfkuC",
        "outputId": "fc8a6e25-88df-43ec-fc15-7b0d8b33bca1"
      },
      "execution_count": null,
      "outputs": [
        {
          "output_type": "display_data",
          "data": {
            "text/html": [
              "<html>\n",
              "<head><meta charset=\"utf-8\" /></head>\n",
              "<body>\n",
              "    <div>            <script src=\"https://cdnjs.cloudflare.com/ajax/libs/mathjax/2.7.5/MathJax.js?config=TeX-AMS-MML_SVG\"></script><script type=\"text/javascript\">if (window.MathJax && window.MathJax.Hub && window.MathJax.Hub.Config) {window.MathJax.Hub.Config({SVG: {font: \"STIX-Web\"}});}</script>                <script type=\"text/javascript\">window.PlotlyConfig = {MathJaxConfig: 'local'};</script>\n",
              "        <script charset=\"utf-8\" src=\"https://cdn.plot.ly/plotly-2.35.2.min.js\"></script>                <div id=\"febb4262-101a-4ac1-b6f0-a2f7cd6d5a34\" class=\"plotly-graph-div\" style=\"height:525px; width:100%;\"></div>            <script type=\"text/javascript\">                                    window.PLOTLYENV=window.PLOTLYENV || {};                                    if (document.getElementById(\"febb4262-101a-4ac1-b6f0-a2f7cd6d5a34\")) {                    Plotly.newPlot(                        \"febb4262-101a-4ac1-b6f0-a2f7cd6d5a34\",                        [{\"colorbar\":{\"title\":{\"text\":\"f1_score\"}},\"colorscale\":[[0.0,\"rgb(247,251,255)\"],[0.125,\"rgb(222,235,247)\"],[0.25,\"rgb(198,219,239)\"],[0.375,\"rgb(158,202,225)\"],[0.5,\"rgb(107,174,214)\"],[0.625,\"rgb(66,146,198)\"],[0.75,\"rgb(33,113,181)\"],[0.875,\"rgb(8,81,156)\"],[1.0,\"rgb(8,48,107)\"]],\"connectgaps\":true,\"contours\":{\"coloring\":\"heatmap\"},\"hoverinfo\":\"none\",\"line\":{\"smoothing\":1.3},\"reversescale\":false,\"x\":[14.0,15,20,25,30,35,36.0],\"y\":[0.7,1,2,3,4,5,6,7,7.3],\"z\":[[null,null,null,null,null,null,null],[null,0.8195167393957334,0.812883332529208,0.8144133049572216,null,null,null],[null,0.8168819485451717,0.8131318460285785,null,null,null,null],[null,0.8156875861127139,0.8147348575986033,null,null,null,null],[null,null,null,0.8116072291702497,0.8077911473077306,0.8095243828009512,null],[null,null,null,null,0.8074859388203415,0.8079008142719264,null],[null,null,null,0.8018416285658978,null,null,null],[null,null,0.8029581586333293,null,0.8026340371870979,null,null],[null,null,null,null,null,null,null]],\"type\":\"contour\"},{\"marker\":{\"color\":\"black\",\"line\":{\"color\":\"Gray\",\"width\":2.0}},\"mode\":\"markers\",\"name\":\"Feasible Trial\",\"showlegend\":false,\"x\":[35,30,30,35,15,20,25,15,25,30,15,15,15,20,20,15,20,15,20,25,15,15,15,20,15,20,15,20,25,15],\"y\":[4,7,4,5,3,3,4,3,4,5,1,1,1,1,2,1,2,2,7,1,2,1,1,2,1,2,1,3,6,2],\"type\":\"scatter\"},{\"marker\":{\"color\":\"#cccccc\",\"line\":{\"color\":\"Gray\",\"width\":2.0}},\"mode\":\"markers\",\"name\":\"Infeasible Trial\",\"showlegend\":false,\"x\":[],\"y\":[],\"type\":\"scatter\"}],                        {\"title\":{\"text\":\"Contour Plot\"},\"template\":{\"data\":{\"histogram2dcontour\":[{\"type\":\"histogram2dcontour\",\"colorbar\":{\"outlinewidth\":0,\"ticks\":\"\"},\"colorscale\":[[0.0,\"#0d0887\"],[0.1111111111111111,\"#46039f\"],[0.2222222222222222,\"#7201a8\"],[0.3333333333333333,\"#9c179e\"],[0.4444444444444444,\"#bd3786\"],[0.5555555555555556,\"#d8576b\"],[0.6666666666666666,\"#ed7953\"],[0.7777777777777778,\"#fb9f3a\"],[0.8888888888888888,\"#fdca26\"],[1.0,\"#f0f921\"]]}],\"choropleth\":[{\"type\":\"choropleth\",\"colorbar\":{\"outlinewidth\":0,\"ticks\":\"\"}}],\"histogram2d\":[{\"type\":\"histogram2d\",\"colorbar\":{\"outlinewidth\":0,\"ticks\":\"\"},\"colorscale\":[[0.0,\"#0d0887\"],[0.1111111111111111,\"#46039f\"],[0.2222222222222222,\"#7201a8\"],[0.3333333333333333,\"#9c179e\"],[0.4444444444444444,\"#bd3786\"],[0.5555555555555556,\"#d8576b\"],[0.6666666666666666,\"#ed7953\"],[0.7777777777777778,\"#fb9f3a\"],[0.8888888888888888,\"#fdca26\"],[1.0,\"#f0f921\"]]}],\"heatmap\":[{\"type\":\"heatmap\",\"colorbar\":{\"outlinewidth\":0,\"ticks\":\"\"},\"colorscale\":[[0.0,\"#0d0887\"],[0.1111111111111111,\"#46039f\"],[0.2222222222222222,\"#7201a8\"],[0.3333333333333333,\"#9c179e\"],[0.4444444444444444,\"#bd3786\"],[0.5555555555555556,\"#d8576b\"],[0.6666666666666666,\"#ed7953\"],[0.7777777777777778,\"#fb9f3a\"],[0.8888888888888888,\"#fdca26\"],[1.0,\"#f0f921\"]]}],\"heatmapgl\":[{\"type\":\"heatmapgl\",\"colorbar\":{\"outlinewidth\":0,\"ticks\":\"\"},\"colorscale\":[[0.0,\"#0d0887\"],[0.1111111111111111,\"#46039f\"],[0.2222222222222222,\"#7201a8\"],[0.3333333333333333,\"#9c179e\"],[0.4444444444444444,\"#bd3786\"],[0.5555555555555556,\"#d8576b\"],[0.6666666666666666,\"#ed7953\"],[0.7777777777777778,\"#fb9f3a\"],[0.8888888888888888,\"#fdca26\"],[1.0,\"#f0f921\"]]}],\"contourcarpet\":[{\"type\":\"contourcarpet\",\"colorbar\":{\"outlinewidth\":0,\"ticks\":\"\"}}],\"contour\":[{\"type\":\"contour\",\"colorbar\":{\"outlinewidth\":0,\"ticks\":\"\"},\"colorscale\":[[0.0,\"#0d0887\"],[0.1111111111111111,\"#46039f\"],[0.2222222222222222,\"#7201a8\"],[0.3333333333333333,\"#9c179e\"],[0.4444444444444444,\"#bd3786\"],[0.5555555555555556,\"#d8576b\"],[0.6666666666666666,\"#ed7953\"],[0.7777777777777778,\"#fb9f3a\"],[0.8888888888888888,\"#fdca26\"],[1.0,\"#f0f921\"]]}],\"surface\":[{\"type\":\"surface\",\"colorbar\":{\"outlinewidth\":0,\"ticks\":\"\"},\"colorscale\":[[0.0,\"#0d0887\"],[0.1111111111111111,\"#46039f\"],[0.2222222222222222,\"#7201a8\"],[0.3333333333333333,\"#9c179e\"],[0.4444444444444444,\"#bd3786\"],[0.5555555555555556,\"#d8576b\"],[0.6666666666666666,\"#ed7953\"],[0.7777777777777778,\"#fb9f3a\"],[0.8888888888888888,\"#fdca26\"],[1.0,\"#f0f921\"]]}],\"mesh3d\":[{\"type\":\"mesh3d\",\"colorbar\":{\"outlinewidth\":0,\"ticks\":\"\"}}],\"scatter\":[{\"fillpattern\":{\"fillmode\":\"overlay\",\"size\":10,\"solidity\":0.2},\"type\":\"scatter\"}],\"parcoords\":[{\"type\":\"parcoords\",\"line\":{\"colorbar\":{\"outlinewidth\":0,\"ticks\":\"\"}}}],\"scatterpolargl\":[{\"type\":\"scatterpolargl\",\"marker\":{\"colorbar\":{\"outlinewidth\":0,\"ticks\":\"\"}}}],\"bar\":[{\"error_x\":{\"color\":\"#2a3f5f\"},\"error_y\":{\"color\":\"#2a3f5f\"},\"marker\":{\"line\":{\"color\":\"#E5ECF6\",\"width\":0.5},\"pattern\":{\"fillmode\":\"overlay\",\"size\":10,\"solidity\":0.2}},\"type\":\"bar\"}],\"scattergeo\":[{\"type\":\"scattergeo\",\"marker\":{\"colorbar\":{\"outlinewidth\":0,\"ticks\":\"\"}}}],\"scatterpolar\":[{\"type\":\"scatterpolar\",\"marker\":{\"colorbar\":{\"outlinewidth\":0,\"ticks\":\"\"}}}],\"histogram\":[{\"marker\":{\"pattern\":{\"fillmode\":\"overlay\",\"size\":10,\"solidity\":0.2}},\"type\":\"histogram\"}],\"scattergl\":[{\"type\":\"scattergl\",\"marker\":{\"colorbar\":{\"outlinewidth\":0,\"ticks\":\"\"}}}],\"scatter3d\":[{\"type\":\"scatter3d\",\"line\":{\"colorbar\":{\"outlinewidth\":0,\"ticks\":\"\"}},\"marker\":{\"colorbar\":{\"outlinewidth\":0,\"ticks\":\"\"}}}],\"scattermapbox\":[{\"type\":\"scattermapbox\",\"marker\":{\"colorbar\":{\"outlinewidth\":0,\"ticks\":\"\"}}}],\"scatterternary\":[{\"type\":\"scatterternary\",\"marker\":{\"colorbar\":{\"outlinewidth\":0,\"ticks\":\"\"}}}],\"scattercarpet\":[{\"type\":\"scattercarpet\",\"marker\":{\"colorbar\":{\"outlinewidth\":0,\"ticks\":\"\"}}}],\"carpet\":[{\"aaxis\":{\"endlinecolor\":\"#2a3f5f\",\"gridcolor\":\"white\",\"linecolor\":\"white\",\"minorgridcolor\":\"white\",\"startlinecolor\":\"#2a3f5f\"},\"baxis\":{\"endlinecolor\":\"#2a3f5f\",\"gridcolor\":\"white\",\"linecolor\":\"white\",\"minorgridcolor\":\"white\",\"startlinecolor\":\"#2a3f5f\"},\"type\":\"carpet\"}],\"table\":[{\"cells\":{\"fill\":{\"color\":\"#EBF0F8\"},\"line\":{\"color\":\"white\"}},\"header\":{\"fill\":{\"color\":\"#C8D4E3\"},\"line\":{\"color\":\"white\"}},\"type\":\"table\"}],\"barpolar\":[{\"marker\":{\"line\":{\"color\":\"#E5ECF6\",\"width\":0.5},\"pattern\":{\"fillmode\":\"overlay\",\"size\":10,\"solidity\":0.2}},\"type\":\"barpolar\"}],\"pie\":[{\"automargin\":true,\"type\":\"pie\"}]},\"layout\":{\"autotypenumbers\":\"strict\",\"colorway\":[\"#636efa\",\"#EF553B\",\"#00cc96\",\"#ab63fa\",\"#FFA15A\",\"#19d3f3\",\"#FF6692\",\"#B6E880\",\"#FF97FF\",\"#FECB52\"],\"font\":{\"color\":\"#2a3f5f\"},\"hovermode\":\"closest\",\"hoverlabel\":{\"align\":\"left\"},\"paper_bgcolor\":\"white\",\"plot_bgcolor\":\"#E5ECF6\",\"polar\":{\"bgcolor\":\"#E5ECF6\",\"angularaxis\":{\"gridcolor\":\"white\",\"linecolor\":\"white\",\"ticks\":\"\"},\"radialaxis\":{\"gridcolor\":\"white\",\"linecolor\":\"white\",\"ticks\":\"\"}},\"ternary\":{\"bgcolor\":\"#E5ECF6\",\"aaxis\":{\"gridcolor\":\"white\",\"linecolor\":\"white\",\"ticks\":\"\"},\"baxis\":{\"gridcolor\":\"white\",\"linecolor\":\"white\",\"ticks\":\"\"},\"caxis\":{\"gridcolor\":\"white\",\"linecolor\":\"white\",\"ticks\":\"\"}},\"coloraxis\":{\"colorbar\":{\"outlinewidth\":0,\"ticks\":\"\"}},\"colorscale\":{\"sequential\":[[0.0,\"#0d0887\"],[0.1111111111111111,\"#46039f\"],[0.2222222222222222,\"#7201a8\"],[0.3333333333333333,\"#9c179e\"],[0.4444444444444444,\"#bd3786\"],[0.5555555555555556,\"#d8576b\"],[0.6666666666666666,\"#ed7953\"],[0.7777777777777778,\"#fb9f3a\"],[0.8888888888888888,\"#fdca26\"],[1.0,\"#f0f921\"]],\"sequentialminus\":[[0.0,\"#0d0887\"],[0.1111111111111111,\"#46039f\"],[0.2222222222222222,\"#7201a8\"],[0.3333333333333333,\"#9c179e\"],[0.4444444444444444,\"#bd3786\"],[0.5555555555555556,\"#d8576b\"],[0.6666666666666666,\"#ed7953\"],[0.7777777777777778,\"#fb9f3a\"],[0.8888888888888888,\"#fdca26\"],[1.0,\"#f0f921\"]],\"diverging\":[[0,\"#8e0152\"],[0.1,\"#c51b7d\"],[0.2,\"#de77ae\"],[0.3,\"#f1b6da\"],[0.4,\"#fde0ef\"],[0.5,\"#f7f7f7\"],[0.6,\"#e6f5d0\"],[0.7,\"#b8e186\"],[0.8,\"#7fbc41\"],[0.9,\"#4d9221\"],[1,\"#276419\"]]},\"xaxis\":{\"gridcolor\":\"white\",\"linecolor\":\"white\",\"ticks\":\"\",\"title\":{\"standoff\":15},\"zerolinecolor\":\"white\",\"automargin\":true,\"zerolinewidth\":2},\"yaxis\":{\"gridcolor\":\"white\",\"linecolor\":\"white\",\"ticks\":\"\",\"title\":{\"standoff\":15},\"zerolinecolor\":\"white\",\"automargin\":true,\"zerolinewidth\":2},\"scene\":{\"xaxis\":{\"backgroundcolor\":\"#E5ECF6\",\"gridcolor\":\"white\",\"linecolor\":\"white\",\"showbackground\":true,\"ticks\":\"\",\"zerolinecolor\":\"white\",\"gridwidth\":2},\"yaxis\":{\"backgroundcolor\":\"#E5ECF6\",\"gridcolor\":\"white\",\"linecolor\":\"white\",\"showbackground\":true,\"ticks\":\"\",\"zerolinecolor\":\"white\",\"gridwidth\":2},\"zaxis\":{\"backgroundcolor\":\"#E5ECF6\",\"gridcolor\":\"white\",\"linecolor\":\"white\",\"showbackground\":true,\"ticks\":\"\",\"zerolinecolor\":\"white\",\"gridwidth\":2}},\"shapedefaults\":{\"line\":{\"color\":\"#2a3f5f\"}},\"annotationdefaults\":{\"arrowcolor\":\"#2a3f5f\",\"arrowhead\":0,\"arrowwidth\":1},\"geo\":{\"bgcolor\":\"white\",\"landcolor\":\"#E5ECF6\",\"subunitcolor\":\"white\",\"showland\":true,\"showlakes\":true,\"lakecolor\":\"white\"},\"title\":{\"x\":0.05},\"mapbox\":{\"style\":\"light\"}}},\"xaxis\":{\"title\":{\"text\":\"max_depth\"},\"range\":[14.0,36.0]},\"yaxis\":{\"title\":{\"text\":\"min_samples_leaf\"},\"range\":[0.7,7.3]}},                        {\"responsive\": true}                    ).then(function(){\n",
              "                            \n",
              "var gd = document.getElementById('febb4262-101a-4ac1-b6f0-a2f7cd6d5a34');\n",
              "var x = new MutationObserver(function (mutations, observer) {{\n",
              "        var display = window.getComputedStyle(gd).display;\n",
              "        if (!display || display === 'none') {{\n",
              "            console.log([gd, 'removed!']);\n",
              "            Plotly.purge(gd);\n",
              "            observer.disconnect();\n",
              "        }}\n",
              "}});\n",
              "\n",
              "// Listen for the removal of the full notebook cells\n",
              "var notebookContainer = gd.closest('#notebook-container');\n",
              "if (notebookContainer) {{\n",
              "    x.observe(notebookContainer, {childList: true});\n",
              "}}\n",
              "\n",
              "// Listen for the clearing of the current output cell\n",
              "var outputEl = gd.closest('.output');\n",
              "if (outputEl) {{\n",
              "    x.observe(outputEl, {childList: true});\n",
              "}}\n",
              "\n",
              "                        })                };                            </script>        </div>\n",
              "</body>\n",
              "</html>"
            ]
          },
          "metadata": {}
        }
      ]
    },
    {
      "cell_type": "markdown",
      "source": [
        "### Вывод\n",
        "\n",
        "На примерах моделей логистической регрессии и случайного леса мы рассмотрели 2 базовых способа оптимизации гиперпараметров (GridSearchCV и RandomizedSearchCV) и 2 продвинутых (Hyperopt и Optuna). Гиперпараметры подбирались на тренировочном наборе с использованием кросс-валидации.\n",
        "С помощью RandomizedSearchCV и Hyperopt удалось улучшить целевую метрику на тестовом наборе для модели логистической регрессии. Меньше всего времени на подбор гиперпараметров затратил RandomizedSearchCV."
      ],
      "metadata": {
        "id": "jYTHy-P_umFr"
      }
    }
  ],
  "metadata": {
    "kernelspec": {
      "display_name": "Python 3",
      "name": "python3"
    },
    "language_info": {
      "codemirror_mode": {
        "name": "ipython",
        "version": 3
      },
      "file_extension": ".py",
      "mimetype": "text/x-python",
      "name": "python",
      "nbconvert_exporter": "python",
      "pygments_lexer": "ipython3",
      "version": "3.9.19"
    },
    "colab": {
      "provenance": [],
      "gpuType": "V28"
    },
    "accelerator": "TPU"
  },
  "nbformat": 4,
  "nbformat_minor": 0
}