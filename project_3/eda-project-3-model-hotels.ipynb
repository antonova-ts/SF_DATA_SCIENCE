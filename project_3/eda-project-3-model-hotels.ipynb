{
 "cells": [
  {
   "cell_type": "markdown",
   "id": "fc9ccb96",
   "metadata": {
    "papermill": {
     "duration": 0.091997,
     "end_time": "2024-04-08T18:57:19.177488",
     "exception": false,
     "start_time": "2024-04-08T18:57:19.085491",
     "status": "completed"
    },
    "tags": []
   },
   "source": [
    "## <center>PROJECT-3. EDA + Feature Engineering. Соревнование на Kaggle</center>\n",
    "\n",
    "### Постановка задачи\n",
    "\n",
    "Представьте, что вы работаете дата-сайентистом в компании Booking. Одна из проблем компании — это нечестные отели, которые накручивают себе рейтинг. \n",
    "\n",
    "### Цель проекта \n",
    "\n",
    "Построить модель на основе алгоритмов машинного обучения, которая предсказывает рейтинг отеля.\n",
    "\n",
    "### Задачи проекта\n",
    "\n",
    "1. ознакомиться с входными данными (датасет с информацией об отелях);\n",
    "2. изучить пример машинного обучения (scikit-learn класс RandomForestRegressor);\n",
    "3. выполнить подготовку данных, которые будут использованы для обучения модели;\n",
    "4. проверить эффективность предлагаемой модели, используя метрику MAPE\n",
    "5. принять участие в соревновании на площадке в kaggle.com.\n",
    "\n",
    "\n",
    "Первоначальная версия датасета содержит 17 полей со следующей информацией:\n",
    "\n",
    "- hotel_address — адрес отеля;\n",
    "- review_date — дата, когда рецензент разместил соответствующий отзыв;\n",
    "- average_score — средний балл отеля, рассчитанный на основе последнего комментария за последний год;\n",
    "- hotel_name — название отеля;\n",
    "- reviewer_nationality — страна рецензента;\n",
    "- negative_review — отрицательный отзыв, который рецензент дал отелю;\n",
    "- review_total_negative_word_counts — общее количество слов в отрицательном отзыв;\n",
    "- positive_review — положительный отзыв, который рецензент дал отелю;\n",
    "- review_total_positive_word_counts — общее количество слов в положительном отзыве;\n",
    "- reviewer_score — оценка, которую рецензент поставил отелю на основе своего опыта;\n",
    "- total_number_of_reviews_reviewer_has_given — количество отзывов, которые рецензенты дали в прошлом;\n",
    "- total_number_of_reviews — общее количество действительных отзывов об отеле;\n",
    "- tags — теги, которые рецензент дал отелю;\n",
    "- days_since_review — количество дней между датой проверки и датой очистки;\n",
    "- additional_number_of_scoring — есть также некоторые гости, которые просто поставили оценку сервису, но не оставили отзыв. Это число указывает, сколько там действительных оценок без проверки.\n",
    "- lat — географическая широта отеля;\n",
    "- lng — географическая долгота отеля."
   ]
  },
  {
   "cell_type": "code",
   "execution_count": 1,
   "id": "7314a696",
   "metadata": {
    "execution": {
     "iopub.execute_input": "2024-04-08T18:57:19.353671Z",
     "iopub.status.busy": "2024-04-08T18:57:19.352220Z",
     "iopub.status.idle": "2024-04-08T18:57:21.655905Z",
     "shell.execute_reply": "2024-04-08T18:57:21.656564Z",
     "shell.execute_reply.started": "2024-04-08T18:43:14.787460Z"
    },
    "papermill": {
     "duration": 2.394477,
     "end_time": "2024-04-08T18:57:21.656932",
     "exception": false,
     "start_time": "2024-04-08T18:57:19.262455",
     "status": "completed"
    },
    "tags": []
   },
   "outputs": [
    {
     "name": "stdout",
     "output_type": "stream",
     "text": [
      "/kaggle/input/sf-booking/hotels_test.csv\n",
      "/kaggle/input/sf-booking/hotels_train.csv\n",
      "/kaggle/input/sf-booking/submission.csv\n"
     ]
    },
    {
     "name": "stderr",
     "output_type": "stream",
     "text": [
      "/opt/conda/lib/python3.7/site-packages/nltk/twitter/__init__.py:20: UserWarning: The twython library has not been installed. Some functionality from the twitter package will not be available.\n",
      "  warnings.warn(\"The twython library has not been installed. \"\n"
     ]
    }
   ],
   "source": [
    "# This Python 3 environment comes with many helpful analytics libraries installed\n",
    "# It is defined by the kaggle/python Docker image: https://github.com/kaggle/docker-python\n",
    "# For example, here's several helpful packages to load\n",
    "\n",
    "import numpy as np # linear algebra\n",
    "import pandas as pd # data processing, CSV file I/O (e.g. pd.read_csv)\n",
    "\n",
    "# импортируем библиотеки для визуализации\n",
    "import matplotlib.pyplot as plt\n",
    "import seaborn as sns \n",
    "%matplotlib inline\n",
    "\n",
    "# Загружаем специальный удобный инструмент для разделения датасета:\n",
    "from sklearn.model_selection import train_test_split\n",
    "\n",
    "# Input data files are available in the read-only \"../input/\" directory\n",
    "# For example, running this (by clicking run or pressing Shift+Enter) will list all files under the input directory\n",
    "\n",
    "import os\n",
    "for dirname, _, filenames in os.walk('/kaggle/input'):\n",
    "    for filename in filenames:\n",
    "        print(os.path.join(dirname, filename))\n",
    "     \n",
    "    \n",
    "import re\n",
    "import numpy as np\n",
    "\n",
    "# Импортируем библиотеку для обработки естественного языка\n",
    "import nltk\n",
    "from nltk.sentiment.vader import SentimentIntensityAnalyzer\n",
    "\n",
    "from collections import defaultdict\n",
    "\n",
    "# Импортируем библиотеки для преобразования\n",
    "import category_encoders as ce\n",
    "from sklearn import preprocessing\n",
    "\n",
    "# Импортируем библиотеки для обучения и оценки модели\n",
    "from sklearn.ensemble import RandomForestRegressor # инструмент для создания и обучения модели\n",
    "from sklearn import metrics # инструменты для оценки точности модели\n",
    "\n",
    "# Скрываем warning\n",
    "import warnings\n",
    "warnings.filterwarnings('ignore', category=UserWarning)\n",
    "warnings.filterwarnings('ignore', category=FutureWarning)\n",
    "\n",
    "# You can write up to 20GB to the current directory (/kaggle/working/) that gets preserved as output when you create a version using \"Save & Run All\" \n",
    "# You can also write temporary files to /kaggle/temp/, but they won't be saved outside of the current session"
   ]
  },
  {
   "cell_type": "code",
   "execution_count": 2,
   "id": "b27130bc",
   "metadata": {
    "execution": {
     "iopub.execute_input": "2024-04-08T18:57:21.833420Z",
     "iopub.status.busy": "2024-04-08T18:57:21.832296Z",
     "iopub.status.idle": "2024-04-08T18:57:21.836019Z",
     "shell.execute_reply": "2024-04-08T18:57:21.836568Z",
     "shell.execute_reply.started": "2024-04-08T18:43:17.264109Z"
    },
    "papermill": {
     "duration": 0.094033,
     "end_time": "2024-04-08T18:57:21.836786",
     "exception": false,
     "start_time": "2024-04-08T18:57:21.742753",
     "status": "completed"
    },
    "tags": []
   },
   "outputs": [],
   "source": [
    "# всегда фиксируйте RANDOM_SEED, чтобы ваши эксперименты были воспроизводимы!\n",
    "RANDOM_SEED = 42"
   ]
  },
  {
   "cell_type": "code",
   "execution_count": 3,
   "id": "d6df573f",
   "metadata": {
    "execution": {
     "iopub.execute_input": "2024-04-08T18:57:22.013380Z",
     "iopub.status.busy": "2024-04-08T18:57:22.012281Z",
     "iopub.status.idle": "2024-04-08T18:57:27.376731Z",
     "shell.execute_reply": "2024-04-08T18:57:27.376052Z",
     "shell.execute_reply.started": "2024-04-08T18:43:17.270484Z"
    },
    "papermill": {
     "duration": 5.453206,
     "end_time": "2024-04-08T18:57:27.376924",
     "exception": false,
     "start_time": "2024-04-08T18:57:21.923718",
     "status": "completed"
    },
    "tags": []
   },
   "outputs": [],
   "source": [
    "# зафиксируем версию пакетов, чтобы эксперименты были воспроизводимы:\n",
    "!pip freeze > requirements.txt"
   ]
  },
  {
   "cell_type": "markdown",
   "id": "4785e615",
   "metadata": {
    "papermill": {
     "duration": 0.086315,
     "end_time": "2024-04-08T18:57:27.551136",
     "exception": false,
     "start_time": "2024-04-08T18:57:27.464821",
     "status": "completed"
    },
    "tags": []
   },
   "source": [
    "### Загрузка и обработка данных"
   ]
  },
  {
   "cell_type": "code",
   "execution_count": 4,
   "id": "c94e9227",
   "metadata": {
    "execution": {
     "iopub.execute_input": "2024-04-08T18:57:27.730331Z",
     "iopub.status.busy": "2024-04-08T18:57:27.729480Z",
     "iopub.status.idle": "2024-04-08T18:57:34.336514Z",
     "shell.execute_reply": "2024-04-08T18:57:34.337186Z",
     "shell.execute_reply.started": "2024-04-08T18:43:22.314307Z"
    },
    "papermill": {
     "duration": 6.700441,
     "end_time": "2024-04-08T18:57:34.337405",
     "exception": false,
     "start_time": "2024-04-08T18:57:27.636964",
     "status": "completed"
    },
    "tags": []
   },
   "outputs": [],
   "source": [
    "# Подгрузим наши данные из соревнования\n",
    "\n",
    "DATA_DIR = '/kaggle/input/sf-booking/'\n",
    "df_train = pd.read_csv(DATA_DIR+'/hotels_train.csv') # датасет для обучения\n",
    "df_test = pd.read_csv(DATA_DIR+'hotels_test.csv') # датасет для предсказания\n",
    "sample_submission = pd.read_csv(DATA_DIR+'/submission.csv') # самбмишн"
   ]
  },
  {
   "cell_type": "code",
   "execution_count": 5,
   "id": "141d8f4d",
   "metadata": {
    "execution": {
     "iopub.execute_input": "2024-04-08T18:57:34.521201Z",
     "iopub.status.busy": "2024-04-08T18:57:34.520402Z",
     "iopub.status.idle": "2024-04-08T18:57:34.905976Z",
     "shell.execute_reply": "2024-04-08T18:57:34.905314Z",
     "shell.execute_reply.started": "2024-04-08T18:43:28.328569Z"
    },
    "papermill": {
     "duration": 0.482795,
     "end_time": "2024-04-08T18:57:34.906144",
     "exception": false,
     "start_time": "2024-04-08T18:57:34.423349",
     "status": "completed"
    },
    "tags": []
   },
   "outputs": [
    {
     "name": "stdout",
     "output_type": "stream",
     "text": [
      "<class 'pandas.core.frame.DataFrame'>\n",
      "RangeIndex: 386803 entries, 0 to 386802\n",
      "Data columns (total 17 columns):\n",
      " #   Column                                      Non-Null Count   Dtype  \n",
      "---  ------                                      --------------   -----  \n",
      " 0   hotel_address                               386803 non-null  object \n",
      " 1   additional_number_of_scoring                386803 non-null  int64  \n",
      " 2   review_date                                 386803 non-null  object \n",
      " 3   average_score                               386803 non-null  float64\n",
      " 4   hotel_name                                  386803 non-null  object \n",
      " 5   reviewer_nationality                        386803 non-null  object \n",
      " 6   negative_review                             386803 non-null  object \n",
      " 7   review_total_negative_word_counts           386803 non-null  int64  \n",
      " 8   total_number_of_reviews                     386803 non-null  int64  \n",
      " 9   positive_review                             386803 non-null  object \n",
      " 10  review_total_positive_word_counts           386803 non-null  int64  \n",
      " 11  total_number_of_reviews_reviewer_has_given  386803 non-null  int64  \n",
      " 12  reviewer_score                              386803 non-null  float64\n",
      " 13  tags                                        386803 non-null  object \n",
      " 14  days_since_review                           386803 non-null  object \n",
      " 15  lat                                         384355 non-null  float64\n",
      " 16  lng                                         384355 non-null  float64\n",
      "dtypes: float64(4), int64(5), object(8)\n",
      "memory usage: 50.2+ MB\n"
     ]
    }
   ],
   "source": [
    "df_train.info()"
   ]
  },
  {
   "cell_type": "code",
   "execution_count": 6,
   "id": "06b1f5ed",
   "metadata": {
    "execution": {
     "iopub.execute_input": "2024-04-08T18:57:35.086703Z",
     "iopub.status.busy": "2024-04-08T18:57:35.085921Z",
     "iopub.status.idle": "2024-04-08T18:57:35.109461Z",
     "shell.execute_reply": "2024-04-08T18:57:35.110079Z",
     "shell.execute_reply.started": "2024-04-08T18:43:28.534453Z"
    },
    "papermill": {
     "duration": 0.11791,
     "end_time": "2024-04-08T18:57:35.110275",
     "exception": false,
     "start_time": "2024-04-08T18:57:34.992365",
     "status": "completed"
    },
    "tags": []
   },
   "outputs": [
    {
     "data": {
      "text/html": [
       "<div>\n",
       "<style scoped>\n",
       "    .dataframe tbody tr th:only-of-type {\n",
       "        vertical-align: middle;\n",
       "    }\n",
       "\n",
       "    .dataframe tbody tr th {\n",
       "        vertical-align: top;\n",
       "    }\n",
       "\n",
       "    .dataframe thead th {\n",
       "        text-align: right;\n",
       "    }\n",
       "</style>\n",
       "<table border=\"1\" class=\"dataframe\">\n",
       "  <thead>\n",
       "    <tr style=\"text-align: right;\">\n",
       "      <th></th>\n",
       "      <th>hotel_address</th>\n",
       "      <th>additional_number_of_scoring</th>\n",
       "      <th>review_date</th>\n",
       "      <th>average_score</th>\n",
       "      <th>hotel_name</th>\n",
       "      <th>reviewer_nationality</th>\n",
       "      <th>negative_review</th>\n",
       "      <th>review_total_negative_word_counts</th>\n",
       "      <th>total_number_of_reviews</th>\n",
       "      <th>positive_review</th>\n",
       "      <th>review_total_positive_word_counts</th>\n",
       "      <th>total_number_of_reviews_reviewer_has_given</th>\n",
       "      <th>reviewer_score</th>\n",
       "      <th>tags</th>\n",
       "      <th>days_since_review</th>\n",
       "      <th>lat</th>\n",
       "      <th>lng</th>\n",
       "    </tr>\n",
       "  </thead>\n",
       "  <tbody>\n",
       "    <tr>\n",
       "      <th>0</th>\n",
       "      <td>Stratton Street Mayfair Westminster Borough Lo...</td>\n",
       "      <td>581</td>\n",
       "      <td>2/19/2016</td>\n",
       "      <td>8.4</td>\n",
       "      <td>The May Fair Hotel</td>\n",
       "      <td>United Kingdom</td>\n",
       "      <td>Leaving</td>\n",
       "      <td>3</td>\n",
       "      <td>1994</td>\n",
       "      <td>Staff were amazing</td>\n",
       "      <td>4</td>\n",
       "      <td>7</td>\n",
       "      <td>10.0</td>\n",
       "      <td>[' Leisure trip ', ' Couple ', ' Studio Suite ...</td>\n",
       "      <td>531 day</td>\n",
       "      <td>51.507894</td>\n",
       "      <td>-0.143671</td>\n",
       "    </tr>\n",
       "    <tr>\n",
       "      <th>1</th>\n",
       "      <td>130 134 Southampton Row Camden London WC1B 5AF...</td>\n",
       "      <td>299</td>\n",
       "      <td>1/12/2017</td>\n",
       "      <td>8.3</td>\n",
       "      <td>Mercure London Bloomsbury Hotel</td>\n",
       "      <td>United Kingdom</td>\n",
       "      <td>poor breakfast</td>\n",
       "      <td>3</td>\n",
       "      <td>1361</td>\n",
       "      <td>location</td>\n",
       "      <td>2</td>\n",
       "      <td>14</td>\n",
       "      <td>6.3</td>\n",
       "      <td>[' Business trip ', ' Couple ', ' Standard Dou...</td>\n",
       "      <td>203 day</td>\n",
       "      <td>51.521009</td>\n",
       "      <td>-0.123097</td>\n",
       "    </tr>\n",
       "  </tbody>\n",
       "</table>\n",
       "</div>"
      ],
      "text/plain": [
       "                                       hotel_address  \\\n",
       "0  Stratton Street Mayfair Westminster Borough Lo...   \n",
       "1  130 134 Southampton Row Camden London WC1B 5AF...   \n",
       "\n",
       "   additional_number_of_scoring review_date  average_score  \\\n",
       "0                           581   2/19/2016            8.4   \n",
       "1                           299   1/12/2017            8.3   \n",
       "\n",
       "                        hotel_name reviewer_nationality  negative_review  \\\n",
       "0               The May Fair Hotel      United Kingdom          Leaving    \n",
       "1  Mercure London Bloomsbury Hotel      United Kingdom    poor breakfast   \n",
       "\n",
       "   review_total_negative_word_counts  total_number_of_reviews  \\\n",
       "0                                  3                     1994   \n",
       "1                                  3                     1361   \n",
       "\n",
       "       positive_review  review_total_positive_word_counts  \\\n",
       "0   Staff were amazing                                  4   \n",
       "1             location                                  2   \n",
       "\n",
       "   total_number_of_reviews_reviewer_has_given  reviewer_score  \\\n",
       "0                                           7            10.0   \n",
       "1                                          14             6.3   \n",
       "\n",
       "                                                tags days_since_review  \\\n",
       "0  [' Leisure trip ', ' Couple ', ' Studio Suite ...           531 day   \n",
       "1  [' Business trip ', ' Couple ', ' Standard Dou...           203 day   \n",
       "\n",
       "         lat       lng  \n",
       "0  51.507894 -0.143671  \n",
       "1  51.521009 -0.123097  "
      ]
     },
     "execution_count": 6,
     "metadata": {},
     "output_type": "execute_result"
    }
   ],
   "source": [
    "df_train.head(2)"
   ]
  },
  {
   "cell_type": "code",
   "execution_count": 7,
   "id": "8b350941",
   "metadata": {
    "execution": {
     "iopub.execute_input": "2024-04-08T18:57:35.294073Z",
     "iopub.status.busy": "2024-04-08T18:57:35.293272Z",
     "iopub.status.idle": "2024-04-08T18:57:35.426547Z",
     "shell.execute_reply": "2024-04-08T18:57:35.425889Z",
     "shell.execute_reply.started": "2024-04-08T18:43:28.563966Z"
    },
    "papermill": {
     "duration": 0.225846,
     "end_time": "2024-04-08T18:57:35.426754",
     "exception": false,
     "start_time": "2024-04-08T18:57:35.200908",
     "status": "completed"
    },
    "tags": []
   },
   "outputs": [
    {
     "name": "stdout",
     "output_type": "stream",
     "text": [
      "<class 'pandas.core.frame.DataFrame'>\n",
      "RangeIndex: 128935 entries, 0 to 128934\n",
      "Data columns (total 16 columns):\n",
      " #   Column                                      Non-Null Count   Dtype  \n",
      "---  ------                                      --------------   -----  \n",
      " 0   hotel_address                               128935 non-null  object \n",
      " 1   additional_number_of_scoring                128935 non-null  int64  \n",
      " 2   review_date                                 128935 non-null  object \n",
      " 3   average_score                               128935 non-null  float64\n",
      " 4   hotel_name                                  128935 non-null  object \n",
      " 5   reviewer_nationality                        128935 non-null  object \n",
      " 6   negative_review                             128935 non-null  object \n",
      " 7   review_total_negative_word_counts           128935 non-null  int64  \n",
      " 8   total_number_of_reviews                     128935 non-null  int64  \n",
      " 9   positive_review                             128935 non-null  object \n",
      " 10  review_total_positive_word_counts           128935 non-null  int64  \n",
      " 11  total_number_of_reviews_reviewer_has_given  128935 non-null  int64  \n",
      " 12  tags                                        128935 non-null  object \n",
      " 13  days_since_review                           128935 non-null  object \n",
      " 14  lat                                         128115 non-null  float64\n",
      " 15  lng                                         128115 non-null  float64\n",
      "dtypes: float64(3), int64(5), object(8)\n",
      "memory usage: 15.7+ MB\n"
     ]
    }
   ],
   "source": [
    "df_test.info()"
   ]
  },
  {
   "cell_type": "code",
   "execution_count": 8,
   "id": "8ad606ad",
   "metadata": {
    "execution": {
     "iopub.execute_input": "2024-04-08T18:57:35.621552Z",
     "iopub.status.busy": "2024-04-08T18:57:35.620821Z",
     "iopub.status.idle": "2024-04-08T18:57:35.625512Z",
     "shell.execute_reply": "2024-04-08T18:57:35.624891Z",
     "shell.execute_reply.started": "2024-04-08T18:43:28.639547Z"
    },
    "papermill": {
     "duration": 0.110676,
     "end_time": "2024-04-08T18:57:35.625691",
     "exception": false,
     "start_time": "2024-04-08T18:57:35.515015",
     "status": "completed"
    },
    "tags": []
   },
   "outputs": [
    {
     "data": {
      "text/html": [
       "<div>\n",
       "<style scoped>\n",
       "    .dataframe tbody tr th:only-of-type {\n",
       "        vertical-align: middle;\n",
       "    }\n",
       "\n",
       "    .dataframe tbody tr th {\n",
       "        vertical-align: top;\n",
       "    }\n",
       "\n",
       "    .dataframe thead th {\n",
       "        text-align: right;\n",
       "    }\n",
       "</style>\n",
       "<table border=\"1\" class=\"dataframe\">\n",
       "  <thead>\n",
       "    <tr style=\"text-align: right;\">\n",
       "      <th></th>\n",
       "      <th>hotel_address</th>\n",
       "      <th>additional_number_of_scoring</th>\n",
       "      <th>review_date</th>\n",
       "      <th>average_score</th>\n",
       "      <th>hotel_name</th>\n",
       "      <th>reviewer_nationality</th>\n",
       "      <th>negative_review</th>\n",
       "      <th>review_total_negative_word_counts</th>\n",
       "      <th>total_number_of_reviews</th>\n",
       "      <th>positive_review</th>\n",
       "      <th>review_total_positive_word_counts</th>\n",
       "      <th>total_number_of_reviews_reviewer_has_given</th>\n",
       "      <th>tags</th>\n",
       "      <th>days_since_review</th>\n",
       "      <th>lat</th>\n",
       "      <th>lng</th>\n",
       "    </tr>\n",
       "  </thead>\n",
       "  <tbody>\n",
       "    <tr>\n",
       "      <th>0</th>\n",
       "      <td>Via Senigallia 6 20161 Milan Italy</td>\n",
       "      <td>904</td>\n",
       "      <td>7/21/2017</td>\n",
       "      <td>8.1</td>\n",
       "      <td>Hotel Da Vinci</td>\n",
       "      <td>United Kingdom</td>\n",
       "      <td>Would have appreciated a shop in the hotel th...</td>\n",
       "      <td>52</td>\n",
       "      <td>16670</td>\n",
       "      <td>Hotel was great clean friendly staff free bre...</td>\n",
       "      <td>62</td>\n",
       "      <td>1</td>\n",
       "      <td>[' Leisure trip ', ' Couple ', ' Double Room '...</td>\n",
       "      <td>13 days</td>\n",
       "      <td>45.533137</td>\n",
       "      <td>9.171102</td>\n",
       "    </tr>\n",
       "    <tr>\n",
       "      <th>1</th>\n",
       "      <td>Arlandaweg 10 Westpoort 1043 EW Amsterdam Neth...</td>\n",
       "      <td>612</td>\n",
       "      <td>12/12/2016</td>\n",
       "      <td>8.6</td>\n",
       "      <td>Urban Lodge Hotel</td>\n",
       "      <td>Belgium</td>\n",
       "      <td>No tissue paper box was present at the room</td>\n",
       "      <td>10</td>\n",
       "      <td>5018</td>\n",
       "      <td>No Positive</td>\n",
       "      <td>0</td>\n",
       "      <td>7</td>\n",
       "      <td>[' Leisure trip ', ' Group ', ' Triple Room ',...</td>\n",
       "      <td>234 day</td>\n",
       "      <td>52.385649</td>\n",
       "      <td>4.834443</td>\n",
       "    </tr>\n",
       "  </tbody>\n",
       "</table>\n",
       "</div>"
      ],
      "text/plain": [
       "                                       hotel_address  \\\n",
       "0                 Via Senigallia 6 20161 Milan Italy   \n",
       "1  Arlandaweg 10 Westpoort 1043 EW Amsterdam Neth...   \n",
       "\n",
       "   additional_number_of_scoring review_date  average_score         hotel_name  \\\n",
       "0                           904   7/21/2017            8.1     Hotel Da Vinci   \n",
       "1                           612  12/12/2016            8.6  Urban Lodge Hotel   \n",
       "\n",
       "  reviewer_nationality                                    negative_review  \\\n",
       "0      United Kingdom    Would have appreciated a shop in the hotel th...   \n",
       "1             Belgium         No tissue paper box was present at the room   \n",
       "\n",
       "   review_total_negative_word_counts  total_number_of_reviews  \\\n",
       "0                                 52                    16670   \n",
       "1                                 10                     5018   \n",
       "\n",
       "                                     positive_review  \\\n",
       "0   Hotel was great clean friendly staff free bre...   \n",
       "1                                        No Positive   \n",
       "\n",
       "   review_total_positive_word_counts  \\\n",
       "0                                 62   \n",
       "1                                  0   \n",
       "\n",
       "   total_number_of_reviews_reviewer_has_given  \\\n",
       "0                                           1   \n",
       "1                                           7   \n",
       "\n",
       "                                                tags days_since_review  \\\n",
       "0  [' Leisure trip ', ' Couple ', ' Double Room '...           13 days   \n",
       "1  [' Leisure trip ', ' Group ', ' Triple Room ',...           234 day   \n",
       "\n",
       "         lat       lng  \n",
       "0  45.533137  9.171102  \n",
       "1  52.385649  4.834443  "
      ]
     },
     "execution_count": 8,
     "metadata": {},
     "output_type": "execute_result"
    }
   ],
   "source": [
    "df_test.head(2)"
   ]
  },
  {
   "cell_type": "code",
   "execution_count": 9,
   "id": "2ef4496a",
   "metadata": {
    "execution": {
     "iopub.execute_input": "2024-04-08T18:57:35.812301Z",
     "iopub.status.busy": "2024-04-08T18:57:35.811429Z",
     "iopub.status.idle": "2024-04-08T18:57:35.815929Z",
     "shell.execute_reply": "2024-04-08T18:57:35.815311Z",
     "shell.execute_reply.started": "2024-04-08T18:43:28.662562Z"
    },
    "papermill": {
     "duration": 0.102124,
     "end_time": "2024-04-08T18:57:35.816093",
     "exception": false,
     "start_time": "2024-04-08T18:57:35.713969",
     "status": "completed"
    },
    "tags": []
   },
   "outputs": [
    {
     "data": {
      "text/html": [
       "<div>\n",
       "<style scoped>\n",
       "    .dataframe tbody tr th:only-of-type {\n",
       "        vertical-align: middle;\n",
       "    }\n",
       "\n",
       "    .dataframe tbody tr th {\n",
       "        vertical-align: top;\n",
       "    }\n",
       "\n",
       "    .dataframe thead th {\n",
       "        text-align: right;\n",
       "    }\n",
       "</style>\n",
       "<table border=\"1\" class=\"dataframe\">\n",
       "  <thead>\n",
       "    <tr style=\"text-align: right;\">\n",
       "      <th></th>\n",
       "      <th>reviewer_score</th>\n",
       "      <th>id</th>\n",
       "    </tr>\n",
       "  </thead>\n",
       "  <tbody>\n",
       "    <tr>\n",
       "      <th>0</th>\n",
       "      <td>1</td>\n",
       "      <td>488440</td>\n",
       "    </tr>\n",
       "    <tr>\n",
       "      <th>1</th>\n",
       "      <td>10</td>\n",
       "      <td>274649</td>\n",
       "    </tr>\n",
       "  </tbody>\n",
       "</table>\n",
       "</div>"
      ],
      "text/plain": [
       "   reviewer_score      id\n",
       "0               1  488440\n",
       "1              10  274649"
      ]
     },
     "execution_count": 9,
     "metadata": {},
     "output_type": "execute_result"
    }
   ],
   "source": [
    "sample_submission.head(2)"
   ]
  },
  {
   "cell_type": "code",
   "execution_count": 10,
   "id": "2a733e94",
   "metadata": {
    "execution": {
     "iopub.execute_input": "2024-04-08T18:57:36.014144Z",
     "iopub.status.busy": "2024-04-08T18:57:36.013225Z",
     "iopub.status.idle": "2024-04-08T18:57:36.025420Z",
     "shell.execute_reply": "2024-04-08T18:57:36.026054Z",
     "shell.execute_reply.started": "2024-04-08T18:43:28.677421Z"
    },
    "papermill": {
     "duration": 0.107616,
     "end_time": "2024-04-08T18:57:36.026253",
     "exception": false,
     "start_time": "2024-04-08T18:57:35.918637",
     "status": "completed"
    },
    "tags": []
   },
   "outputs": [
    {
     "name": "stdout",
     "output_type": "stream",
     "text": [
      "<class 'pandas.core.frame.DataFrame'>\n",
      "RangeIndex: 128935 entries, 0 to 128934\n",
      "Data columns (total 2 columns):\n",
      " #   Column          Non-Null Count   Dtype\n",
      "---  ------          --------------   -----\n",
      " 0   reviewer_score  128935 non-null  int64\n",
      " 1   id              128935 non-null  int64\n",
      "dtypes: int64(2)\n",
      "memory usage: 2.0 MB\n"
     ]
    }
   ],
   "source": [
    "sample_submission.info()"
   ]
  },
  {
   "cell_type": "code",
   "execution_count": 11,
   "id": "f849e8e9",
   "metadata": {
    "execution": {
     "iopub.execute_input": "2024-04-08T18:57:36.211494Z",
     "iopub.status.busy": "2024-04-08T18:57:36.210718Z",
     "iopub.status.idle": "2024-04-08T18:57:36.797085Z",
     "shell.execute_reply": "2024-04-08T18:57:36.796366Z",
     "shell.execute_reply.started": "2024-04-08T18:43:28.693808Z"
    },
    "papermill": {
     "duration": 0.681918,
     "end_time": "2024-04-08T18:57:36.797248",
     "exception": false,
     "start_time": "2024-04-08T18:57:36.115330",
     "status": "completed"
    },
    "tags": []
   },
   "outputs": [],
   "source": [
    "# ВАЖНО! дря корректной обработки признаков объединяем трейн и тест в один датасет\n",
    "df_train['sample'] = 1 # помечаем где у нас трейн\n",
    "df_test['sample'] = 0 # помечаем где у нас тест\n",
    "df_test['reviewer_score'] = 0 # в тесте у нас нет значения reviewer_score, мы его должны предсказать, по этому пока просто заполняем нулями\n",
    "\n",
    "data = df_test.append(df_train, sort=False).reset_index(drop=True) # объединяем"
   ]
  },
  {
   "cell_type": "code",
   "execution_count": 12,
   "id": "1e844789",
   "metadata": {
    "execution": {
     "iopub.execute_input": "2024-04-08T18:57:36.980597Z",
     "iopub.status.busy": "2024-04-08T18:57:36.979761Z",
     "iopub.status.idle": "2024-04-08T18:57:37.477121Z",
     "shell.execute_reply": "2024-04-08T18:57:37.476413Z",
     "shell.execute_reply.started": "2024-04-08T18:43:29.279647Z"
    },
    "papermill": {
     "duration": 0.591375,
     "end_time": "2024-04-08T18:57:37.477288",
     "exception": false,
     "start_time": "2024-04-08T18:57:36.885913",
     "status": "completed"
    },
    "tags": []
   },
   "outputs": [
    {
     "name": "stdout",
     "output_type": "stream",
     "text": [
      "<class 'pandas.core.frame.DataFrame'>\n",
      "RangeIndex: 515738 entries, 0 to 515737\n",
      "Data columns (total 18 columns):\n",
      " #   Column                                      Non-Null Count   Dtype  \n",
      "---  ------                                      --------------   -----  \n",
      " 0   hotel_address                               515738 non-null  object \n",
      " 1   additional_number_of_scoring                515738 non-null  int64  \n",
      " 2   review_date                                 515738 non-null  object \n",
      " 3   average_score                               515738 non-null  float64\n",
      " 4   hotel_name                                  515738 non-null  object \n",
      " 5   reviewer_nationality                        515738 non-null  object \n",
      " 6   negative_review                             515738 non-null  object \n",
      " 7   review_total_negative_word_counts           515738 non-null  int64  \n",
      " 8   total_number_of_reviews                     515738 non-null  int64  \n",
      " 9   positive_review                             515738 non-null  object \n",
      " 10  review_total_positive_word_counts           515738 non-null  int64  \n",
      " 11  total_number_of_reviews_reviewer_has_given  515738 non-null  int64  \n",
      " 12  tags                                        515738 non-null  object \n",
      " 13  days_since_review                           515738 non-null  object \n",
      " 14  lat                                         512470 non-null  float64\n",
      " 15  lng                                         512470 non-null  float64\n",
      " 16  sample                                      515738 non-null  int64  \n",
      " 17  reviewer_score                              515738 non-null  float64\n",
      "dtypes: float64(4), int64(6), object(8)\n",
      "memory usage: 70.8+ MB\n"
     ]
    }
   ],
   "source": [
    "data.info()"
   ]
  },
  {
   "cell_type": "markdown",
   "id": "5a818808",
   "metadata": {
    "papermill": {
     "duration": 0.088936,
     "end_time": "2024-04-08T18:57:37.656084",
     "exception": false,
     "start_time": "2024-04-08T18:57:37.567148",
     "status": "completed"
    },
    "tags": []
   },
   "source": [
    "Как видно из информации, в объединенном датасете 515738 строк и 18 столбцов. В столбцах lat и lng присутствуют пропущенные значения."
   ]
  },
  {
   "cell_type": "markdown",
   "id": "b6f18975",
   "metadata": {
    "papermill": {
     "duration": 0.088957,
     "end_time": "2024-04-08T18:57:37.834506",
     "exception": false,
     "start_time": "2024-04-08T18:57:37.745549",
     "status": "completed"
    },
    "tags": []
   },
   "source": [
    "Проверим данные на наличие полных дубликатов"
   ]
  },
  {
   "cell_type": "code",
   "execution_count": 13,
   "id": "d9e7d05d",
   "metadata": {
    "execution": {
     "iopub.execute_input": "2024-04-08T18:57:38.028372Z",
     "iopub.status.busy": "2024-04-08T18:57:38.027525Z",
     "iopub.status.idle": "2024-04-08T18:57:39.333530Z",
     "shell.execute_reply": "2024-04-08T18:57:39.334261Z",
     "shell.execute_reply.started": "2024-04-08T18:43:29.535364Z"
    },
    "papermill": {
     "duration": 1.410318,
     "end_time": "2024-04-08T18:57:39.334451",
     "exception": false,
     "start_time": "2024-04-08T18:57:37.924133",
     "status": "completed"
    },
    "tags": []
   },
   "outputs": [
    {
     "name": "stdout",
     "output_type": "stream",
     "text": [
      "Количество дубликатов: 336\n"
     ]
    }
   ],
   "source": [
    "print('Количество дубликатов: {}'.format(data[data.duplicated()].shape[0]))"
   ]
  },
  {
   "cell_type": "markdown",
   "id": "57e69dfa",
   "metadata": {
    "papermill": {
     "duration": 0.090607,
     "end_time": "2024-04-08T18:57:39.515546",
     "exception": false,
     "start_time": "2024-04-08T18:57:39.424939",
     "status": "completed"
    },
    "tags": []
   },
   "source": [
    "Заполним пропущенные значения"
   ]
  },
  {
   "cell_type": "code",
   "execution_count": 14,
   "id": "54f4af6b",
   "metadata": {
    "execution": {
     "iopub.execute_input": "2024-04-08T18:57:39.698918Z",
     "iopub.status.busy": "2024-04-08T18:57:39.697860Z",
     "iopub.status.idle": "2024-04-08T18:57:39.702482Z",
     "shell.execute_reply": "2024-04-08T18:57:39.703081Z",
     "shell.execute_reply.started": "2024-04-08T18:43:30.763586Z"
    },
    "papermill": {
     "duration": 0.097789,
     "end_time": "2024-04-08T18:57:39.703262",
     "exception": false,
     "start_time": "2024-04-08T18:57:39.605473",
     "status": "completed"
    },
    "tags": []
   },
   "outputs": [],
   "source": [
    "# # Получим пропущенные координаты при помощи геокодера\n",
    "# from geopy.geocoders import Nominatim\n",
    "\n",
    "# geolocator = Nominatim(user_agent = \"hotels\") \n",
    "# dict_coord = {} \n",
    "\n",
    "# # Получим список уникальных названий отелей с пропущенными значениями\n",
    "# hotel_names = data[data['lat'].isnull() | data['lng'].\\\n",
    "#     isnull()]['hotel_name'].unique()\n",
    "\n",
    "# # В цикла заполним словарь с названием отеля и его координатами\n",
    "# for hotel in hotel_names:\n",
    "#     coord = geolocator.geocode(hotel)\n",
    "#     if coord :\n",
    "#         dict_coord[hotel] = (coord.latitude, coord.longitude)\n",
    "#     else:\n",
    "#         dict_coord[hotel] = (0, 0)\n",
    "\n",
    "# # Заполним пропущенные значения по индексам, соответствующим отелям\n",
    "# for key in dict_coord:\n",
    "#     index_hotels = data[data['hotel_name'] == key].index\n",
    "#     data.loc[index_hotels, 'lat'] = dict_coord[key][0]\n",
    "#     data.loc[index_hotels, 'lng'] = dict_coord[key][1]"
   ]
  },
  {
   "cell_type": "code",
   "execution_count": 15,
   "id": "7ba712b9",
   "metadata": {
    "execution": {
     "iopub.execute_input": "2024-04-08T18:57:39.887845Z",
     "iopub.status.busy": "2024-04-08T18:57:39.886754Z",
     "iopub.status.idle": "2024-04-08T18:57:41.429379Z",
     "shell.execute_reply": "2024-04-08T18:57:41.430013Z",
     "shell.execute_reply.started": "2024-04-08T18:43:30.770829Z"
    },
    "papermill": {
     "duration": 1.636394,
     "end_time": "2024-04-08T18:57:41.430212",
     "exception": false,
     "start_time": "2024-04-08T18:57:39.793818",
     "status": "completed"
    },
    "tags": []
   },
   "outputs": [],
   "source": [
    "# Получим список уникальных названий отелей с пропущенными значениями\n",
    "hotel_names = data[data['lat'].isnull() | data['lng'].\\\n",
    "    isnull()]['hotel_name'].unique()\n",
    "hotel_coord = [(48.220424, 16.355829), (48.220909, 16.366632), \n",
    "               (48.888909, 2.333142), (48.209408, 16.353434), \n",
    "               (48.213622, 16.379876), (48.209598, 16.35147),\n",
    "               (41.391612, 2.177883), (48.188893, 16.383747), \n",
    "               (48.875359, 2.323402), (48.840038, 2.3235725), \n",
    "               (48.216835, 16.359894), (48.219569, 16.285592), \n",
    "               (41.392741, 2.167408), (48.246039, 16.341232),\n",
    "               (48.186872, 16.420708), (48.233558, 16.345647),\n",
    "               (41.383334, 2.162956)]\n",
    "\n",
    "dict_coord = dict(zip(list(hotel_names), hotel_coord))\n",
    "\n",
    "# Заполним пропущенные значения по индексам, соответствующим отелям\n",
    "for key in dict_coord:\n",
    "    index_data = data[data['hotel_name'] == key].index\n",
    "    data.loc[index_data, 'lat'] = dict_coord[key][0]\n",
    "    data.loc[index_data, 'lng'] = dict_coord[key][1]"
   ]
  },
  {
   "cell_type": "code",
   "execution_count": 16,
   "id": "1ce67eb1",
   "metadata": {
    "execution": {
     "iopub.execute_input": "2024-04-08T18:57:41.614641Z",
     "iopub.status.busy": "2024-04-08T18:57:41.613547Z",
     "iopub.status.idle": "2024-04-08T18:57:42.576296Z",
     "shell.execute_reply": "2024-04-08T18:57:42.575571Z",
     "shell.execute_reply.started": "2024-04-08T18:43:31.514455Z"
    },
    "papermill": {
     "duration": 1.055943,
     "end_time": "2024-04-08T18:57:42.576445",
     "exception": false,
     "start_time": "2024-04-08T18:57:41.520502",
     "status": "completed"
    },
    "tags": []
   },
   "outputs": [
    {
     "data": {
      "text/plain": [
       "hotel_address                                   1493\n",
       "additional_number_of_scoring                     480\n",
       "review_date                                      731\n",
       "average_score                                     34\n",
       "hotel_name                                      1492\n",
       "reviewer_nationality                             227\n",
       "negative_review                               330011\n",
       "review_total_negative_word_counts                402\n",
       "total_number_of_reviews                         1142\n",
       "positive_review                               412601\n",
       "review_total_positive_word_counts                365\n",
       "total_number_of_reviews_reviewer_has_given       198\n",
       "tags                                           55242\n",
       "days_since_review                                731\n",
       "lat                                             1489\n",
       "lng                                             1489\n",
       "sample                                             2\n",
       "reviewer_score                                    38\n",
       "dtype: int64"
      ]
     },
     "execution_count": 16,
     "metadata": {},
     "output_type": "execute_result"
    }
   ],
   "source": [
    "data.nunique(dropna=False)"
   ]
  },
  {
   "cell_type": "markdown",
   "id": "152de441",
   "metadata": {
    "papermill": {
     "duration": 0.089941,
     "end_time": "2024-04-08T18:57:42.756346",
     "exception": false,
     "start_time": "2024-04-08T18:57:42.666405",
     "status": "completed"
    },
    "tags": []
   },
   "source": [
    "###  Визуальный анализ данныx"
   ]
  },
  {
   "cell_type": "code",
   "execution_count": 17,
   "id": "391633ee",
   "metadata": {
    "execution": {
     "iopub.execute_input": "2024-04-08T18:57:42.944313Z",
     "iopub.status.busy": "2024-04-08T18:57:42.942200Z",
     "iopub.status.idle": "2024-04-08T18:57:43.585332Z",
     "shell.execute_reply": "2024-04-08T18:57:43.584581Z",
     "shell.execute_reply.started": "2024-04-08T18:43:32.398297Z"
    },
    "papermill": {
     "duration": 0.739087,
     "end_time": "2024-04-08T18:57:43.585516",
     "exception": false,
     "start_time": "2024-04-08T18:57:42.846429",
     "status": "completed"
    },
    "tags": []
   },
   "outputs": [],
   "source": [
    "# Преобразуем признак days_since_review в числовой\n",
    "data['days_since_review'] = data['days_since_review'].apply(\n",
    "    lambda x: int(x.split(' ')[0]))"
   ]
  },
  {
   "cell_type": "code",
   "execution_count": 18,
   "id": "b01fb68b",
   "metadata": {
    "execution": {
     "iopub.execute_input": "2024-04-08T18:57:43.770234Z",
     "iopub.status.busy": "2024-04-08T18:57:43.769501Z",
     "iopub.status.idle": "2024-04-08T18:57:46.142473Z",
     "shell.execute_reply": "2024-04-08T18:57:46.143081Z",
     "shell.execute_reply.started": "2024-04-08T18:43:32.852809Z"
    },
    "papermill": {
     "duration": 2.467236,
     "end_time": "2024-04-08T18:57:46.143436",
     "exception": false,
     "start_time": "2024-04-08T18:57:43.676200",
     "status": "completed"
    },
    "tags": []
   },
   "outputs": [
    {
     "data": {
      "image/png": "[encoded data removed]",
      "text/plain": [
       "<Figure size 936x864 with 12 Axes>"
      ]
     },
     "metadata": {
      "needs_background": "light"
     },
     "output_type": "display_data"
    }
   ],
   "source": [
    "# Гистограммы распределения числовых признаков\n",
    "fig, (ax1) = plt.subplots(1, figsize=(13, 12))\n",
    "data.hist(ax=ax1)\n",
    "plt.suptitle('Гистограммы распределения числовых признаков');"
   ]
  },
  {
   "cell_type": "markdown",
   "id": "5d32b880",
   "metadata": {
    "papermill": {
     "duration": 0.094741,
     "end_time": "2024-04-08T18:57:46.339041",
     "exception": false,
     "start_time": "2024-04-08T18:57:46.244300",
     "status": "completed"
    },
    "tags": []
   },
   "source": [
    "Как видно из графиков, ни один из признаков не распределен нормально. Для преобразования необходимо использовать нормализацию."
   ]
  },
  {
   "cell_type": "code",
   "execution_count": 19,
   "id": "818770e0",
   "metadata": {
    "execution": {
     "iopub.execute_input": "2024-04-08T18:57:46.558535Z",
     "iopub.status.busy": "2024-04-08T18:57:46.545390Z",
     "iopub.status.idle": "2024-04-08T18:57:49.350386Z",
     "shell.execute_reply": "2024-04-08T18:57:49.349509Z",
     "shell.execute_reply.started": "2024-04-08T18:43:35.005759Z"
    },
    "papermill": {
     "duration": 2.916953,
     "end_time": "2024-04-08T18:57:49.350562",
     "exception": false,
     "start_time": "2024-04-08T18:57:46.433609",
     "status": "completed"
    },
    "tags": []
   },
   "outputs": [
    {
     "data": {
      "image/png": "[encoded data removed]",
      "text/plain": [
       "<Figure size 1224x792 with 12 Axes>"
      ]
     },
     "metadata": {
      "needs_background": "light"
     },
     "output_type": "display_data"
    }
   ],
   "source": [
    "# Коробчатая диаграмма распределения числовых признаков\n",
    "fig, axes = plt.subplots(3, 4, figsize=(17, 11))\n",
    "\n",
    "cols = data.select_dtypes(include='number').columns\n",
    "for i in range(10):\n",
    "    sns.boxplot(data[cols[i]], ax=axes[i // 4][i % 4],\n",
    "                orient='h')\n",
    "    axes[i // 4][i % 4].set_title(cols[i])\n",
    "    axes[i // 4][i % 4].set_xlabel('')\n",
    "    \n",
    "plt.suptitle('Коробчатая диаграмма распределения числовых признаков');"
   ]
  },
  {
   "cell_type": "markdown",
   "id": "cc1d956a",
   "metadata": {
    "papermill": {
     "duration": 0.097619,
     "end_time": "2024-04-08T18:57:49.546114",
     "exception": false,
     "start_time": "2024-04-08T18:57:49.448495",
     "status": "completed"
    },
    "tags": []
   },
   "source": [
    "Из коробчатой диаграммы видно, что выбросы присутствуют во всех признаков, кроме day_since_review. Лучше использовать медиану."
   ]
  },
  {
   "cell_type": "code",
   "execution_count": 20,
   "id": "ec605410",
   "metadata": {
    "execution": {
     "iopub.execute_input": "2024-04-08T18:57:49.753369Z",
     "iopub.status.busy": "2024-04-08T18:57:49.752579Z",
     "iopub.status.idle": "2024-04-08T18:57:49.977460Z",
     "shell.execute_reply": "2024-04-08T18:57:49.976815Z",
     "shell.execute_reply.started": "2024-04-08T18:43:37.611449Z"
    },
    "papermill": {
     "duration": 0.335515,
     "end_time": "2024-04-08T18:57:49.977635",
     "exception": false,
     "start_time": "2024-04-08T18:57:49.642120",
     "status": "completed"
    },
    "tags": []
   },
   "outputs": [
    {
     "data": {
      "text/html": [
       "<div>\n",
       "<style scoped>\n",
       "    .dataframe tbody tr th:only-of-type {\n",
       "        vertical-align: middle;\n",
       "    }\n",
       "\n",
       "    .dataframe tbody tr th {\n",
       "        vertical-align: top;\n",
       "    }\n",
       "\n",
       "    .dataframe thead th {\n",
       "        text-align: right;\n",
       "    }\n",
       "</style>\n",
       "<table border=\"1\" class=\"dataframe\">\n",
       "  <thead>\n",
       "    <tr style=\"text-align: right;\">\n",
       "      <th></th>\n",
       "      <th>additional_number_of_scoring</th>\n",
       "      <th>average_score</th>\n",
       "      <th>review_total_negative_word_counts</th>\n",
       "      <th>total_number_of_reviews</th>\n",
       "      <th>review_total_positive_word_counts</th>\n",
       "      <th>total_number_of_reviews_reviewer_has_given</th>\n",
       "      <th>days_since_review</th>\n",
       "      <th>lat</th>\n",
       "      <th>lng</th>\n",
       "      <th>sample</th>\n",
       "      <th>reviewer_score</th>\n",
       "    </tr>\n",
       "  </thead>\n",
       "  <tbody>\n",
       "    <tr>\n",
       "      <th>count</th>\n",
       "      <td>515738.000000</td>\n",
       "      <td>515738.000000</td>\n",
       "      <td>515738.000000</td>\n",
       "      <td>515738.000000</td>\n",
       "      <td>515738.000000</td>\n",
       "      <td>515738.000000</td>\n",
       "      <td>515738.000000</td>\n",
       "      <td>515738.000000</td>\n",
       "      <td>515738.000000</td>\n",
       "      <td>515738.000000</td>\n",
       "      <td>515738.000000</td>\n",
       "    </tr>\n",
       "    <tr>\n",
       "      <th>mean</th>\n",
       "      <td>498.081836</td>\n",
       "      <td>8.397487</td>\n",
       "      <td>18.539450</td>\n",
       "      <td>2743.743944</td>\n",
       "      <td>17.776458</td>\n",
       "      <td>7.166001</td>\n",
       "      <td>354.441932</td>\n",
       "      <td>49.432405</td>\n",
       "      <td>2.893479</td>\n",
       "      <td>0.749999</td>\n",
       "      <td>6.297672</td>\n",
       "    </tr>\n",
       "    <tr>\n",
       "      <th>std</th>\n",
       "      <td>500.538467</td>\n",
       "      <td>0.548048</td>\n",
       "      <td>29.690831</td>\n",
       "      <td>2317.464868</td>\n",
       "      <td>21.804185</td>\n",
       "      <td>11.040228</td>\n",
       "      <td>208.928124</td>\n",
       "      <td>3.460242</td>\n",
       "      <td>4.667476</td>\n",
       "      <td>0.433014</td>\n",
       "      <td>3.902295</td>\n",
       "    </tr>\n",
       "    <tr>\n",
       "      <th>min</th>\n",
       "      <td>1.000000</td>\n",
       "      <td>5.200000</td>\n",
       "      <td>0.000000</td>\n",
       "      <td>43.000000</td>\n",
       "      <td>0.000000</td>\n",
       "      <td>1.000000</td>\n",
       "      <td>0.000000</td>\n",
       "      <td>41.328376</td>\n",
       "      <td>-0.369758</td>\n",
       "      <td>0.000000</td>\n",
       "      <td>0.000000</td>\n",
       "    </tr>\n",
       "    <tr>\n",
       "      <th>25%</th>\n",
       "      <td>169.000000</td>\n",
       "      <td>8.100000</td>\n",
       "      <td>2.000000</td>\n",
       "      <td>1161.000000</td>\n",
       "      <td>5.000000</td>\n",
       "      <td>1.000000</td>\n",
       "      <td>175.000000</td>\n",
       "      <td>48.214066</td>\n",
       "      <td>-0.143372</td>\n",
       "      <td>0.250000</td>\n",
       "      <td>0.625000</td>\n",
       "    </tr>\n",
       "    <tr>\n",
       "      <th>50%</th>\n",
       "      <td>341.000000</td>\n",
       "      <td>8.400000</td>\n",
       "      <td>9.000000</td>\n",
       "      <td>2134.000000</td>\n",
       "      <td>11.000000</td>\n",
       "      <td>3.000000</td>\n",
       "      <td>353.000000</td>\n",
       "      <td>51.499981</td>\n",
       "      <td>0.019886</td>\n",
       "      <td>1.000000</td>\n",
       "      <td>7.900000</td>\n",
       "    </tr>\n",
       "    <tr>\n",
       "      <th>75%</th>\n",
       "      <td>660.000000</td>\n",
       "      <td>8.800000</td>\n",
       "      <td>23.000000</td>\n",
       "      <td>3613.000000</td>\n",
       "      <td>22.000000</td>\n",
       "      <td>8.000000</td>\n",
       "      <td>527.000000</td>\n",
       "      <td>51.516288</td>\n",
       "      <td>4.841163</td>\n",
       "      <td>1.000000</td>\n",
       "      <td>9.600000</td>\n",
       "    </tr>\n",
       "    <tr>\n",
       "      <th>max</th>\n",
       "      <td>2682.000000</td>\n",
       "      <td>9.800000</td>\n",
       "      <td>408.000000</td>\n",
       "      <td>16670.000000</td>\n",
       "      <td>395.000000</td>\n",
       "      <td>355.000000</td>\n",
       "      <td>730.000000</td>\n",
       "      <td>52.400181</td>\n",
       "      <td>16.429233</td>\n",
       "      <td>1.000000</td>\n",
       "      <td>10.000000</td>\n",
       "    </tr>\n",
       "  </tbody>\n",
       "</table>\n",
       "</div>"
      ],
      "text/plain": [
       "       additional_number_of_scoring  average_score  \\\n",
       "count                 515738.000000  515738.000000   \n",
       "mean                     498.081836       8.397487   \n",
       "std                      500.538467       0.548048   \n",
       "min                        1.000000       5.200000   \n",
       "25%                      169.000000       8.100000   \n",
       "50%                      341.000000       8.400000   \n",
       "75%                      660.000000       8.800000   \n",
       "max                     2682.000000       9.800000   \n",
       "\n",
       "       review_total_negative_word_counts  total_number_of_reviews  \\\n",
       "count                      515738.000000            515738.000000   \n",
       "mean                           18.539450              2743.743944   \n",
       "std                            29.690831              2317.464868   \n",
       "min                             0.000000                43.000000   \n",
       "25%                             2.000000              1161.000000   \n",
       "50%                             9.000000              2134.000000   \n",
       "75%                            23.000000              3613.000000   \n",
       "max                           408.000000             16670.000000   \n",
       "\n",
       "       review_total_positive_word_counts  \\\n",
       "count                      515738.000000   \n",
       "mean                           17.776458   \n",
       "std                            21.804185   \n",
       "min                             0.000000   \n",
       "25%                             5.000000   \n",
       "50%                            11.000000   \n",
       "75%                            22.000000   \n",
       "max                           395.000000   \n",
       "\n",
       "       total_number_of_reviews_reviewer_has_given  days_since_review  \\\n",
       "count                               515738.000000      515738.000000   \n",
       "mean                                     7.166001         354.441932   \n",
       "std                                     11.040228         208.928124   \n",
       "min                                      1.000000           0.000000   \n",
       "25%                                      1.000000         175.000000   \n",
       "50%                                      3.000000         353.000000   \n",
       "75%                                      8.000000         527.000000   \n",
       "max                                    355.000000         730.000000   \n",
       "\n",
       "                 lat            lng         sample  reviewer_score  \n",
       "count  515738.000000  515738.000000  515738.000000   515738.000000  \n",
       "mean       49.432405       2.893479       0.749999        6.297672  \n",
       "std         3.460242       4.667476       0.433014        3.902295  \n",
       "min        41.328376      -0.369758       0.000000        0.000000  \n",
       "25%        48.214066      -0.143372       0.250000        0.625000  \n",
       "50%        51.499981       0.019886       1.000000        7.900000  \n",
       "75%        51.516288       4.841163       1.000000        9.600000  \n",
       "max        52.400181      16.429233       1.000000       10.000000  "
      ]
     },
     "execution_count": 20,
     "metadata": {},
     "output_type": "execute_result"
    }
   ],
   "source": [
    "# Статистические характеристики для количественных признаков\n",
    "data.describe(include=['int64', 'float64'])"
   ]
  },
  {
   "cell_type": "code",
   "execution_count": 21,
   "id": "bcc8bfbb",
   "metadata": {
    "execution": {
     "iopub.execute_input": "2024-04-08T18:57:50.178078Z",
     "iopub.status.busy": "2024-04-08T18:57:50.177233Z",
     "iopub.status.idle": "2024-04-08T18:57:52.091575Z",
     "shell.execute_reply": "2024-04-08T18:57:52.090806Z",
     "shell.execute_reply.started": "2024-04-08T18:43:37.847552Z"
    },
    "papermill": {
     "duration": 2.017614,
     "end_time": "2024-04-08T18:57:52.091797",
     "exception": false,
     "start_time": "2024-04-08T18:57:50.074183",
     "status": "completed"
    },
    "tags": []
   },
   "outputs": [
    {
     "data": {
      "text/html": [
       "<div>\n",
       "<style scoped>\n",
       "    .dataframe tbody tr th:only-of-type {\n",
       "        vertical-align: middle;\n",
       "    }\n",
       "\n",
       "    .dataframe tbody tr th {\n",
       "        vertical-align: top;\n",
       "    }\n",
       "\n",
       "    .dataframe thead th {\n",
       "        text-align: right;\n",
       "    }\n",
       "</style>\n",
       "<table border=\"1\" class=\"dataframe\">\n",
       "  <thead>\n",
       "    <tr style=\"text-align: right;\">\n",
       "      <th></th>\n",
       "      <th>hotel_address</th>\n",
       "      <th>review_date</th>\n",
       "      <th>hotel_name</th>\n",
       "      <th>reviewer_nationality</th>\n",
       "      <th>negative_review</th>\n",
       "      <th>positive_review</th>\n",
       "      <th>tags</th>\n",
       "    </tr>\n",
       "  </thead>\n",
       "  <tbody>\n",
       "    <tr>\n",
       "      <th>count</th>\n",
       "      <td>515738</td>\n",
       "      <td>515738</td>\n",
       "      <td>515738</td>\n",
       "      <td>515738</td>\n",
       "      <td>515738</td>\n",
       "      <td>515738</td>\n",
       "      <td>515738</td>\n",
       "    </tr>\n",
       "    <tr>\n",
       "      <th>unique</th>\n",
       "      <td>1493</td>\n",
       "      <td>731</td>\n",
       "      <td>1492</td>\n",
       "      <td>227</td>\n",
       "      <td>330011</td>\n",
       "      <td>412601</td>\n",
       "      <td>55242</td>\n",
       "    </tr>\n",
       "    <tr>\n",
       "      <th>top</th>\n",
       "      <td>163 Marsh Wall Docklands Tower Hamlets London ...</td>\n",
       "      <td>8/2/2017</td>\n",
       "      <td>Britannia International Hotel Canary Wharf</td>\n",
       "      <td>United Kingdom</td>\n",
       "      <td>No Negative</td>\n",
       "      <td>No Positive</td>\n",
       "      <td>[' Leisure trip ', ' Couple ', ' Double Room '...</td>\n",
       "    </tr>\n",
       "    <tr>\n",
       "      <th>freq</th>\n",
       "      <td>4789</td>\n",
       "      <td>2585</td>\n",
       "      <td>4789</td>\n",
       "      <td>245246</td>\n",
       "      <td>127890</td>\n",
       "      <td>35946</td>\n",
       "      <td>5101</td>\n",
       "    </tr>\n",
       "  </tbody>\n",
       "</table>\n",
       "</div>"
      ],
      "text/plain": [
       "                                            hotel_address review_date  \\\n",
       "count                                              515738      515738   \n",
       "unique                                               1493         731   \n",
       "top     163 Marsh Wall Docklands Tower Hamlets London ...    8/2/2017   \n",
       "freq                                                 4789        2585   \n",
       "\n",
       "                                        hotel_name reviewer_nationality  \\\n",
       "count                                       515738               515738   \n",
       "unique                                        1492                  227   \n",
       "top     Britannia International Hotel Canary Wharf      United Kingdom    \n",
       "freq                                          4789               245246   \n",
       "\n",
       "       negative_review positive_review  \\\n",
       "count           515738          515738   \n",
       "unique          330011          412601   \n",
       "top        No Negative     No Positive   \n",
       "freq            127890           35946   \n",
       "\n",
       "                                                     tags  \n",
       "count                                              515738  \n",
       "unique                                              55242  \n",
       "top     [' Leisure trip ', ' Couple ', ' Double Room '...  \n",
       "freq                                                 5101  "
      ]
     },
     "execution_count": 21,
     "metadata": {},
     "output_type": "execute_result"
    }
   ],
   "source": [
    "# Статистические характеристики для категориальных признаков\n",
    "data.describe(include='object')"
   ]
  },
  {
   "cell_type": "markdown",
   "id": "6951a856",
   "metadata": {
    "papermill": {
     "duration": 0.097487,
     "end_time": "2024-04-08T18:57:52.286011",
     "exception": false,
     "start_time": "2024-04-08T18:57:52.188524",
     "status": "completed"
    },
    "tags": []
   },
   "source": [
    "**Выводы по визуальному анализу**\n",
    "\n",
    "Числовые признаки:\n",
    "\n",
    "- additional_number_of_scoring находится в пределах от 1 до 2682 , среднее значение - 498, медиана - 341. Имеет смысл применить к нему нормализацию методом RobustScaler.\n",
    "\n",
    "- average_score находится в пределах от 5.2 до 9.8, среднее значение и медиана оценки - 8.4. Данный признак гипотетически может внести большой вклад в предсказании рейтинга. Также можно применить нормализацию RobustScaler.\n",
    "\n",
    "- review_total_negative_word_counts распределен в диапазоне от 0 до 408 слов, среднее значение - 18, медиана - 9 (нормализация RobustScaler). \n",
    "\n",
    "- total_number_of_reviews имеет размах от 43 до 16670 отзывов, среднее - 2744, медиана - 2134 (нормализация RobustScaler). \n",
    "\n",
    "- review_total_positive_word_counts находится в пределах от 0 до 395 слов, среднее значение - 18, медиана - 11 (нормализация RobustScaler). \n",
    "\n",
    "- total_number_of_reviews_reviewer_has_given имеет размах от 1 до 355 отзывов, среднее - 7, медиана - 3 (нормализация RobustScaler). \n",
    "\n",
    "\n",
    "- days_since_review находится в пределах от 0 до 730, среднее значение 354, медиана - 353. В данном признаке отсутствуют выбросы, можно применить нормализацию MinMaxScaler.\n",
    "\n",
    "- lat на графике представлен 4 одинокими пеньками (нормализация RobustScaler).\n",
    "\n",
    "- lng по аналогии с lat также нормализуем методом RobustScaler.\n",
    "\n",
    "- reviewer_score распределен в диапазоне от 0 до 10, средняя оценка - 6.2, медиана - 7.9. Данный признак является целевым для предсказания.\n",
    "\n",
    "Категориальные признаки:\n",
    "\n",
    "- hotel_address имеет 1493 уникальных адресов. Частота самого популярного значения - 4789. Имеет смысл извлечь из адреса страну отеля.\n",
    "\n",
    "- review_date имеет слишком много для категорий уникальных значений 731. Можно выделить квартал и проверить, какое отличие в распределении по временам года.\n",
    "\n",
    "- hotel_name меет 1492 уникальных адресов. Видимо один из отелей имеет 2 адреса. Выделим ключевые слова в названии отелей и создадим по ним признаки.\n",
    "\n",
    "- reviewer_nationality представлен 227 разными странами, но почти половина отзывов приходится на рецензентов из Великобритании. Посмотрим, влияет ли совпадении страны рецензента и страны отеля на оценку.\n",
    "\n",
    "- negative_review и positive_review вносят самый большой вклад в оценку отеля. Проанализируем тональность отзывов и получим признаки с числовым выражением настроения. Необходимо учесть самые популярные сочетания слов - 'No Negative' и 'No Positive', которые носят положительные и отрицательные настроения соответственно.\n",
    "\n",
    "- tags также имеет большое количество уникальных значений. Посчитаем количество тегов, извлечём из тегов информацию о количестве ночей, проведенных в отеле, а также вывведем информацию о наличии самого популярного тега."
   ]
  },
  {
   "cell_type": "markdown",
   "id": "b3121e75",
   "metadata": {
    "papermill": {
     "duration": 0.09583,
     "end_time": "2024-04-08T18:57:52.479018",
     "exception": false,
     "start_time": "2024-04-08T18:57:52.383188",
     "status": "completed"
    },
    "tags": []
   },
   "source": [
    "### Создание новых признаков"
   ]
  },
  {
   "cell_type": "code",
   "execution_count": 22,
   "id": "de3bac1a",
   "metadata": {
    "execution": {
     "iopub.execute_input": "2024-04-08T18:57:52.683667Z",
     "iopub.status.busy": "2024-04-08T18:57:52.682600Z",
     "iopub.status.idle": "2024-04-08T18:57:52.685614Z",
     "shell.execute_reply": "2024-04-08T18:57:52.684893Z",
     "shell.execute_reply.started": "2024-04-08T18:43:39.238009Z"
    },
    "papermill": {
     "duration": 0.110185,
     "end_time": "2024-04-08T18:57:52.685789",
     "exception": false,
     "start_time": "2024-04-08T18:57:52.575604",
     "status": "completed"
    },
    "tags": []
   },
   "outputs": [],
   "source": [
    "# Функция визуализации графиков\n",
    "def visualization(df, x, title, rotation):\n",
    "    # Переименуем столбцы во избежании ошибки\n",
    "    df.columns = [x, 'count_values', 'median_score']\n",
    "    \n",
    "    fig, axes = plt.subplots(1, 2, figsize=(11, 4))\n",
    "    \n",
    "    df = df.sort_values('count_values', ascending=False)\n",
    "    \n",
    "    # Столбчатая диаграмма количества записей \n",
    "    sns.barplot(data=df, x=x, y='count_values', ax=axes[0])\n",
    "    axes[0].set(ylabel='Количество')\n",
    "    axes[0].set_title(title + ' по количеству записей')\n",
    "    axes[0].tick_params(labelrotation=rotation, axis='x')\n",
    "    \n",
    "    df = df.sort_values('median_score', ascending=False)\n",
    "    \n",
    "    # Столбчатая диаграмма медианы рейтинга\n",
    "    sns.barplot(data=df.sort_values('median_score', ascending=False),\n",
    "                x=x, y='median_score', ax=axes[1])\n",
    "    axes[1].set(ylabel='Средний рейтинг')\n",
    "    axes[1].set_title(title + ' по медиане рейтинга отелей')\n",
    "    axes[1].tick_params(labelrotation=rotation, axis='x')\n",
    "    \n",
    "    plt.show();"
   ]
  },
  {
   "cell_type": "markdown",
   "id": "3401bdd0",
   "metadata": {
    "papermill": {
     "duration": 0.095681,
     "end_time": "2024-04-08T18:57:52.877827",
     "exception": false,
     "start_time": "2024-04-08T18:57:52.782146",
     "status": "completed"
    },
    "tags": []
   },
   "source": [
    "Создадим признак страны"
   ]
  },
  {
   "cell_type": "code",
   "execution_count": 23,
   "id": "1589ff1b",
   "metadata": {
    "execution": {
     "iopub.execute_input": "2024-04-08T18:57:53.077253Z",
     "iopub.status.busy": "2024-04-08T18:57:53.076435Z",
     "iopub.status.idle": "2024-04-08T18:57:53.681467Z",
     "shell.execute_reply": "2024-04-08T18:57:53.680680Z",
     "shell.execute_reply.started": "2024-04-08T18:43:39.250342Z"
    },
    "papermill": {
     "duration": 0.707881,
     "end_time": "2024-04-08T18:57:53.681636",
     "exception": false,
     "start_time": "2024-04-08T18:57:52.973755",
     "status": "completed"
    },
    "tags": []
   },
   "outputs": [],
   "source": [
    "data['hotel_country'] = data['hotel_address'].apply(\n",
    "    lambda x: x.split(' ')[-1].replace('Kingdom', 'United Kingdom'))"
   ]
  },
  {
   "cell_type": "code",
   "execution_count": 24,
   "id": "cf974bfb",
   "metadata": {
    "execution": {
     "iopub.execute_input": "2024-04-08T18:57:53.889277Z",
     "iopub.status.busy": "2024-04-08T18:57:53.875777Z",
     "iopub.status.idle": "2024-04-08T18:57:54.525716Z",
     "shell.execute_reply": "2024-04-08T18:57:54.524992Z",
     "shell.execute_reply.started": "2024-04-08T18:43:39.707000Z"
    },
    "papermill": {
     "duration": 0.748878,
     "end_time": "2024-04-08T18:57:54.525870",
     "exception": false,
     "start_time": "2024-04-08T18:57:53.776992",
     "status": "completed"
    },
    "tags": []
   },
   "outputs": [
    {
     "data": {
      "image/png": "[encoded data removed]",
      "text/plain": [
       "<Figure size 792x288 with 2 Axes>"
      ]
     },
     "metadata": {
      "needs_background": "light"
     },
     "output_type": "display_data"
    }
   ],
   "source": [
    "df = data.groupby('hotel_country')['reviewer_score'].agg(['count', 'median']).\\\n",
    "    reset_index('hotel_country')\n",
    "visualization(df, 'hotel_country', 'Распределение стран', 90)"
   ]
  },
  {
   "cell_type": "markdown",
   "id": "6ffed806",
   "metadata": {
    "papermill": {
     "duration": 0.096476,
     "end_time": "2024-04-08T18:57:54.719801",
     "exception": false,
     "start_time": "2024-04-08T18:57:54.623325",
     "status": "completed"
    },
    "tags": []
   },
   "source": [
    "Из графиков видно, что у двух групп стран есть небольшое отличие по медиане рейтинга, а половина отзывов приходится на отели из Великобритании."
   ]
  },
  {
   "cell_type": "markdown",
   "id": "98adfaad",
   "metadata": {
    "papermill": {
     "duration": 0.096841,
     "end_time": "2024-04-08T18:57:54.913850",
     "exception": false,
     "start_time": "2024-04-08T18:57:54.817009",
     "status": "completed"
    },
    "tags": []
   },
   "source": [
    "Создадим признак квартала отзыва"
   ]
  },
  {
   "cell_type": "code",
   "execution_count": 25,
   "id": "6c713371",
   "metadata": {
    "execution": {
     "iopub.execute_input": "2024-04-08T18:57:55.153936Z",
     "iopub.status.busy": "2024-04-08T18:57:55.153107Z",
     "iopub.status.idle": "2024-04-08T18:57:55.368613Z",
     "shell.execute_reply": "2024-04-08T18:57:55.369341Z",
     "shell.execute_reply.started": "2024-04-08T18:43:40.311503Z"
    },
    "papermill": {
     "duration": 0.357966,
     "end_time": "2024-04-08T18:57:55.369691",
     "exception": false,
     "start_time": "2024-04-08T18:57:55.011725",
     "status": "completed"
    },
    "tags": []
   },
   "outputs": [],
   "source": [
    "data['review_quarter'] = pd.to_datetime(data['review_date']).dt.quarter"
   ]
  },
  {
   "cell_type": "code",
   "execution_count": 26,
   "id": "b74003a4",
   "metadata": {
    "execution": {
     "iopub.execute_input": "2024-04-08T18:57:55.576066Z",
     "iopub.status.busy": "2024-04-08T18:57:55.573065Z",
     "iopub.status.idle": "2024-04-08T18:57:55.966451Z",
     "shell.execute_reply": "2024-04-08T18:57:55.967093Z",
     "shell.execute_reply.started": "2024-04-08T18:43:40.516132Z"
    },
    "papermill": {
     "duration": 0.49731,
     "end_time": "2024-04-08T18:57:55.967293",
     "exception": false,
     "start_time": "2024-04-08T18:57:55.469983",
     "status": "completed"
    },
    "tags": []
   },
   "outputs": [
    {
     "data": {
      "image/png": "[encoded data removed]",
      "text/plain": [
       "<Figure size 792x288 with 2 Axes>"
      ]
     },
     "metadata": {
      "needs_background": "light"
     },
     "output_type": "display_data"
    }
   ],
   "source": [
    "df = data.groupby('review_quarter')['reviewer_score'].agg(['count', 'median']).\\\n",
    "    reset_index('review_quarter')\n",
    "visualization(df, 'review_quarter', 'Распределение кварталов,в которых\\n  написан отзыв', 0)"
   ]
  },
  {
   "cell_type": "markdown",
   "id": "748fe52f",
   "metadata": {
    "papermill": {
     "duration": 0.098013,
     "end_time": "2024-04-08T18:57:56.164476",
     "exception": false,
     "start_time": "2024-04-08T18:57:56.066463",
     "status": "completed"
    },
    "tags": []
   },
   "source": [
    "На первый взгяд можно сказать, что принципиальное отличие в рейтинге присутсвует только у квартала 1, максимальное количество отзывов - у квартала 3."
   ]
  },
  {
   "cell_type": "markdown",
   "id": "9ad51227",
   "metadata": {
    "papermill": {
     "duration": 0.100219,
     "end_time": "2024-04-08T18:57:56.364051",
     "exception": false,
     "start_time": "2024-04-08T18:57:56.263832",
     "status": "completed"
    },
    "tags": []
   },
   "source": [
    "Создадим список наличия ключевых слова в названии отелей"
   ]
  },
  {
   "cell_type": "code",
   "execution_count": 27,
   "id": "cca3a269",
   "metadata": {
    "execution": {
     "iopub.execute_input": "2024-04-08T18:57:56.567164Z",
     "iopub.status.busy": "2024-04-08T18:57:56.566398Z",
     "iopub.status.idle": "2024-04-08T18:57:57.612265Z",
     "shell.execute_reply": "2024-04-08T18:57:57.612842Z",
     "shell.execute_reply.started": "2024-04-08T18:43:40.891620Z"
    },
    "papermill": {
     "duration": 1.149827,
     "end_time": "2024-04-08T18:57:57.613059",
     "exception": false,
     "start_time": "2024-04-08T18:57:56.463232",
     "status": "completed"
    },
    "tags": []
   },
   "outputs": [],
   "source": [
    "words = {'Park', 'Plaza', 'Holiday', 'Hilton', 'Grand', 'Palace', 'Royale'}\n",
    "data['name_with_keyword'] = data['hotel_name'].apply(\n",
    "       lambda x: 1 if set(x.split(' ')).intersection(words)  else 0)"
   ]
  },
  {
   "cell_type": "code",
   "execution_count": 28,
   "id": "5a2db373",
   "metadata": {
    "execution": {
     "iopub.execute_input": "2024-04-08T18:57:57.816268Z",
     "iopub.status.busy": "2024-04-08T18:57:57.815408Z",
     "iopub.status.idle": "2024-04-08T18:57:58.178909Z",
     "shell.execute_reply": "2024-04-08T18:57:58.178278Z",
     "shell.execute_reply.started": "2024-04-08T18:43:41.690535Z"
    },
    "papermill": {
     "duration": 0.466051,
     "end_time": "2024-04-08T18:57:58.179126",
     "exception": false,
     "start_time": "2024-04-08T18:57:57.713075",
     "status": "completed"
    },
    "tags": []
   },
   "outputs": [
    {
     "data": {
      "image/png": "[encoded data removed]",
      "text/plain": [
       "<Figure size 792x288 with 2 Axes>"
      ]
     },
     "metadata": {
      "needs_background": "light"
     },
     "output_type": "display_data"
    }
   ],
   "source": [
    "df = data.groupby('name_with_keyword')['reviewer_score'].agg(['count', 'median']).\\\n",
    "    reset_index('name_with_keyword')\n",
    "df.columns = ['name_with_keyword', 'count_values', 'median_score']\n",
    "visualization(df, 'name_with_keyword', 'Наличие ключевых слов\\n в названии отеля', 0)"
   ]
  },
  {
   "cell_type": "markdown",
   "id": "51b9036e",
   "metadata": {
    "papermill": {
     "duration": 0.103481,
     "end_time": "2024-04-08T18:57:58.384109",
     "exception": false,
     "start_time": "2024-04-08T18:57:58.280628",
     "status": "completed"
    },
    "tags": []
   },
   "source": [
    "Судя по графикам, наличие ключевых слов в названии отеля не влияет на медиану оценки. При этом отелей с ключевыми словами существенно меньше, чем без них. Лучше сразу удалить данный признак."
   ]
  },
  {
   "cell_type": "code",
   "execution_count": 29,
   "id": "b76a18d0",
   "metadata": {
    "execution": {
     "iopub.execute_input": "2024-04-08T18:57:58.594681Z",
     "iopub.status.busy": "2024-04-08T18:57:58.593885Z",
     "iopub.status.idle": "2024-04-08T18:57:58.881150Z",
     "shell.execute_reply": "2024-04-08T18:57:58.880362Z",
     "shell.execute_reply.started": "2024-04-08T18:43:42.007625Z"
    },
    "papermill": {
     "duration": 0.394907,
     "end_time": "2024-04-08T18:57:58.881327",
     "exception": false,
     "start_time": "2024-04-08T18:57:58.486420",
     "status": "completed"
    },
    "tags": []
   },
   "outputs": [],
   "source": [
    "data.drop('name_with_keyword', axis=1, inplace=True)"
   ]
  },
  {
   "cell_type": "markdown",
   "id": "91ff5389",
   "metadata": {
    "papermill": {
     "duration": 0.100714,
     "end_time": "2024-04-08T18:57:59.085856",
     "exception": false,
     "start_time": "2024-04-08T18:57:58.985142",
     "status": "completed"
    },
    "tags": []
   },
   "source": [
    "Создадим признак-мигалку, показывающий, совпадает ли страна рецензента со страной отеля"
   ]
  },
  {
   "cell_type": "code",
   "execution_count": 30,
   "id": "80434e8a",
   "metadata": {
    "execution": {
     "iopub.execute_input": "2024-04-08T18:57:59.427723Z",
     "iopub.status.busy": "2024-04-08T18:57:59.426908Z",
     "iopub.status.idle": "2024-04-08T18:58:11.968972Z",
     "shell.execute_reply": "2024-04-08T18:58:11.969884Z",
     "shell.execute_reply.started": "2024-04-08T18:43:42.301723Z"
    },
    "papermill": {
     "duration": 12.784518,
     "end_time": "2024-04-08T18:58:11.970110",
     "exception": false,
     "start_time": "2024-04-08T18:57:59.185592",
     "status": "completed"
    },
    "tags": []
   },
   "outputs": [],
   "source": [
    "data['is_country_reviewer'] = data.apply(\n",
    "    lambda row: 1 if row['reviewer_nationality'].strip() == row['hotel_country'] else 0, axis=1) "
   ]
  },
  {
   "cell_type": "code",
   "execution_count": 31,
   "id": "92aa56f0",
   "metadata": {
    "execution": {
     "iopub.execute_input": "2024-04-08T18:58:12.178580Z",
     "iopub.status.busy": "2024-04-08T18:58:12.177624Z",
     "iopub.status.idle": "2024-04-08T18:58:12.538892Z",
     "shell.execute_reply": "2024-04-08T18:58:12.538156Z",
     "shell.execute_reply.started": "2024-04-08T18:43:50.820826Z"
    },
    "papermill": {
     "duration": 0.464351,
     "end_time": "2024-04-08T18:58:12.539054",
     "exception": false,
     "start_time": "2024-04-08T18:58:12.074703",
     "status": "completed"
    },
    "tags": []
   },
   "outputs": [
    {
     "data": {
      "image/png": "[encoded data removed]",
      "text/plain": [
       "<Figure size 792x288 with 2 Axes>"
      ]
     },
     "metadata": {
      "needs_background": "light"
     },
     "output_type": "display_data"
    }
   ],
   "source": [
    "df = data.groupby('is_country_reviewer')['reviewer_score'].agg(['count', 'median']).\\\n",
    "    reset_index('is_country_reviewer')\n",
    "visualization(df, 'is_country_reviewer', 'Зависимость страны отеля от \\n страны рецензента', 0)"
   ]
  },
  {
   "cell_type": "markdown",
   "id": "1391d734",
   "metadata": {
    "papermill": {
     "duration": 0.101153,
     "end_time": "2024-04-08T18:58:12.742447",
     "exception": false,
     "start_time": "2024-04-08T18:58:12.641294",
     "status": "completed"
    },
    "tags": []
   },
   "source": [
    "Исходя из визуального анализа можно сделать вывод, что рейтинг не зависит от совпадения страны рецензета и страны отеля. Удалим данный признак. "
   ]
  },
  {
   "cell_type": "code",
   "execution_count": 32,
   "id": "503644fa",
   "metadata": {
    "execution": {
     "iopub.execute_input": "2024-04-08T18:58:12.955965Z",
     "iopub.status.busy": "2024-04-08T18:58:12.954979Z",
     "iopub.status.idle": "2024-04-08T18:58:13.090500Z",
     "shell.execute_reply": "2024-04-08T18:58:13.089835Z",
     "shell.execute_reply.started": "2024-04-08T18:43:51.166588Z"
    },
    "papermill": {
     "duration": 0.24656,
     "end_time": "2024-04-08T18:58:13.090720",
     "exception": false,
     "start_time": "2024-04-08T18:58:12.844160",
     "status": "completed"
    },
    "tags": []
   },
   "outputs": [],
   "source": [
    "data.drop('is_country_reviewer', axis=1, inplace=True)"
   ]
  },
  {
   "cell_type": "markdown",
   "id": "3a7c9dfa",
   "metadata": {
    "papermill": {
     "duration": 0.101467,
     "end_time": "2024-04-08T18:58:13.293612",
     "exception": false,
     "start_time": "2024-04-08T18:58:13.192145",
     "status": "completed"
    },
    "tags": []
   },
   "source": [
    "Создадим признаки анализа тональности положительных и отрицательных отзывов"
   ]
  },
  {
   "cell_type": "code",
   "execution_count": 33,
   "id": "88d36bce",
   "metadata": {
    "execution": {
     "iopub.execute_input": "2024-04-08T18:58:13.504286Z",
     "iopub.status.busy": "2024-04-08T18:58:13.503116Z",
     "iopub.status.idle": "2024-04-08T19:04:00.178426Z",
     "shell.execute_reply": "2024-04-08T19:04:00.179071Z",
     "shell.execute_reply.started": "2024-04-08T18:43:51.304149Z"
    },
    "papermill": {
     "duration": 346.783409,
     "end_time": "2024-04-08T19:04:00.179316",
     "exception": false,
     "start_time": "2024-04-08T18:58:13.395907",
     "status": "completed"
    },
    "tags": []
   },
   "outputs": [],
   "source": [
    "# Функция создания признаков для анализа настроений\n",
    "def review_analyzer(feature_list):\n",
    "    # Цикл по анализируемому списку признаков\n",
    "    for feature in feature_list:\n",
    "        hotel_review_list = data[feature].apply(\n",
    "            lambda x: x.replace('No Positive', 'Negative').replace('No Negative', 'Positive'))\n",
    "        \n",
    "        # Создаем инструмент для анализа и словарь числовых значений\n",
    "        sent_analyzer = SentimentIntensityAnalyzer()\n",
    "        dict_analysis = defaultdict(list)\n",
    "\n",
    "        # В цикле по строкам заполняем словарь\n",
    "        for row in hotel_review_list:\n",
    "            analysis_row = sent_analyzer.polarity_scores(row)\n",
    "    \n",
    "            for key in analysis_row:\n",
    "                dict_analysis[key].append(analysis_row[key])\n",
    "        \n",
    "        # Создаём 4 признака настроений\n",
    "        for key in dict_analysis:\n",
    "            data[feature + '_' + key] = pd.Series(dict_analysis[key])\n",
    "            \n",
    "# Вызовем функцию анализа для признаков с отзывами           \n",
    "review_analyzer(['negative_review', 'positive_review'])"
   ]
  },
  {
   "cell_type": "code",
   "execution_count": 34,
   "id": "d6dd6739",
   "metadata": {
    "execution": {
     "iopub.execute_input": "2024-04-08T19:04:00.389363Z",
     "iopub.status.busy": "2024-04-08T19:04:00.388558Z",
     "iopub.status.idle": "2024-04-08T19:04:16.967866Z",
     "shell.execute_reply": "2024-04-08T19:04:16.968710Z",
     "shell.execute_reply.started": "2024-04-08T18:48:35.386642Z"
    },
    "papermill": {
     "duration": 16.684718,
     "end_time": "2024-04-08T19:04:16.968995",
     "exception": false,
     "start_time": "2024-04-08T19:04:00.284277",
     "status": "completed"
    },
    "tags": []
   },
   "outputs": [
    {
     "data": {
      "image/png": "[encoded data removed]",
      "text/plain": [
       "<Figure size 1296x504 with 8 Axes>"
      ]
     },
     "metadata": {
      "needs_background": "light"
     },
     "output_type": "display_data"
    }
   ],
   "source": [
    "fig, axes = plt.subplots(2, 4, figsize=(18, 7))\n",
    "\n",
    "cols = ['negative_review_neg', 'negative_review_neu',\n",
    "        'negative_review_pos', 'negative_review_compound',\n",
    "        'positive_review_neg', 'positive_review_neu', \n",
    "        'positive_review_pos', 'positive_review_compound']\n",
    "\n",
    "for i in range(8):\n",
    "    sns.kdeplot(data[cols[i]], ax=axes[i//4][i%4], label=cols[i])\n",
    "    \n",
    "plt.suptitle('Распределение признаков для анализа настроений');"
   ]
  },
  {
   "cell_type": "markdown",
   "id": "6d4bed76",
   "metadata": {
    "papermill": {
     "duration": 0.106578,
     "end_time": "2024-04-08T19:04:17.185201",
     "exception": false,
     "start_time": "2024-04-08T19:04:17.078623",
     "status": "completed"
    },
    "tags": []
   },
   "source": [
    "Как можно судить по графикам, данные распределены ненормально. У большинства графиков пики распределения находятся в крайних значений - 0 и 1. Выделяются графики compound, там присутствуют пики около значений 0.5 и - 0.5."
   ]
  },
  {
   "cell_type": "markdown",
   "id": "7634b58e",
   "metadata": {
    "papermill": {
     "duration": 0.107484,
     "end_time": "2024-04-08T19:04:17.401813",
     "exception": false,
     "start_time": "2024-04-08T19:04:17.294329",
     "status": "completed"
    },
    "tags": []
   },
   "source": [
    "Создадим признак количества тегов в отзыве"
   ]
  },
  {
   "cell_type": "code",
   "execution_count": 35,
   "id": "0c4eba64",
   "metadata": {
    "execution": {
     "iopub.execute_input": "2024-04-08T19:04:17.625077Z",
     "iopub.status.busy": "2024-04-08T19:04:17.624112Z",
     "iopub.status.idle": "2024-04-08T19:04:18.217122Z",
     "shell.execute_reply": "2024-04-08T19:04:18.216267Z",
     "shell.execute_reply.started": "2024-04-08T18:48:51.786702Z"
    },
    "papermill": {
     "duration": 0.704735,
     "end_time": "2024-04-08T19:04:18.217290",
     "exception": false,
     "start_time": "2024-04-08T19:04:17.512555",
     "status": "completed"
    },
    "tags": []
   },
   "outputs": [],
   "source": [
    "data['count_tags'] = data['tags'].apply(lambda x: len(x.split(',')))"
   ]
  },
  {
   "cell_type": "code",
   "execution_count": 36,
   "id": "b7872319",
   "metadata": {
    "execution": {
     "iopub.execute_input": "2024-04-08T19:04:18.437105Z",
     "iopub.status.busy": "2024-04-08T19:04:18.436223Z",
     "iopub.status.idle": "2024-04-08T19:04:18.849936Z",
     "shell.execute_reply": "2024-04-08T19:04:18.849131Z",
     "shell.execute_reply.started": "2024-04-08T18:48:52.215434Z"
    },
    "papermill": {
     "duration": 0.527116,
     "end_time": "2024-04-08T19:04:18.850120",
     "exception": false,
     "start_time": "2024-04-08T19:04:18.323004",
     "status": "completed"
    },
    "tags": []
   },
   "outputs": [
    {
     "data": {
      "image/png": "[encoded data removed]",
      "text/plain": [
       "<Figure size 792x288 with 2 Axes>"
      ]
     },
     "metadata": {
      "needs_background": "light"
     },
     "output_type": "display_data"
    }
   ],
   "source": [
    "df = data.groupby('count_tags')['reviewer_score'].agg(['count', 'median']).\\\n",
    "    reset_index('count_tags')\n",
    "visualization(df, 'count_tags', 'Распределение числа тегов в отзыве\\n ', 0)"
   ]
  },
  {
   "cell_type": "markdown",
   "id": "9a662528",
   "metadata": {
    "papermill": {
     "duration": 0.106741,
     "end_time": "2024-04-08T19:04:19.063906",
     "exception": false,
     "start_time": "2024-04-08T19:04:18.957165",
     "status": "completed"
    },
    "tags": []
   },
   "source": [
    "Как видно из графиков рейтинг растёт с увеличением числа тегов, но после трех тегов перестаёт расти. Максимальное количество записей у отзывов с 5 тегами."
   ]
  },
  {
   "cell_type": "markdown",
   "id": "88832571",
   "metadata": {
    "papermill": {
     "duration": 0.107074,
     "end_time": "2024-04-08T19:04:19.276964",
     "exception": false,
     "start_time": "2024-04-08T19:04:19.169890",
     "status": "completed"
    },
    "tags": []
   },
   "source": [
    "Создадим признак наличия самого популярного тега"
   ]
  },
  {
   "cell_type": "code",
   "execution_count": 37,
   "id": "d8ad0ff8",
   "metadata": {
    "execution": {
     "iopub.execute_input": "2024-04-08T19:04:19.771996Z",
     "iopub.status.busy": "2024-04-08T19:04:19.771117Z",
     "iopub.status.idle": "2024-04-08T19:04:21.757739Z",
     "shell.execute_reply": "2024-04-08T19:04:21.758344Z",
     "shell.execute_reply.started": "2024-04-08T18:48:52.595504Z"
    },
    "papermill": {
     "duration": 2.374056,
     "end_time": "2024-04-08T19:04:21.758574",
     "exception": false,
     "start_time": "2024-04-08T19:04:19.384518",
     "status": "completed"
    },
    "tags": []
   },
   "outputs": [],
   "source": [
    "tags_string =', '.join(list(data['tags']))\n",
    "tags_string = tags_string.replace('[', '').replace(']', '').replace('\\'', '')\n",
    "tags_list = tags_string.split(', ')\n",
    "tag = pd.Series(tags_list).mode()[0]\n",
    "\n",
    "data['tag_mode'] = data['tags'].apply(\n",
    "    lambda x: 1 if x.find(tag.strip()) >= 0 else 0)"
   ]
  },
  {
   "cell_type": "code",
   "execution_count": 38,
   "id": "c9cc072b",
   "metadata": {
    "execution": {
     "iopub.execute_input": "2024-04-08T19:04:21.979956Z",
     "iopub.status.busy": "2024-04-08T19:04:21.979156Z",
     "iopub.status.idle": "2024-04-08T19:04:22.410271Z",
     "shell.execute_reply": "2024-04-08T19:04:22.409562Z",
     "shell.execute_reply.started": "2024-04-08T18:48:54.272790Z"
    },
    "papermill": {
     "duration": 0.543548,
     "end_time": "2024-04-08T19:04:22.410440",
     "exception": false,
     "start_time": "2024-04-08T19:04:21.866892",
     "status": "completed"
    },
    "tags": []
   },
   "outputs": [
    {
     "data": {
      "image/png": "[encoded data removed]",
      "text/plain": [
       "<Figure size 792x288 with 2 Axes>"
      ]
     },
     "metadata": {
      "needs_background": "light"
     },
     "output_type": "display_data"
    }
   ],
   "source": [
    "df = data.groupby('tag_mode')['reviewer_score'].agg(['count', 'median']).\\\n",
    "    reset_index('tag_mode')\n",
    "visualization(df, 'tag_mode', 'Зависимость от наличия самого \\n популярного тега ', 0)"
   ]
  },
  {
   "cell_type": "markdown",
   "id": "ceeaac81",
   "metadata": {
    "papermill": {
     "duration": 0.108103,
     "end_time": "2024-04-08T19:04:22.626898",
     "exception": false,
     "start_time": "2024-04-08T19:04:22.518795",
     "status": "completed"
    },
    "tags": []
   },
   "source": [
    "На первый взгляд можно сказать, что наличие ключевого тега положительно сказывается на оценке отеля. С другой стороны данный тег содержится в большинстве отзывов."
   ]
  },
  {
   "cell_type": "markdown",
   "id": "bcbb9d71",
   "metadata": {
    "papermill": {
     "duration": 0.110107,
     "end_time": "2024-04-08T19:04:22.844989",
     "exception": false,
     "start_time": "2024-04-08T19:04:22.734882",
     "status": "completed"
    },
    "tags": []
   },
   "source": [
    "Создадим признак количества ночей, проведенных в отеле"
   ]
  },
  {
   "cell_type": "code",
   "execution_count": 39,
   "id": "0d2fff30",
   "metadata": {
    "execution": {
     "iopub.execute_input": "2024-04-08T19:04:23.125860Z",
     "iopub.status.busy": "2024-04-08T19:04:23.125016Z",
     "iopub.status.idle": "2024-04-08T19:04:32.045732Z",
     "shell.execute_reply": "2024-04-08T19:04:32.044982Z",
     "shell.execute_reply.started": "2024-04-08T18:48:54.671529Z"
    },
    "papermill": {
     "duration": 9.093232,
     "end_time": "2024-04-08T19:04:32.045899",
     "exception": false,
     "start_time": "2024-04-08T19:04:22.952667",
     "status": "completed"
    },
    "tags": []
   },
   "outputs": [],
   "source": [
    "data['count_nights'] = data['tags'].str.findall('(\\d*)\\snight').str.get(0)\n",
    "# пропущенные значения заменим на 1\n",
    "data['count_nights'] = data['count_nights'].replace('', 1).replace(np.NaN, 1)\n",
    "data['count_nights'] = data['count_nights'].astype('int64')"
   ]
  },
  {
   "cell_type": "code",
   "execution_count": 40,
   "id": "a9ac8cbf",
   "metadata": {
    "execution": {
     "iopub.execute_input": "2024-04-08T19:04:32.270298Z",
     "iopub.status.busy": "2024-04-08T19:04:32.269461Z",
     "iopub.status.idle": "2024-04-08T19:04:33.142902Z",
     "shell.execute_reply": "2024-04-08T19:04:33.143443Z",
     "shell.execute_reply.started": "2024-04-08T18:48:58.699375Z"
    },
    "papermill": {
     "duration": 0.988122,
     "end_time": "2024-04-08T19:04:33.143644",
     "exception": false,
     "start_time": "2024-04-08T19:04:32.155522",
     "status": "completed"
    },
    "tags": []
   },
   "outputs": [
    {
     "data": {
      "image/png": "[encoded data removed]",
      "text/plain": [
       "<Figure size 792x288 with 2 Axes>"
      ]
     },
     "metadata": {
      "needs_background": "light"
     },
     "output_type": "display_data"
    }
   ],
   "source": [
    "df = data.groupby('count_nights')['reviewer_score'].agg(['count', 'median']).\\\n",
    "    reset_index('count_nights')\n",
    "visualization(df, 'count_nights', 'Распределение числа ночей в отеле\\n', 90)"
   ]
  },
  {
   "cell_type": "markdown",
   "id": "02ee94e5",
   "metadata": {
    "papermill": {
     "duration": 0.111026,
     "end_time": "2024-04-08T19:04:33.364418",
     "exception": false,
     "start_time": "2024-04-08T19:04:33.253392",
     "status": "completed"
    },
    "tags": []
   },
   "source": [
    "С увеличением числа ночей, проведенных в отделе, уменьшается количества соответсвтвующих записией. Также видно, что после 9 ночей медиана рейтинга начинается отличаться."
   ]
  },
  {
   "cell_type": "markdown",
   "id": "b98597c5",
   "metadata": {
    "papermill": {
     "duration": 0.107662,
     "end_time": "2024-04-08T19:04:33.585131",
     "exception": false,
     "start_time": "2024-04-08T19:04:33.477469",
     "status": "completed"
    },
    "tags": []
   },
   "source": [
    "### Преобразование признаков"
   ]
  },
  {
   "cell_type": "markdown",
   "id": "c298be84",
   "metadata": {
    "papermill": {
     "duration": 0.109476,
     "end_time": "2024-04-08T19:04:33.802874",
     "exception": false,
     "start_time": "2024-04-08T19:04:33.693398",
     "status": "completed"
    },
    "tags": []
   },
   "source": [
    "#### Кодирование признаков"
   ]
  },
  {
   "cell_type": "code",
   "execution_count": 41,
   "id": "77efe9d6",
   "metadata": {
    "execution": {
     "iopub.execute_input": "2024-04-08T19:04:34.028345Z",
     "iopub.status.busy": "2024-04-08T19:04:34.027495Z",
     "iopub.status.idle": "2024-04-08T19:04:34.504618Z",
     "shell.execute_reply": "2024-04-08T19:04:34.503954Z",
     "shell.execute_reply.started": "2024-04-08T18:48:59.461738Z"
    },
    "papermill": {
     "duration": 0.589881,
     "end_time": "2024-04-08T19:04:34.504807",
     "exception": false,
     "start_time": "2024-04-08T19:04:33.914926",
     "status": "completed"
    },
    "tags": []
   },
   "outputs": [],
   "source": [
    "# Закодируем признаки страны отеля и квартала, в котором был написан отзыв\n",
    "categorical_columns_names = ['hotel_country', 'review_quarter']\n",
    "data = pd.get_dummies(data, columns = categorical_columns_names, dtype=int)"
   ]
  },
  {
   "cell_type": "markdown",
   "id": "8a6738e2",
   "metadata": {
    "papermill": {
     "duration": 0.108107,
     "end_time": "2024-04-08T19:04:34.723053",
     "exception": false,
     "start_time": "2024-04-08T19:04:34.614946",
     "status": "completed"
    },
    "tags": []
   },
   "source": [
    "#### Нормализация признаков"
   ]
  },
  {
   "cell_type": "code",
   "execution_count": 42,
   "id": "917dc51d",
   "metadata": {
    "execution": {
     "iopub.execute_input": "2024-04-08T19:04:34.946050Z",
     "iopub.status.busy": "2024-04-08T19:04:34.945152Z",
     "iopub.status.idle": "2024-04-08T19:04:36.087211Z",
     "shell.execute_reply": "2024-04-08T19:04:36.086511Z",
     "shell.execute_reply.started": "2024-04-08T18:48:59.878247Z"
    },
    "papermill": {
     "duration": 1.255221,
     "end_time": "2024-04-08T19:04:36.087385",
     "exception": false,
     "start_time": "2024-04-08T19:04:34.832164",
     "status": "completed"
    },
    "tags": []
   },
   "outputs": [],
   "source": [
    "# Нормализуем признаки с выбросами при помощи RobustScaler\n",
    "r_scaler = preprocessing.RobustScaler()\n",
    "r_columns = ['lat', 'lng', 'additional_number_of_scoring', 'average_score',\n",
    "             'review_total_negative_word_counts', 'total_number_of_reviews',\n",
    "             'review_total_positive_word_counts',\n",
    "             'total_number_of_reviews_reviewer_has_given',\n",
    "             'count_tags', 'count_nights']\n",
    "\n",
    "df_r = r_scaler.fit_transform(data[r_columns])\n",
    "df_r = pd.DataFrame(df_r, columns=r_columns)\n",
    "\n",
    "data = pd.concat([data, df_r], axis=1)\n",
    "\n",
    "# Нормализуем признак без выбросов при помощи MinMaxScaler\n",
    "mm_scaler = preprocessing.MinMaxScaler()\n",
    "mm_columns = ['days_since_review', 'hotel_country_Austria',\n",
    "              'hotel_country_France', 'hotel_country_Italy',\n",
    "              'hotel_country_Netherlands', 'hotel_country_Spain',\n",
    "              'hotel_country_United Kingdom', 'review_quarter_1', 'review_quarter_2',\n",
    "              'review_quarter_3', 'review_quarter_4']\n",
    "\n",
    "df_mm = mm_scaler.fit_transform(data[mm_columns])\n",
    "df_mm = pd.DataFrame(df_mm, columns=mm_columns)\n",
    "\n",
    "data = pd.concat([data, df_mm], axis=1)"
   ]
  },
  {
   "cell_type": "markdown",
   "id": "3f7a35cf",
   "metadata": {
    "papermill": {
     "duration": 0.111062,
     "end_time": "2024-04-08T19:04:36.308291",
     "exception": false,
     "start_time": "2024-04-08T19:04:36.197229",
     "status": "completed"
    },
    "tags": []
   },
   "source": [
    "Удалим лишние признаки"
   ]
  },
  {
   "cell_type": "code",
   "execution_count": 43,
   "id": "4a908931",
   "metadata": {
    "execution": {
     "iopub.execute_input": "2024-04-08T19:04:36.535511Z",
     "iopub.status.busy": "2024-04-08T19:04:36.533808Z",
     "iopub.status.idle": "2024-04-08T19:04:36.949634Z",
     "shell.execute_reply": "2024-04-08T19:04:36.948985Z",
     "shell.execute_reply.started": "2024-04-08T18:49:00.969222Z"
    },
    "papermill": {
     "duration": 0.531562,
     "end_time": "2024-04-08T19:04:36.949839",
     "exception": false,
     "start_time": "2024-04-08T19:04:36.418277",
     "status": "completed"
    },
    "tags": []
   },
   "outputs": [],
   "source": [
    "object_columns = data.select_dtypes('object').columns\n",
    "data.drop(object_columns, axis = 1, inplace=True)"
   ]
  },
  {
   "cell_type": "code",
   "execution_count": 44,
   "id": "eefc0210",
   "metadata": {
    "execution": {
     "iopub.execute_input": "2024-04-08T19:04:37.174706Z",
     "iopub.status.busy": "2024-04-08T19:04:37.173900Z",
     "iopub.status.idle": "2024-04-08T19:04:37.229021Z",
     "shell.execute_reply": "2024-04-08T19:04:37.229760Z",
     "shell.execute_reply.started": "2024-04-08T18:49:01.391262Z"
    },
    "papermill": {
     "duration": 0.169025,
     "end_time": "2024-04-08T19:04:37.230025",
     "exception": false,
     "start_time": "2024-04-08T19:04:37.061000",
     "status": "completed"
    },
    "tags": []
   },
   "outputs": [],
   "source": [
    "# Переименуем признаки с одинаковым названием\n",
    "data.columns = ['additional_number_of_scoring_old', 'average_score_old',\n",
    "                'review_total_negative_word_counts_old', 'total_number_of_reviews_old',\n",
    "                'review_total_positive_word_counts_old',\n",
    "                'total_number_of_reviews_reviewer_has_given_old', 'days_since_review_old',\n",
    "                'lat_old', 'lng_old', 'sample', 'reviewer_score', 'negative_review_neg',\n",
    "                'negative_review_neu', 'negative_review_pos',\n",
    "                'negative_review_compound', 'positive_review_neg',\n",
    "                'positive_review_neu', 'positive_review_pos',\n",
    "                'positive_review_compound', 'count_tags_old', 'tag_mode', 'count_nights_old',\n",
    "                'hotel_country_Austria_old', 'hotel_country_France_old', 'hotel_country_Italy_old',\n",
    "                'hotel_country_Netherlands_old', 'hotel_country_Spain_old',\n",
    "                'hotel_country_United Kingdom_old', 'review_quarter_1_old', 'review_quarter_2_old',\n",
    "                'review_quarter_3_old', 'review_quarter_4_old', 'lat', 'lng',\n",
    "                'additional_number_of_scoring', 'average_score',\n",
    "                'review_total_negative_word_counts', 'total_number_of_reviews',\n",
    "                'review_total_positive_word_counts',\n",
    "                'total_number_of_reviews_reviewer_has_given', 'count_tags',\n",
    "                'count_nights', 'days_since_review', 'hotel_country_Austria',\n",
    "                'hotel_country_France', 'hotel_country_Italy',\n",
    "                'hotel_country_Netherlands', 'hotel_country_Spain',\n",
    "                'hotel_country_United Kingdom', 'review_quarter_1', 'review_quarter_2',\n",
    "                'review_quarter_3', 'review_quarter_4']\n",
    "\n",
    "# Удаляем лишние признаки\n",
    "cols = list(filter(lambda x: x[-4:] == '_old', data.columns))\n",
    "data.drop(cols, axis=1, inplace=True)"
   ]
  },
  {
   "cell_type": "markdown",
   "id": "67b43cb5",
   "metadata": {
    "papermill": {
     "duration": 0.108679,
     "end_time": "2024-04-08T19:04:37.448354",
     "exception": false,
     "start_time": "2024-04-08T19:04:37.339675",
     "status": "completed"
    },
    "tags": []
   },
   "source": [
    "### Отбор признаков\n",
    "\n",
    "#### Корреляционный анализ"
   ]
  },
  {
   "cell_type": "code",
   "execution_count": 45,
   "id": "12f003f9",
   "metadata": {
    "execution": {
     "iopub.execute_input": "2024-04-08T19:04:37.732830Z",
     "iopub.status.busy": "2024-04-08T19:04:37.669273Z",
     "iopub.status.idle": "2024-04-08T19:04:40.539400Z",
     "shell.execute_reply": "2024-04-08T19:04:40.539996Z",
     "shell.execute_reply.started": "2024-04-08T18:49:01.453090Z"
    },
    "papermill": {
     "duration": 2.982166,
     "end_time": "2024-04-08T19:04:40.540185",
     "exception": false,
     "start_time": "2024-04-08T19:04:37.558019",
     "status": "completed"
    },
    "tags": []
   },
   "outputs": [
    {
     "data": {
      "image/png": "[encoded data removed]",
      "text/plain": [
       "<Figure size 1440x1440 with 2 Axes>"
      ]
     },
     "metadata": {
      "needs_background": "light"
     },
     "output_type": "display_data"
    }
   ],
   "source": [
    "# Тепловая карта признаков с сильной корреляцией\n",
    "data_corr = data.drop(['sample', 'reviewer_score'], axis=1)\n",
    "\n",
    "fig, (ax1) = plt.subplots(ncols=1, figsize=(20, 20))\n",
    "corr = data_corr.corr()\n",
    "corr_strong = corr[abs(corr) >= 0.7]\n",
    "sns.heatmap(corr_strong,  linewidths=0.5, linecolor='black', annot=True);"
   ]
  },
  {
   "cell_type": "markdown",
   "id": "d5cbf579",
   "metadata": {
    "papermill": {
     "duration": 0.112526,
     "end_time": "2024-04-08T19:04:40.765523",
     "exception": false,
     "start_time": "2024-04-08T19:04:40.652997",
     "status": "completed"
    },
    "tags": []
   },
   "source": [
    "Корреляционный анализ показал 4 пары признаков с сильной корреляцией:\n",
    "\n",
    "- negative_review_pos и negative_review_neu;\n",
    "- total_number_of_reviews и additional_number_of_scoring;\n",
    "- hotel_country_Austria и lng;\n",
    "- hotel_country_Spain и lat.\n",
    "\n",
    "Оценим значимость каждого признака и оставим самые информативные."
   ]
  },
  {
   "cell_type": "markdown",
   "id": "096f038d",
   "metadata": {
    "papermill": {
     "duration": 0.116649,
     "end_time": "2024-04-08T19:04:40.996936",
     "exception": false,
     "start_time": "2024-04-08T19:04:40.880287",
     "status": "completed"
    },
    "tags": []
   },
   "source": [
    "#### Оценка значимости каждого признака в определении рейтинга отеля"
   ]
  },
  {
   "cell_type": "code",
   "execution_count": 46,
   "id": "f41eb04b",
   "metadata": {
    "execution": {
     "iopub.execute_input": "2024-04-08T19:04:41.227458Z",
     "iopub.status.busy": "2024-04-08T19:04:41.226641Z",
     "iopub.status.idle": "2024-04-08T19:04:41.239871Z",
     "shell.execute_reply": "2024-04-08T19:04:41.240500Z",
     "shell.execute_reply.started": "2024-04-08T18:49:04.254503Z"
    },
    "papermill": {
     "duration": 0.130296,
     "end_time": "2024-04-08T19:04:41.240717",
     "exception": false,
     "start_time": "2024-04-08T19:04:41.110421",
     "status": "completed"
    },
    "tags": []
   },
   "outputs": [],
   "source": [
    "# Возьмём абсолютное значение широты и долготы\n",
    "data['lat'] = abs(data['lat'])\n",
    "data['lng'] = abs(data['lng'])\n",
    "\n",
    "# Непрерывные признаки\n",
    "num_cols = ['negative_review_neg', 'negative_review_neu', 'negative_review_pos',\n",
    "            'negative_review_compound', 'positive_review_neg', 'positive_review_neu', \n",
    "            'positive_review_pos', 'positive_review_compound', 'lat', 'lng',\n",
    "            'additional_number_of_scoring', 'average_score',\n",
    "            'review_total_negative_word_counts', 'total_number_of_reviews',\n",
    "            'review_total_positive_word_counts',\n",
    "            'total_number_of_reviews_reviewer_has_given', 'count_tags',\n",
    "            'count_nights', 'days_since_review']\n",
    "\n",
    "# Категориальные признаки\n",
    "cat_cols = ['tag_mode', 'hotel_country_Austria',\n",
    "            'hotel_country_France', 'hotel_country_Italy',\n",
    "            'hotel_country_Netherlands', 'hotel_country_Spain',\n",
    "            'hotel_country_United Kingdom', 'review_quarter_1', 'review_quarter_2',\n",
    "            'review_quarter_3', 'review_quarter_4']"
   ]
  },
  {
   "cell_type": "code",
   "execution_count": 47,
   "id": "6f7c4c50",
   "metadata": {
    "execution": {
     "iopub.execute_input": "2024-04-08T19:04:41.476154Z",
     "iopub.status.busy": "2024-04-08T19:04:41.472410Z",
     "iopub.status.idle": "2024-04-08T19:04:41.659265Z",
     "shell.execute_reply": "2024-04-08T19:04:41.658561Z",
     "shell.execute_reply.started": "2024-04-08T18:49:04.269592Z"
    },
    "papermill": {
     "duration": 0.304054,
     "end_time": "2024-04-08T19:04:41.659463",
     "exception": false,
     "start_time": "2024-04-08T19:04:41.355409",
     "status": "completed"
    },
    "tags": []
   },
   "outputs": [],
   "source": [
    "# Теперь выделим тестовую часть\n",
    "train_data = data.query('sample == 1').drop(['sample'], axis=1)\n",
    "test_data = data.query('sample == 0').drop(['sample'], axis=1)\n",
    "\n",
    "y = train_data.reviewer_score.values            # наш таргет\n",
    "X = train_data.drop(['reviewer_score'], axis=1)"
   ]
  },
  {
   "cell_type": "code",
   "execution_count": 48,
   "id": "23c6355e",
   "metadata": {
    "execution": {
     "iopub.execute_input": "2024-04-08T19:04:41.896066Z",
     "iopub.status.busy": "2024-04-08T19:04:41.895009Z",
     "iopub.status.idle": "2024-04-08T19:04:42.428133Z",
     "shell.execute_reply": "2024-04-08T19:04:42.427350Z",
     "shell.execute_reply.started": "2024-04-08T18:49:04.449638Z"
    },
    "papermill": {
     "duration": 0.654306,
     "end_time": "2024-04-08T19:04:42.428296",
     "exception": false,
     "start_time": "2024-04-08T19:04:41.773990",
     "status": "completed"
    },
    "tags": []
   },
   "outputs": [
    {
     "data": {
      "image/png": "[encoded data removed]",
      "text/plain": [
       "<Figure size 432x288 with 1 Axes>"
      ]
     },
     "metadata": {
      "needs_background": "light"
     },
     "output_type": "display_data"
    }
   ],
   "source": [
    "# Для оценки значимости категориальных переменных используем тест хи-квадрат\n",
    "score = y.astype('int')\n",
    "\n",
    "from sklearn.feature_selection import chi2\n",
    "\n",
    "imp_cat = pd.Series(chi2(X[cat_cols], score)[0], index=cat_cols)\n",
    "imp_cat.sort_values(inplace=True)\n",
    "imp_cat.plot(kind='barh');"
   ]
  },
  {
   "cell_type": "code",
   "execution_count": 49,
   "id": "f31e84b0",
   "metadata": {
    "execution": {
     "iopub.execute_input": "2024-04-08T19:04:42.696788Z",
     "iopub.status.busy": "2024-04-08T19:04:42.694106Z",
     "iopub.status.idle": "2024-04-08T19:04:43.183767Z",
     "shell.execute_reply": "2024-04-08T19:04:43.182989Z",
     "shell.execute_reply.started": "2024-04-08T18:49:04.931815Z"
    },
    "papermill": {
     "duration": 0.63895,
     "end_time": "2024-04-08T19:04:43.183928",
     "exception": false,
     "start_time": "2024-04-08T19:04:42.544978",
     "status": "completed"
    },
    "tags": []
   },
   "outputs": [
    {
     "data": {
      "image/png": "[encoded data removed]",
      "text/plain": [
       "<Figure size 432x288 with 1 Axes>"
      ]
     },
     "metadata": {
      "needs_background": "light"
     },
     "output_type": "display_data"
    }
   ],
   "source": [
    "# Для оценки непрерывных переменных используем анализ ANOVA\n",
    "from sklearn.feature_selection import f_classif\n",
    "\n",
    "imp_num = pd.Series(f_classif(X[num_cols], score)[0], index=num_cols)\n",
    "imp_num.sort_values(inplace=True)\n",
    "imp_num.plot(kind='barh');"
   ]
  },
  {
   "cell_type": "markdown",
   "id": "7ecb2b17",
   "metadata": {
    "papermill": {
     "duration": 0.115406,
     "end_time": "2024-04-08T19:04:43.413769",
     "exception": false,
     "start_time": "2024-04-08T19:04:43.298363",
     "status": "completed"
    },
    "tags": []
   },
   "source": [
    "На основании корреляционного анализа и оценки значимости удалим менее значимые признаки."
   ]
  },
  {
   "cell_type": "code",
   "execution_count": 50,
   "id": "3554ce0a",
   "metadata": {
    "execution": {
     "iopub.execute_input": "2024-04-08T19:04:43.713476Z",
     "iopub.status.busy": "2024-04-08T19:04:43.710508Z",
     "iopub.status.idle": "2024-04-08T19:04:43.716837Z",
     "shell.execute_reply": "2024-04-08T19:04:43.716021Z",
     "shell.execute_reply.started": "2024-04-08T18:49:05.427306Z"
    },
    "papermill": {
     "duration": 0.188091,
     "end_time": "2024-04-08T19:04:43.717030",
     "exception": false,
     "start_time": "2024-04-08T19:04:43.528939",
     "status": "completed"
    },
    "tags": []
   },
   "outputs": [],
   "source": [
    "cols= ['negative_review_neu', 'positive_review_neu',\n",
    "       'lat', 'lng', 'additional_number_of_scoring',\n",
    "       'review_quarter_3', 'count_nights', 'days_since_review']\n",
    "\n",
    "train_data = train_data.drop(cols, axis=1)\n",
    "test_data = test_data.drop(cols, axis=1)\n",
    "\n",
    "X = X.drop(cols, axis=1)"
   ]
  },
  {
   "cell_type": "code",
   "execution_count": 51,
   "id": "e2faa339",
   "metadata": {
    "execution": {
     "iopub.execute_input": "2024-04-08T19:04:43.960531Z",
     "iopub.status.busy": "2024-04-08T19:04:43.959692Z",
     "iopub.status.idle": "2024-04-08T19:04:44.066364Z",
     "shell.execute_reply": "2024-04-08T19:04:44.065724Z",
     "shell.execute_reply.started": "2024-04-08T18:49:05.506778Z"
    },
    "papermill": {
     "duration": 0.231037,
     "end_time": "2024-04-08T19:04:44.066540",
     "exception": false,
     "start_time": "2024-04-08T19:04:43.835503",
     "status": "completed"
    },
    "tags": []
   },
   "outputs": [],
   "source": [
    "# Воспользуемся специальной функцие train_test_split для разбивки тестовых данных\n",
    "# выделим 20% данных на валидацию (параметр test_size)\n",
    "X_train, X_test, y_train, y_test = train_test_split(X, y, test_size=0.2, random_state=RANDOM_SEED)"
   ]
  },
  {
   "cell_type": "code",
   "execution_count": 52,
   "id": "a13e8efb",
   "metadata": {
    "execution": {
     "iopub.execute_input": "2024-04-08T19:04:44.322963Z",
     "iopub.status.busy": "2024-04-08T19:04:44.321606Z",
     "iopub.status.idle": "2024-04-08T19:04:44.329365Z",
     "shell.execute_reply": "2024-04-08T19:04:44.330229Z",
     "shell.execute_reply.started": "2024-04-08T18:49:05.630540Z"
    },
    "papermill": {
     "duration": 0.144106,
     "end_time": "2024-04-08T19:04:44.330505",
     "exception": false,
     "start_time": "2024-04-08T19:04:44.186399",
     "status": "completed"
    },
    "tags": []
   },
   "outputs": [
    {
     "data": {
      "text/plain": [
       "((128935, 23), (386803, 23), (386803, 22), (309442, 22), (77361, 22))"
      ]
     },
     "execution_count": 52,
     "metadata": {},
     "output_type": "execute_result"
    }
   ],
   "source": [
    "# проверяем\n",
    "test_data.shape, train_data.shape, X.shape, X_train.shape, X_test.shape"
   ]
  },
  {
   "cell_type": "code",
   "execution_count": 53,
   "id": "3a1c5b71",
   "metadata": {
    "execution": {
     "iopub.execute_input": "2024-04-08T19:04:44.571389Z",
     "iopub.status.busy": "2024-04-08T19:04:44.570556Z",
     "iopub.status.idle": "2024-04-08T19:04:44.574440Z",
     "shell.execute_reply": "2024-04-08T19:04:44.575155Z",
     "shell.execute_reply.started": "2024-04-08T18:49:05.640340Z"
    },
    "papermill": {
     "duration": 0.124539,
     "end_time": "2024-04-08T19:04:44.575359",
     "exception": false,
     "start_time": "2024-04-08T19:04:44.450820",
     "status": "completed"
    },
    "tags": []
   },
   "outputs": [],
   "source": [
    "# Создаём модель (НАСТРОЙКИ НЕ ТРОГАЕМ)\n",
    "model = RandomForestRegressor(n_estimators=100, verbose=1, n_jobs=-1, random_state=RANDOM_SEED)"
   ]
  },
  {
   "cell_type": "code",
   "execution_count": 54,
   "id": "21c4cde7",
   "metadata": {
    "execution": {
     "iopub.execute_input": "2024-04-08T19:04:44.812305Z",
     "iopub.status.busy": "2024-04-08T19:04:44.811466Z",
     "iopub.status.idle": "2024-04-08T19:06:44.030309Z",
     "shell.execute_reply": "2024-04-08T19:06:44.030947Z",
     "shell.execute_reply.started": "2024-04-08T18:49:05.654551Z"
    },
    "papermill": {
     "duration": 119.339376,
     "end_time": "2024-04-08T19:06:44.031162",
     "exception": false,
     "start_time": "2024-04-08T19:04:44.691786",
     "status": "completed"
    },
    "tags": []
   },
   "outputs": [
    {
     "name": "stderr",
     "output_type": "stream",
     "text": [
      "[Parallel(n_jobs=-1)]: Using backend ThreadingBackend with 4 concurrent workers.\n",
      "[Parallel(n_jobs=-1)]: Done  42 tasks      | elapsed:   51.6s\n",
      "[Parallel(n_jobs=-1)]: Done 100 out of 100 | elapsed:  2.0min finished\n",
      "[Parallel(n_jobs=4)]: Using backend ThreadingBackend with 4 concurrent workers.\n",
      "[Parallel(n_jobs=4)]: Done  42 tasks      | elapsed:    0.8s\n",
      "[Parallel(n_jobs=4)]: Done 100 out of 100 | elapsed:    1.6s finished\n"
     ]
    }
   ],
   "source": [
    "# Обучаем модель на тестовом наборе данных\n",
    "model.fit(X_train, y_train)\n",
    "\n",
    "# Используем обученную модель для предсказания рейтинга ресторанов в тестовой выборке.\n",
    "# Предсказанные значения записываем в переменную y_pred\n",
    "y_pred = model.predict(X_test)"
   ]
  },
  {
   "cell_type": "code",
   "execution_count": 55,
   "id": "26f02ebc",
   "metadata": {
    "execution": {
     "iopub.execute_input": "2024-04-08T19:06:44.282776Z",
     "iopub.status.busy": "2024-04-08T19:06:44.281499Z",
     "iopub.status.idle": "2024-04-08T19:06:44.283830Z",
     "shell.execute_reply": "2024-04-08T19:06:44.284624Z",
     "shell.execute_reply.started": "2024-04-08T18:51:04.676875Z"
    },
    "papermill": {
     "duration": 0.131137,
     "end_time": "2024-04-08T19:06:44.284923",
     "exception": false,
     "start_time": "2024-04-08T19:06:44.153786",
     "status": "completed"
    },
    "tags": []
   },
   "outputs": [],
   "source": [
    "# Сравниваем предсказанные значения (y_pred) с реальными (y_test), и смотрим насколько они в среднем отличаются\n",
    "# Метрика называется Mean Absolute Error (MAE) и показывает среднее отклонение предсказанных значений от фактических.\n",
    "#print('MAPE:', metrics.mean_absolute_error(y_test, y_pred))"
   ]
  },
  {
   "cell_type": "code",
   "execution_count": 56,
   "id": "0896075d",
   "metadata": {
    "execution": {
     "iopub.execute_input": "2024-04-08T19:06:44.544096Z",
     "iopub.status.busy": "2024-04-08T19:06:44.542874Z",
     "iopub.status.idle": "2024-04-08T19:06:44.552124Z",
     "shell.execute_reply": "2024-04-08T19:06:44.551116Z",
     "shell.execute_reply.started": "2024-04-08T18:51:04.683418Z"
    },
    "papermill": {
     "duration": 0.132088,
     "end_time": "2024-04-08T19:06:44.552303",
     "exception": false,
     "start_time": "2024-04-08T19:06:44.420215",
     "status": "completed"
    },
    "tags": []
   },
   "outputs": [
    {
     "name": "stdout",
     "output_type": "stream",
     "text": [
      "MAPE: 12.601665693701236\n"
     ]
    }
   ],
   "source": [
    "# Сравниваем предсказанные значения (y_pred) с реальными (y_test), и смотрим насколько они отличаются  \n",
    "# Метрика называется Mean Absolute Percentage Error (MAPE) и показывает среднюю абсолютную процентную ошибку предсказанных значений от фактических.  \n",
    "\n",
    "# Функция для вычисления MAPE\n",
    "def mape_func(Y_actual,Y_Predicted):\n",
    "    mape = np.mean(np.abs((Y_actual - Y_Predicted)/Y_actual))*100\n",
    "    return mape\n",
    "\n",
    "print('MAPE:', mape_func(y_test, y_pred))"
   ]
  },
  {
   "cell_type": "code",
   "execution_count": 57,
   "id": "e3804388",
   "metadata": {
    "execution": {
     "iopub.execute_input": "2024-04-08T19:06:44.799555Z",
     "iopub.status.busy": "2024-04-08T19:06:44.798380Z",
     "iopub.status.idle": "2024-04-08T19:06:45.383625Z",
     "shell.execute_reply": "2024-04-08T19:06:45.384279Z",
     "shell.execute_reply.started": "2024-04-08T18:51:04.703965Z"
    },
    "papermill": {
     "duration": 0.712779,
     "end_time": "2024-04-08T19:06:45.384472",
     "exception": false,
     "start_time": "2024-04-08T19:06:44.671693",
     "status": "completed"
    },
    "tags": []
   },
   "outputs": [
    {
     "data": {
      "text/plain": [
       "<AxesSubplot:>"
      ]
     },
     "execution_count": 57,
     "metadata": {},
     "output_type": "execute_result"
    },
    {
     "data": {
      "image/png": "[encoded data removed]",
      "text/plain": [
       "<Figure size 720x720 with 1 Axes>"
      ]
     },
     "metadata": {
      "needs_background": "light"
     },
     "output_type": "display_data"
    }
   ],
   "source": [
    "# в RandomForestRegressor есть возможность вывести самые важные признаки для модели\n",
    "plt.rcParams['figure.figsize'] = (10,10)\n",
    "feat_importances = pd.Series(model.feature_importances_, index=X.columns)\n",
    "feat_importances.nlargest(15).plot(kind='barh')"
   ]
  },
  {
   "cell_type": "code",
   "execution_count": 58,
   "id": "7e4f9167",
   "metadata": {
    "execution": {
     "iopub.execute_input": "2024-04-08T19:06:45.636044Z",
     "iopub.status.busy": "2024-04-08T19:06:45.635256Z",
     "iopub.status.idle": "2024-04-08T19:06:45.685271Z",
     "shell.execute_reply": "2024-04-08T19:06:45.684493Z",
     "shell.execute_reply.started": "2024-04-08T18:51:05.251032Z"
    },
    "papermill": {
     "duration": 0.177426,
     "end_time": "2024-04-08T19:06:45.685441",
     "exception": false,
     "start_time": "2024-04-08T19:06:45.508015",
     "status": "completed"
    },
    "tags": []
   },
   "outputs": [
    {
     "data": {
      "text/html": [
       "<div>\n",
       "<style scoped>\n",
       "    .dataframe tbody tr th:only-of-type {\n",
       "        vertical-align: middle;\n",
       "    }\n",
       "\n",
       "    .dataframe tbody tr th {\n",
       "        vertical-align: top;\n",
       "    }\n",
       "\n",
       "    .dataframe thead th {\n",
       "        text-align: right;\n",
       "    }\n",
       "</style>\n",
       "<table border=\"1\" class=\"dataframe\">\n",
       "  <thead>\n",
       "    <tr style=\"text-align: right;\">\n",
       "      <th></th>\n",
       "      <th>reviewer_score</th>\n",
       "      <th>negative_review_neg</th>\n",
       "      <th>negative_review_pos</th>\n",
       "      <th>negative_review_compound</th>\n",
       "      <th>positive_review_neg</th>\n",
       "      <th>positive_review_pos</th>\n",
       "      <th>positive_review_compound</th>\n",
       "      <th>tag_mode</th>\n",
       "      <th>average_score</th>\n",
       "      <th>review_total_negative_word_counts</th>\n",
       "      <th>...</th>\n",
       "      <th>count_tags</th>\n",
       "      <th>hotel_country_Austria</th>\n",
       "      <th>hotel_country_France</th>\n",
       "      <th>hotel_country_Italy</th>\n",
       "      <th>hotel_country_Netherlands</th>\n",
       "      <th>hotel_country_Spain</th>\n",
       "      <th>hotel_country_United Kingdom</th>\n",
       "      <th>review_quarter_1</th>\n",
       "      <th>review_quarter_2</th>\n",
       "      <th>review_quarter_4</th>\n",
       "    </tr>\n",
       "  </thead>\n",
       "  <tbody>\n",
       "    <tr>\n",
       "      <th>89465</th>\n",
       "      <td>0.0</td>\n",
       "      <td>0.000</td>\n",
       "      <td>0.000</td>\n",
       "      <td>0.0000</td>\n",
       "      <td>0.0</td>\n",
       "      <td>0.474</td>\n",
       "      <td>0.4019</td>\n",
       "      <td>0</td>\n",
       "      <td>0.857143</td>\n",
       "      <td>0.047619</td>\n",
       "      <td>...</td>\n",
       "      <td>-1.0</td>\n",
       "      <td>0.0</td>\n",
       "      <td>1.0</td>\n",
       "      <td>0.0</td>\n",
       "      <td>0.0</td>\n",
       "      <td>0.0</td>\n",
       "      <td>0.0</td>\n",
       "      <td>0.0</td>\n",
       "      <td>0.0</td>\n",
       "      <td>1.0</td>\n",
       "    </tr>\n",
       "    <tr>\n",
       "      <th>12824</th>\n",
       "      <td>0.0</td>\n",
       "      <td>0.151</td>\n",
       "      <td>0.028</td>\n",
       "      <td>-0.7717</td>\n",
       "      <td>0.0</td>\n",
       "      <td>0.558</td>\n",
       "      <td>0.9757</td>\n",
       "      <td>1</td>\n",
       "      <td>0.142857</td>\n",
       "      <td>2.904762</td>\n",
       "      <td>...</td>\n",
       "      <td>-1.0</td>\n",
       "      <td>0.0</td>\n",
       "      <td>0.0</td>\n",
       "      <td>0.0</td>\n",
       "      <td>0.0</td>\n",
       "      <td>0.0</td>\n",
       "      <td>1.0</td>\n",
       "      <td>0.0</td>\n",
       "      <td>0.0</td>\n",
       "      <td>1.0</td>\n",
       "    </tr>\n",
       "    <tr>\n",
       "      <th>47246</th>\n",
       "      <td>0.0</td>\n",
       "      <td>0.000</td>\n",
       "      <td>0.000</td>\n",
       "      <td>0.0000</td>\n",
       "      <td>0.0</td>\n",
       "      <td>0.800</td>\n",
       "      <td>0.9186</td>\n",
       "      <td>1</td>\n",
       "      <td>1.142857</td>\n",
       "      <td>-0.047619</td>\n",
       "      <td>...</td>\n",
       "      <td>0.0</td>\n",
       "      <td>0.0</td>\n",
       "      <td>0.0</td>\n",
       "      <td>0.0</td>\n",
       "      <td>0.0</td>\n",
       "      <td>0.0</td>\n",
       "      <td>1.0</td>\n",
       "      <td>0.0</td>\n",
       "      <td>0.0</td>\n",
       "      <td>1.0</td>\n",
       "    </tr>\n",
       "    <tr>\n",
       "      <th>105195</th>\n",
       "      <td>0.0</td>\n",
       "      <td>0.034</td>\n",
       "      <td>0.000</td>\n",
       "      <td>-0.1787</td>\n",
       "      <td>0.0</td>\n",
       "      <td>0.367</td>\n",
       "      <td>0.9732</td>\n",
       "      <td>1</td>\n",
       "      <td>-0.285714</td>\n",
       "      <td>2.142857</td>\n",
       "      <td>...</td>\n",
       "      <td>-1.0</td>\n",
       "      <td>0.0</td>\n",
       "      <td>0.0</td>\n",
       "      <td>0.0</td>\n",
       "      <td>0.0</td>\n",
       "      <td>1.0</td>\n",
       "      <td>0.0</td>\n",
       "      <td>0.0</td>\n",
       "      <td>1.0</td>\n",
       "      <td>0.0</td>\n",
       "    </tr>\n",
       "    <tr>\n",
       "      <th>34101</th>\n",
       "      <td>0.0</td>\n",
       "      <td>0.000</td>\n",
       "      <td>1.000</td>\n",
       "      <td>0.5574</td>\n",
       "      <td>0.0</td>\n",
       "      <td>0.502</td>\n",
       "      <td>0.7939</td>\n",
       "      <td>1</td>\n",
       "      <td>0.000000</td>\n",
       "      <td>-0.428571</td>\n",
       "      <td>...</td>\n",
       "      <td>0.0</td>\n",
       "      <td>0.0</td>\n",
       "      <td>0.0</td>\n",
       "      <td>1.0</td>\n",
       "      <td>0.0</td>\n",
       "      <td>0.0</td>\n",
       "      <td>0.0</td>\n",
       "      <td>0.0</td>\n",
       "      <td>0.0</td>\n",
       "      <td>0.0</td>\n",
       "    </tr>\n",
       "    <tr>\n",
       "      <th>15002</th>\n",
       "      <td>0.0</td>\n",
       "      <td>0.000</td>\n",
       "      <td>1.000</td>\n",
       "      <td>0.5574</td>\n",
       "      <td>0.0</td>\n",
       "      <td>0.199</td>\n",
       "      <td>0.8653</td>\n",
       "      <td>1</td>\n",
       "      <td>-1.571429</td>\n",
       "      <td>-0.428571</td>\n",
       "      <td>...</td>\n",
       "      <td>0.0</td>\n",
       "      <td>0.0</td>\n",
       "      <td>0.0</td>\n",
       "      <td>0.0</td>\n",
       "      <td>0.0</td>\n",
       "      <td>0.0</td>\n",
       "      <td>1.0</td>\n",
       "      <td>0.0</td>\n",
       "      <td>0.0</td>\n",
       "      <td>1.0</td>\n",
       "    </tr>\n",
       "    <tr>\n",
       "      <th>86077</th>\n",
       "      <td>0.0</td>\n",
       "      <td>0.000</td>\n",
       "      <td>1.000</td>\n",
       "      <td>0.5574</td>\n",
       "      <td>0.0</td>\n",
       "      <td>0.321</td>\n",
       "      <td>0.9705</td>\n",
       "      <td>0</td>\n",
       "      <td>0.285714</td>\n",
       "      <td>-0.428571</td>\n",
       "      <td>...</td>\n",
       "      <td>0.0</td>\n",
       "      <td>0.0</td>\n",
       "      <td>0.0</td>\n",
       "      <td>0.0</td>\n",
       "      <td>0.0</td>\n",
       "      <td>0.0</td>\n",
       "      <td>1.0</td>\n",
       "      <td>1.0</td>\n",
       "      <td>0.0</td>\n",
       "      <td>0.0</td>\n",
       "    </tr>\n",
       "    <tr>\n",
       "      <th>56445</th>\n",
       "      <td>0.0</td>\n",
       "      <td>0.184</td>\n",
       "      <td>0.000</td>\n",
       "      <td>-0.4466</td>\n",
       "      <td>0.0</td>\n",
       "      <td>0.387</td>\n",
       "      <td>0.8341</td>\n",
       "      <td>1</td>\n",
       "      <td>0.857143</td>\n",
       "      <td>0.523810</td>\n",
       "      <td>...</td>\n",
       "      <td>-1.0</td>\n",
       "      <td>0.0</td>\n",
       "      <td>0.0</td>\n",
       "      <td>0.0</td>\n",
       "      <td>0.0</td>\n",
       "      <td>0.0</td>\n",
       "      <td>1.0</td>\n",
       "      <td>0.0</td>\n",
       "      <td>0.0</td>\n",
       "      <td>0.0</td>\n",
       "    </tr>\n",
       "    <tr>\n",
       "      <th>32990</th>\n",
       "      <td>0.0</td>\n",
       "      <td>0.030</td>\n",
       "      <td>0.053</td>\n",
       "      <td>0.6966</td>\n",
       "      <td>0.0</td>\n",
       "      <td>0.292</td>\n",
       "      <td>0.9525</td>\n",
       "      <td>0</td>\n",
       "      <td>-0.285714</td>\n",
       "      <td>14.285714</td>\n",
       "      <td>...</td>\n",
       "      <td>-1.0</td>\n",
       "      <td>0.0</td>\n",
       "      <td>0.0</td>\n",
       "      <td>0.0</td>\n",
       "      <td>1.0</td>\n",
       "      <td>0.0</td>\n",
       "      <td>0.0</td>\n",
       "      <td>0.0</td>\n",
       "      <td>0.0</td>\n",
       "      <td>0.0</td>\n",
       "    </tr>\n",
       "    <tr>\n",
       "      <th>60570</th>\n",
       "      <td>0.0</td>\n",
       "      <td>0.149</td>\n",
       "      <td>0.062</td>\n",
       "      <td>-0.4789</td>\n",
       "      <td>0.0</td>\n",
       "      <td>0.348</td>\n",
       "      <td>0.9595</td>\n",
       "      <td>1</td>\n",
       "      <td>0.857143</td>\n",
       "      <td>1.714286</td>\n",
       "      <td>...</td>\n",
       "      <td>-1.0</td>\n",
       "      <td>0.0</td>\n",
       "      <td>0.0</td>\n",
       "      <td>0.0</td>\n",
       "      <td>0.0</td>\n",
       "      <td>0.0</td>\n",
       "      <td>1.0</td>\n",
       "      <td>0.0</td>\n",
       "      <td>1.0</td>\n",
       "      <td>0.0</td>\n",
       "    </tr>\n",
       "  </tbody>\n",
       "</table>\n",
       "<p>10 rows × 23 columns</p>\n",
       "</div>"
      ],
      "text/plain": [
       "        reviewer_score  negative_review_neg  negative_review_pos  \\\n",
       "89465              0.0                0.000                0.000   \n",
       "12824              0.0                0.151                0.028   \n",
       "47246              0.0                0.000                0.000   \n",
       "105195             0.0                0.034                0.000   \n",
       "34101              0.0                0.000                1.000   \n",
       "15002              0.0                0.000                1.000   \n",
       "86077              0.0                0.000                1.000   \n",
       "56445              0.0                0.184                0.000   \n",
       "32990              0.0                0.030                0.053   \n",
       "60570              0.0                0.149                0.062   \n",
       "\n",
       "        negative_review_compound  positive_review_neg  positive_review_pos  \\\n",
       "89465                     0.0000                  0.0                0.474   \n",
       "12824                    -0.7717                  0.0                0.558   \n",
       "47246                     0.0000                  0.0                0.800   \n",
       "105195                   -0.1787                  0.0                0.367   \n",
       "34101                     0.5574                  0.0                0.502   \n",
       "15002                     0.5574                  0.0                0.199   \n",
       "86077                     0.5574                  0.0                0.321   \n",
       "56445                    -0.4466                  0.0                0.387   \n",
       "32990                     0.6966                  0.0                0.292   \n",
       "60570                    -0.4789                  0.0                0.348   \n",
       "\n",
       "        positive_review_compound  tag_mode  average_score  \\\n",
       "89465                     0.4019         0       0.857143   \n",
       "12824                     0.9757         1       0.142857   \n",
       "47246                     0.9186         1       1.142857   \n",
       "105195                    0.9732         1      -0.285714   \n",
       "34101                     0.7939         1       0.000000   \n",
       "15002                     0.8653         1      -1.571429   \n",
       "86077                     0.9705         0       0.285714   \n",
       "56445                     0.8341         1       0.857143   \n",
       "32990                     0.9525         0      -0.285714   \n",
       "60570                     0.9595         1       0.857143   \n",
       "\n",
       "        review_total_negative_word_counts  ...  count_tags  \\\n",
       "89465                            0.047619  ...        -1.0   \n",
       "12824                            2.904762  ...        -1.0   \n",
       "47246                           -0.047619  ...         0.0   \n",
       "105195                           2.142857  ...        -1.0   \n",
       "34101                           -0.428571  ...         0.0   \n",
       "15002                           -0.428571  ...         0.0   \n",
       "86077                           -0.428571  ...         0.0   \n",
       "56445                            0.523810  ...        -1.0   \n",
       "32990                           14.285714  ...        -1.0   \n",
       "60570                            1.714286  ...        -1.0   \n",
       "\n",
       "        hotel_country_Austria  hotel_country_France  hotel_country_Italy  \\\n",
       "89465                     0.0                   1.0                  0.0   \n",
       "12824                     0.0                   0.0                  0.0   \n",
       "47246                     0.0                   0.0                  0.0   \n",
       "105195                    0.0                   0.0                  0.0   \n",
       "34101                     0.0                   0.0                  1.0   \n",
       "15002                     0.0                   0.0                  0.0   \n",
       "86077                     0.0                   0.0                  0.0   \n",
       "56445                     0.0                   0.0                  0.0   \n",
       "32990                     0.0                   0.0                  0.0   \n",
       "60570                     0.0                   0.0                  0.0   \n",
       "\n",
       "        hotel_country_Netherlands  hotel_country_Spain  \\\n",
       "89465                         0.0                  0.0   \n",
       "12824                         0.0                  0.0   \n",
       "47246                         0.0                  0.0   \n",
       "105195                        0.0                  1.0   \n",
       "34101                         0.0                  0.0   \n",
       "15002                         0.0                  0.0   \n",
       "86077                         0.0                  0.0   \n",
       "56445                         0.0                  0.0   \n",
       "32990                         1.0                  0.0   \n",
       "60570                         0.0                  0.0   \n",
       "\n",
       "        hotel_country_United Kingdom  review_quarter_1  review_quarter_2  \\\n",
       "89465                            0.0               0.0               0.0   \n",
       "12824                            1.0               0.0               0.0   \n",
       "47246                            1.0               0.0               0.0   \n",
       "105195                           0.0               0.0               1.0   \n",
       "34101                            0.0               0.0               0.0   \n",
       "15002                            1.0               0.0               0.0   \n",
       "86077                            1.0               1.0               0.0   \n",
       "56445                            1.0               0.0               0.0   \n",
       "32990                            0.0               0.0               0.0   \n",
       "60570                            1.0               0.0               1.0   \n",
       "\n",
       "        review_quarter_4  \n",
       "89465                1.0  \n",
       "12824                1.0  \n",
       "47246                1.0  \n",
       "105195               0.0  \n",
       "34101                0.0  \n",
       "15002                1.0  \n",
       "86077                0.0  \n",
       "56445                0.0  \n",
       "32990                0.0  \n",
       "60570                0.0  \n",
       "\n",
       "[10 rows x 23 columns]"
      ]
     },
     "execution_count": 58,
     "metadata": {},
     "output_type": "execute_result"
    }
   ],
   "source": [
    "test_data.sample(10)"
   ]
  },
  {
   "cell_type": "code",
   "execution_count": 59,
   "id": "dc77b096",
   "metadata": {
    "execution": {
     "iopub.execute_input": "2024-04-08T19:06:45.943810Z",
     "iopub.status.busy": "2024-04-08T19:06:45.943030Z",
     "iopub.status.idle": "2024-04-08T19:06:45.945950Z",
     "shell.execute_reply": "2024-04-08T19:06:45.946538Z",
     "shell.execute_reply.started": "2024-04-08T18:51:05.295972Z"
    },
    "papermill": {
     "duration": 0.139142,
     "end_time": "2024-04-08T19:06:45.946752",
     "exception": false,
     "start_time": "2024-04-08T19:06:45.807610",
     "status": "completed"
    },
    "tags": []
   },
   "outputs": [],
   "source": [
    "test_data = test_data.drop(['reviewer_score'], axis=1)"
   ]
  },
  {
   "cell_type": "code",
   "execution_count": 60,
   "id": "e8d70b3a",
   "metadata": {
    "execution": {
     "iopub.execute_input": "2024-04-08T19:06:46.199783Z",
     "iopub.status.busy": "2024-04-08T19:06:46.199011Z",
     "iopub.status.idle": "2024-04-08T19:06:46.203521Z",
     "shell.execute_reply": "2024-04-08T19:06:46.204059Z",
     "shell.execute_reply.started": "2024-04-08T18:51:05.308017Z"
    },
    "papermill": {
     "duration": 0.137125,
     "end_time": "2024-04-08T19:06:46.204268",
     "exception": false,
     "start_time": "2024-04-08T19:06:46.067143",
     "status": "completed"
    },
    "tags": []
   },
   "outputs": [
    {
     "data": {
      "text/html": [
       "<div>\n",
       "<style scoped>\n",
       "    .dataframe tbody tr th:only-of-type {\n",
       "        vertical-align: middle;\n",
       "    }\n",
       "\n",
       "    .dataframe tbody tr th {\n",
       "        vertical-align: top;\n",
       "    }\n",
       "\n",
       "    .dataframe thead th {\n",
       "        text-align: right;\n",
       "    }\n",
       "</style>\n",
       "<table border=\"1\" class=\"dataframe\">\n",
       "  <thead>\n",
       "    <tr style=\"text-align: right;\">\n",
       "      <th></th>\n",
       "      <th>reviewer_score</th>\n",
       "      <th>id</th>\n",
       "    </tr>\n",
       "  </thead>\n",
       "  <tbody>\n",
       "    <tr>\n",
       "      <th>0</th>\n",
       "      <td>1</td>\n",
       "      <td>488440</td>\n",
       "    </tr>\n",
       "    <tr>\n",
       "      <th>1</th>\n",
       "      <td>10</td>\n",
       "      <td>274649</td>\n",
       "    </tr>\n",
       "    <tr>\n",
       "      <th>2</th>\n",
       "      <td>3</td>\n",
       "      <td>374688</td>\n",
       "    </tr>\n",
       "    <tr>\n",
       "      <th>3</th>\n",
       "      <td>10</td>\n",
       "      <td>404352</td>\n",
       "    </tr>\n",
       "    <tr>\n",
       "      <th>4</th>\n",
       "      <td>9</td>\n",
       "      <td>451596</td>\n",
       "    </tr>\n",
       "    <tr>\n",
       "      <th>...</th>\n",
       "      <td>...</td>\n",
       "      <td>...</td>\n",
       "    </tr>\n",
       "    <tr>\n",
       "      <th>128930</th>\n",
       "      <td>7</td>\n",
       "      <td>495812</td>\n",
       "    </tr>\n",
       "    <tr>\n",
       "      <th>128931</th>\n",
       "      <td>1</td>\n",
       "      <td>315577</td>\n",
       "    </tr>\n",
       "    <tr>\n",
       "      <th>128932</th>\n",
       "      <td>3</td>\n",
       "      <td>511968</td>\n",
       "    </tr>\n",
       "    <tr>\n",
       "      <th>128933</th>\n",
       "      <td>6</td>\n",
       "      <td>303386</td>\n",
       "    </tr>\n",
       "    <tr>\n",
       "      <th>128934</th>\n",
       "      <td>5</td>\n",
       "      <td>103157</td>\n",
       "    </tr>\n",
       "  </tbody>\n",
       "</table>\n",
       "<p>128935 rows × 2 columns</p>\n",
       "</div>"
      ],
      "text/plain": [
       "        reviewer_score      id\n",
       "0                    1  488440\n",
       "1                   10  274649\n",
       "2                    3  374688\n",
       "3                   10  404352\n",
       "4                    9  451596\n",
       "...                ...     ...\n",
       "128930               7  495812\n",
       "128931               1  315577\n",
       "128932               3  511968\n",
       "128933               6  303386\n",
       "128934               5  103157\n",
       "\n",
       "[128935 rows x 2 columns]"
      ]
     },
     "execution_count": 60,
     "metadata": {},
     "output_type": "execute_result"
    }
   ],
   "source": [
    "sample_submission"
   ]
  },
  {
   "cell_type": "code",
   "execution_count": 61,
   "id": "6c75f319",
   "metadata": {
    "execution": {
     "iopub.execute_input": "2024-04-08T19:06:46.457484Z",
     "iopub.status.busy": "2024-04-08T19:06:46.456673Z",
     "iopub.status.idle": "2024-04-08T19:06:49.079391Z",
     "shell.execute_reply": "2024-04-08T19:06:49.080070Z",
     "shell.execute_reply.started": "2024-04-08T18:51:05.326220Z"
    },
    "papermill": {
     "duration": 2.754934,
     "end_time": "2024-04-08T19:06:49.080289",
     "exception": false,
     "start_time": "2024-04-08T19:06:46.325355",
     "status": "completed"
    },
    "tags": []
   },
   "outputs": [
    {
     "name": "stderr",
     "output_type": "stream",
     "text": [
      "[Parallel(n_jobs=4)]: Using backend ThreadingBackend with 4 concurrent workers.\n",
      "[Parallel(n_jobs=4)]: Done  42 tasks      | elapsed:    1.1s\n",
      "[Parallel(n_jobs=4)]: Done 100 out of 100 | elapsed:    2.6s finished\n"
     ]
    }
   ],
   "source": [
    "predict_submission = model.predict(test_data)"
   ]
  },
  {
   "cell_type": "code",
   "execution_count": 62,
   "id": "88358478",
   "metadata": {
    "execution": {
     "iopub.execute_input": "2024-04-08T19:06:49.336596Z",
     "iopub.status.busy": "2024-04-08T19:06:49.335714Z",
     "iopub.status.idle": "2024-04-08T19:06:49.339353Z",
     "shell.execute_reply": "2024-04-08T19:06:49.338621Z",
     "shell.execute_reply.started": "2024-04-08T18:51:08.159566Z"
    },
    "papermill": {
     "duration": 0.13523,
     "end_time": "2024-04-08T19:06:49.339525",
     "exception": false,
     "start_time": "2024-04-08T19:06:49.204295",
     "status": "completed"
    },
    "tags": []
   },
   "outputs": [
    {
     "data": {
      "text/plain": [
       "array([8.516, 7.48 , 8.8  , ..., 8.277, 9.621, 6.707])"
      ]
     },
     "execution_count": 62,
     "metadata": {},
     "output_type": "execute_result"
    }
   ],
   "source": [
    "predict_submission"
   ]
  },
  {
   "cell_type": "code",
   "execution_count": 63,
   "id": "31fc1b95",
   "metadata": {
    "execution": {
     "iopub.execute_input": "2024-04-08T19:06:49.597472Z",
     "iopub.status.busy": "2024-04-08T19:06:49.596675Z",
     "iopub.status.idle": "2024-04-08T19:06:49.601248Z",
     "shell.execute_reply": "2024-04-08T19:06:49.600593Z",
     "shell.execute_reply.started": "2024-04-08T18:51:08.168320Z"
    },
    "papermill": {
     "duration": 0.134231,
     "end_time": "2024-04-08T19:06:49.601417",
     "exception": false,
     "start_time": "2024-04-08T19:06:49.467186",
     "status": "completed"
    },
    "tags": []
   },
   "outputs": [
    {
     "data": {
      "text/plain": [
       "['reviewer_score', 'id']"
      ]
     },
     "execution_count": 63,
     "metadata": {},
     "output_type": "execute_result"
    }
   ],
   "source": [
    "list(sample_submission)"
   ]
  },
  {
   "cell_type": "code",
   "execution_count": 64,
   "id": "41a2a999",
   "metadata": {
    "execution": {
     "iopub.execute_input": "2024-04-08T19:06:49.859626Z",
     "iopub.status.busy": "2024-04-08T19:06:49.858797Z",
     "iopub.status.idle": "2024-04-08T19:06:50.305420Z",
     "shell.execute_reply": "2024-04-08T19:06:50.304818Z",
     "shell.execute_reply.started": "2024-04-08T18:51:08.187277Z"
    },
    "papermill": {
     "duration": 0.578751,
     "end_time": "2024-04-08T19:06:50.305586",
     "exception": false,
     "start_time": "2024-04-08T19:06:49.726835",
     "status": "completed"
    },
    "tags": []
   },
   "outputs": [
    {
     "data": {
      "text/html": [
       "<div>\n",
       "<style scoped>\n",
       "    .dataframe tbody tr th:only-of-type {\n",
       "        vertical-align: middle;\n",
       "    }\n",
       "\n",
       "    .dataframe tbody tr th {\n",
       "        vertical-align: top;\n",
       "    }\n",
       "\n",
       "    .dataframe thead th {\n",
       "        text-align: right;\n",
       "    }\n",
       "</style>\n",
       "<table border=\"1\" class=\"dataframe\">\n",
       "  <thead>\n",
       "    <tr style=\"text-align: right;\">\n",
       "      <th></th>\n",
       "      <th>reviewer_score</th>\n",
       "      <th>id</th>\n",
       "    </tr>\n",
       "  </thead>\n",
       "  <tbody>\n",
       "    <tr>\n",
       "      <th>0</th>\n",
       "      <td>8.516</td>\n",
       "      <td>488440</td>\n",
       "    </tr>\n",
       "    <tr>\n",
       "      <th>1</th>\n",
       "      <td>7.480</td>\n",
       "      <td>274649</td>\n",
       "    </tr>\n",
       "    <tr>\n",
       "      <th>2</th>\n",
       "      <td>8.800</td>\n",
       "      <td>374688</td>\n",
       "    </tr>\n",
       "    <tr>\n",
       "      <th>3</th>\n",
       "      <td>9.762</td>\n",
       "      <td>404352</td>\n",
       "    </tr>\n",
       "    <tr>\n",
       "      <th>4</th>\n",
       "      <td>9.581</td>\n",
       "      <td>451596</td>\n",
       "    </tr>\n",
       "    <tr>\n",
       "      <th>5</th>\n",
       "      <td>9.058</td>\n",
       "      <td>302161</td>\n",
       "    </tr>\n",
       "    <tr>\n",
       "      <th>6</th>\n",
       "      <td>7.506</td>\n",
       "      <td>317079</td>\n",
       "    </tr>\n",
       "    <tr>\n",
       "      <th>7</th>\n",
       "      <td>7.505</td>\n",
       "      <td>13963</td>\n",
       "    </tr>\n",
       "    <tr>\n",
       "      <th>8</th>\n",
       "      <td>8.178</td>\n",
       "      <td>159785</td>\n",
       "    </tr>\n",
       "    <tr>\n",
       "      <th>9</th>\n",
       "      <td>7.385</td>\n",
       "      <td>195089</td>\n",
       "    </tr>\n",
       "  </tbody>\n",
       "</table>\n",
       "</div>"
      ],
      "text/plain": [
       "   reviewer_score      id\n",
       "0           8.516  488440\n",
       "1           7.480  274649\n",
       "2           8.800  374688\n",
       "3           9.762  404352\n",
       "4           9.581  451596\n",
       "5           9.058  302161\n",
       "6           7.506  317079\n",
       "7           7.505   13963\n",
       "8           8.178  159785\n",
       "9           7.385  195089"
      ]
     },
     "execution_count": 64,
     "metadata": {},
     "output_type": "execute_result"
    }
   ],
   "source": [
    "sample_submission['reviewer_score'] = predict_submission\n",
    "sample_submission.to_csv('submission.csv', index=False)\n",
    "sample_submission.head(10)"
   ]
  },
  {
   "cell_type": "markdown",
   "id": "3fe7def3",
   "metadata": {
    "papermill": {
     "duration": 0.127323,
     "end_time": "2024-04-08T19:06:50.558510",
     "exception": false,
     "start_time": "2024-04-08T19:06:50.431187",
     "status": "completed"
    },
    "tags": []
   },
   "source": [
    "### Выводы по проекту:\n",
    "\n",
    "В ходе выполнения проекта мы ознакомились с входными данными и подготовили 22 признака для обучения модели. Мы оценили эффективность модели на основании метрики MAPE, которая составили около 12.6 %. Наиболее важными признаками для данной модели оказались:\n",
    "\n",
    "- признаки анализа тональности текста (positive_review_compound, negative_review_neg, negative_review_compound, positive_review_pos и negative_review_pos);\n",
    "- общее количество слов в отрицательном отзыв (review_total_negative_word_counts);\n",
    "- средний балл отеля (average_score);\n",
    "- общее количество действительных отзывов об отеле (total_number_of_reviews);\n",
    "- общее количество слов в положительном отзыве (review_total_positive_word_counts);\n",
    "- количество отзывов, которые рецензенты дали в прошлом (total_number_of_reviews_reviewer_has_given).\n",
    "\n",
    "Также приняли участие в соревновании Kaggle.\n"
   ]
  }
 ],
 "metadata": {
  "kaggle": {
   "accelerator": "none",
   "dataSources": [
    {
     "databundleVersionId": 3207826,
     "sourceId": 34288,
     "sourceType": "competition"
    }
   ],
   "dockerImageVersionId": 30157,
   "isGpuEnabled": false,
   "isInternetEnabled": false,
   "language": "python",
   "sourceType": "notebook"
  },
  "kernelspec": {
   "display_name": "Python 3",
   "language": "python",
   "name": "python3"
  },
  "language_info": {
   "codemirror_mode": {
    "name": "ipython",
    "version": 3
   },
   "file_extension": ".py",
   "mimetype": "text/x-python",
   "name": "python",
   "nbconvert_exporter": "python",
   "pygments_lexer": "ipython3",
   "version": "3.7.12"
  },
  "papermill": {
   "default_parameters": {},
   "duration": 584.605107,
   "end_time": "2024-04-08T19:06:52.099978",
   "environment_variables": {},
   "exception": null,
   "input_path": "__notebook__.ipynb",
   "output_path": "__notebook__.ipynb",
   "parameters": {},
   "start_time": "2024-04-08T18:57:07.494871",
   "version": "2.3.3"
  }
 },
 "nbformat": 4,
 "nbformat_minor": 5
}
